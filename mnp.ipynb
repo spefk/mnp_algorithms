{
 "cells": [
  {
   "cell_type": "markdown",
   "metadata": {},
   "source": [
    "# Examples of usage"
   ]
  },
  {
   "cell_type": "code",
   "execution_count": 1,
   "metadata": {},
   "outputs": [],
   "source": [
    "import numpy as np\n",
    "import logging"
   ]
  },
  {
   "cell_type": "code",
   "execution_count": 2,
   "metadata": {},
   "outputs": [],
   "source": [
    "logging.basicConfig()\n",
    "logger = logging.getLogger(__name__)\n",
    "logger.setLevel(logging.INFO)"
   ]
  },
  {
   "cell_type": "code",
   "execution_count": 4,
   "metadata": {},
   "outputs": [],
   "source": [
    "from core import WMFileSource, PythonSource, MNPSolver\n",
    "from mnp import (GurobiAlgorithm, GreedyAlgorithm, SimulatedAnnealing,\n",
    "                transition_greedy_n, transition_greedy_one, temperature_div,\n",
    "                temperature_div_log, transition_greedy_many)\n"
   ]
  },
  {
   "cell_type": "markdown",
   "metadata": {},
   "source": [
    "# Small Instance"
   ]
  },
  {
   "cell_type": "code",
   "execution_count": 5,
   "metadata": {
    "collapsed": false,
    "pycharm": {
     "name": "#%%\n"
    }
   },
   "outputs": [],
   "source": [
    "ext_s_one = PythonSource(\n",
    "    data=[8, 6, 7, 4, 5],\n",
    "    item_type=float,\n",
    "    to_collection=(lambda x: np.array(list(x))),\n",
    ")"
   ]
  },
  {
   "cell_type": "markdown",
   "metadata": {},
   "source": [
    "## Greedy Algorithm"
   ]
  },
  {
   "cell_type": "code",
   "execution_count": 6,
   "metadata": {
    "collapsed": false,
    "pycharm": {
     "name": "#%%\n"
    }
   },
   "outputs": [
    {
     "data": {
      "text/plain": [
       "MNP SOLVER INSTANCE\n",
       "SOURCE: <core.data_source.PythonSource object at 0x7f9cab7fb580>\n",
       "ALGORITHM: <mnp.greedy.GreedyAlgorithm object at 0x7f9cab7fb970>\n",
       "OF: 6.0\n",
       "SETS:\n",
       "SET #0: [8]\n",
       "SET #1: [7, 4]\n",
       "SET #2: [6, 5]\n",
       "SET SUMS: 8 11 11"
      ]
     },
     "execution_count": 6,
     "metadata": {},
     "output_type": "execute_result"
    }
   ],
   "source": [
    "solver = MNPSolver(source=ext_s_one, algorithm=GreedyAlgorithm(number_of_sets=3))\n",
    "greedy_of, greedy_sets = solver.solve_problem()\n",
    "solver"
   ]
  },
  {
   "cell_type": "markdown",
   "metadata": {},
   "source": [
    "## Simulated Annealing"
   ]
  },
  {
   "cell_type": "code",
   "execution_count": 7,
   "metadata": {},
   "outputs": [
    {
     "data": {
      "text/plain": [
       "MNP SOLVER INSTANCE\n",
       "SOURCE: <core.data_source.PythonSource object at 0x7f9cab7fb580>\n",
       "ALGORITHM: <mnp.simulated_annealing.SimulatedAnnealing object at 0x7f9cab811100>\n",
       "OF: 6.0\n",
       "SETS:\n",
       "SET #0: [7, 4]\n",
       "SET #1: [8]\n",
       "SET #2: [6, 5]\n",
       "SET SUMS: 11 8 11"
      ]
     },
     "execution_count": 7,
     "metadata": {},
     "output_type": "execute_result"
    }
   ],
   "source": [
    "solver = MNPSolver(\n",
    "    source=ext_s_one,\n",
    "    algorithm=SimulatedAnnealing(\n",
    "        start_state=[[8, 7, 4, 6, 5], [], []],\n",
    "        transition_func=transition_greedy_n(7),\n",
    "        temperature_func=temperature_div_log,\n",
    "        t_max=10**6,\n",
    "        t_min=10**-12,\n",
    "        max_iter=10**2,\n",
    "        number_of_sets=3,\n",
    "    )\n",
    ")\n",
    "_of, _sets = solver.solve_problem()\n",
    "solver"
   ]
  },
  {
   "cell_type": "markdown",
   "metadata": {},
   "source": [
    "## Gurobi"
   ]
  },
  {
   "cell_type": "code",
   "execution_count": 8,
   "metadata": {
    "collapsed": false,
    "pycharm": {
     "name": "#%%\n"
    }
   },
   "outputs": [
    {
     "name": "stdout",
     "output_type": "stream",
     "text": [
      "Restricted license - for non-production use only - expires 2022-01-13\n",
      "Gurobi Optimizer version 9.1.2 build v9.1.2rc0 (linux64)\n",
      "Thread count: 4 physical cores, 8 logical processors, using up to 8 threads\n",
      "Optimize a model with 5 rows, 15 columns and 15 nonzeros\n",
      "Model fingerprint: 0x255c147a\n",
      "Model has 45 quadratic objective terms\n",
      "Variable types: 0 continuous, 15 integer (15 binary)\n",
      "Coefficient statistics:\n",
      "  Matrix range     [1e+00, 1e+00]\n",
      "  Objective range  [8e+01, 2e+02]\n",
      "  QObjective range [3e+01, 2e+02]\n",
      "  Bounds range     [1e+00, 1e+00]\n",
      "  RHS range        [1e+00, 1e+00]\n",
      "Found heuristic solution: objective 600.0000000\n",
      "Presolve time: 0.00s\n",
      "Presolved: 35 rows, 45 columns, 105 nonzeros\n",
      "Variable types: 0 continuous, 45 integer (45 binary)\n",
      "\n",
      "Root relaxation: objective -1.100000e+02, 11 iterations, 0.00 seconds\n",
      "\n",
      "    Nodes    |    Current Node    |     Objective Bounds      |     Work\n",
      " Expl Unexpl |  Obj  Depth IntInf | Incumbent    BestBd   Gap | It/Node Time\n",
      "\n",
      "     0     0 -110.00000    0    8  600.00000 -110.00000   118%     -    0s\n",
      "H    0     0                      24.0000000 -110.00000   558%     -    0s\n",
      "H    0     0                       6.0000000 -110.00000  1933%     -    0s\n",
      "     0     0 -110.00000    0   13    6.00000 -110.00000  1933%     -    0s\n",
      "     0     0    6.00000    0   10    6.00000    6.00000  0.00%     -    0s\n",
      "\n",
      "Cutting planes:\n",
      "  Gomory: 3\n",
      "  Zero half: 15\n",
      "  RLT: 1\n",
      "\n",
      "Explored 1 nodes (48 simplex iterations) in 0.08 seconds\n",
      "Thread count was 8 (of 8 available processors)\n",
      "\n",
      "Solution count 3: 6 24 600 \n",
      "\n",
      "Optimal solution found (tolerance 1.00e-04)\n",
      "Best objective 6.000000000000e+00, best bound 6.000000000000e+00, gap 0.0000%\n"
     ]
    },
    {
     "data": {
      "text/plain": [
       "MNP SOLVER INSTANCE\n",
       "SOURCE: <core.data_source.PythonSource object at 0x7f9cab7fb580>\n",
       "ALGORITHM: <mnp.exact.GurobiAlgorithm object at 0x7f9cab811700>\n",
       "OF: 6.0\n",
       "SETS:\n",
       "SET #0: [7, 4]\n",
       "SET #1: [6, 5]\n",
       "SET #2: [8]\n",
       "SET SUMS: 11 11 8"
      ]
     },
     "execution_count": 8,
     "metadata": {},
     "output_type": "execute_result"
    }
   ],
   "source": [
    "solver = MNPSolver(source=ext_s_one, algorithm=GurobiAlgorithm(number_of_sets=3))\n",
    "_of, _sets = solver.solve_problem()\n",
    "solver"
   ]
  },
  {
   "cell_type": "markdown",
   "metadata": {},
   "source": [
    "# Big instance"
   ]
  },
  {
   "cell_type": "code",
   "execution_count": 9,
   "metadata": {},
   "outputs": [],
   "source": [
    "wms = WMFileSource(\n",
    "    filepath='instances/data.txt',\n",
    "    item_type=int,\n",
    "    to_collection=(lambda x: np.array(list(x))),\n",
    ")"
   ]
  },
  {
   "cell_type": "markdown",
   "metadata": {},
   "source": [
    "## Greedy Algorithm"
   ]
  },
  {
   "cell_type": "code",
   "execution_count": 10,
   "metadata": {
    "collapsed": false,
    "pycharm": {
     "name": "#%%\n"
    }
   },
   "outputs": [
    {
     "data": {
      "text/plain": [
       "MNP SOLVER INSTANCE\n",
       "SOURCE: <core.data_source.WMFileSource object at 0x7f9cab7fb4f0>\n",
       "ALGORITHM: <mnp.greedy.GreedyAlgorithm object at 0x7f9cab811220>\n",
       "OF: 7612188.0\n",
       "SETS:\n",
       "SET #0: [387162, 201347, 89243, 81049, 69547, 60230, 51051, 45444, 30247, 23256, 16676]\n",
       "SET #1: [375698, 206707, 89859, 81724, 71640, 65415, 50152, 38229, 37140, 21309, 18793]\n",
       "SET #2: [372906, 208596, 90314, 82469, 70866, 65893, 49903, 38230, 38206, 20440, 19311]\n",
       "SET #3: [357826, 210543, 95292, 88151, 71789, 68027, 49046, 40868, 34194, 23080, 14485, 1933, 1302]\n",
       "SET #4: [349541, 211791, 99148, 88870, 80539, 55712, 53662, 46912, 27698, 26581, 9948, 6415]\n",
       "SET #5: [346671, 219218, 98418, 86760, 78372, 56643, 52539, 47239, 27707, 27196, 8993, 7059]\n",
       "SET #6: [342797, 228372, 92616, 87745, 73494, 66449, 49418, 40264, 34999, 22385, 16959]\n",
       "SET #7: [339311, 234039, 92018, 84625, 78777, 59258, 51914, 44558, 30807, 23523, 14191, 3606]\n",
       "SET #8: [339195, 240534, 91393, 83809, 69933, 66543, 49526, 39093, 35133, 25408, 9152, 7314]\n",
       "SET #9: [330057, 240554, 94676, 85270, 78406, 57954, 52350, 46232, 28470, 26308, 10360, 5979]\n",
       "SET #10: [327670, 252972, 90727, 83002, 70270, 67680, 47520, 45268, 30137, 24611, 11015, 5968]\n",
       "SET #11: [314306, 254474, 95204, 87578, 72297, 67749, 49158, 40391, 34940, 22890, 13030, 4519]\n",
       "SET #12: [311060, 260107, 92820, 87539, 74335, 63754, 50601, 44446, 30733, 23181, 15822, 1471]\n",
       "SET #13: [303036, 262574, 98472, 87268, 75173, 63483, 50579, 43489, 32633, 20981, 20176]\n",
       "SET #14: [301803, 264621, 97998, 86717, 78134, 56716, 53582, 45821, 28756, 25811, 10588, 5999]\n",
       "SET #15: [298160, 270015, 96607, 86551, 76385, 62852, 50322, 39175, 35129, 24948, 10373, 6276]\n",
       "SET #16: [297393, 271928, 94830, 87100, 76620, 60486, 51893, 44229, 31435, 22893, 15515, 1502]\n",
       "SET #17: [293515, 279671, 92359, 83946, 80457, 55124, 53692, 46999, 28215, 25873, 11812, 4830]\n",
       "SET #18: [289260, 282977, 92414, 86687, 75469, 63333, 50472, 41794, 33906, 21753, 17355]\n",
       "SET #19: [284536, 283620, 97302, 84438, 79350, 57889, 52164, 45839, 29092, 25623, 11501, 4967]\n",
       "SET SUMS: 1055252 1056666 1057134 1056536 1056817 1056815 1055498 1056627 1057033 1056616 1056840 1056536 1055869 1057864 1056546 1056793 1055824 1056493 1055420 1056321"
      ]
     },
     "execution_count": 10,
     "metadata": {},
     "output_type": "execute_result"
    }
   ],
   "source": [
    "solver = MNPSolver(source=wms, algorithm=GreedyAlgorithm(number_of_sets=20))\n",
    "greedy_of, greedy_sets = solver.solve_problem()\n",
    "solver"
   ]
  },
  {
   "cell_type": "markdown",
   "metadata": {},
   "source": [
    "## Simulated Annealing"
   ]
  },
  {
   "cell_type": "code",
   "execution_count": 11,
   "metadata": {},
   "outputs": [
    {
     "name": "stderr",
     "output_type": "stream",
     "text": [
      "/home/spefk/programming/mnp_algorithms/mnp/simulated_annealing.py:113: RuntimeWarning: overflow encountered in double_scalars\n",
      "  if of_cur > of_new or random.random() < np.exp(-(of_new - of_cur) / t_cur):\n"
     ]
    },
    {
     "data": {
      "text/plain": [
       "MNP SOLVER INSTANCE\n",
       "SOURCE: <core.data_source.WMFileSource object at 0x7f9cab7fb4f0>\n",
       "ALGORITHM: <mnp.simulated_annealing.SimulatedAnnealing object at 0x7f9cab811310>\n",
       "OF: 4912642.0\n",
       "SETS:\n",
       "SET #0: [201347, 81049, 45444, 60230, 89243, 51051, 387162, 30247, 16676, 23256, 70270]\n",
       "SET #1: [18793, 71640, 37140, 65415, 21309, 206707, 375698, 81724, 38229, 89859, 49418]\n",
       "SET #2: [49903, 19311, 20440, 38206, 38230, 82469, 208596, 90314, 70866, 372906, 65893]\n",
       "SET #3: [34194, 88151, 210543, 357826, 14485, 95292, 23080, 1471, 68027, 49046, 1302, 71789, 40868]\n",
       "SET #4: [6415, 26581, 211791, 349541, 27698, 9948, 80539, 53662, 55712, 99148, 46912, 88870]\n",
       "SET #5: [346671, 56643, 27196, 78372, 47239, 98418, 7059, 86760, 52164, 219218, 8993, 27707]\n",
       "SET #6: [34999, 342797, 66449, 40264, 16959, 87745, 50152, 92616, 228372, 22385, 73494]\n",
       "SET #7: [51914, 92018, 78777, 234039, 44558, 59258, 3606, 339311, 14191, 30733, 84625, 23523]\n",
       "SET #8: [25408, 240534, 91393, 49526, 69933, 35133, 83809, 39093, 9152, 339195, 66543, 7314]\n",
       "SET #9: [52350, 78406, 94676, 10360, 85270, 5979, 240554, 46232, 28470, 57954, 26308, 330057]\n",
       "SET #10: [24611, 11015, 67680, 90727, 5968, 45268, 327670, 83002, 30137, 252972, 47520, 69547]\n",
       "SET #11: [40391, 22890, 49158, 72297, 87578, 254474, 4519, 67749, 13030, 314306, 34940, 95204]\n",
       "SET #12: [63754, 30807, 260107, 1933, 74335, 87539, 23181, 92820, 50601, 311060, 15822, 44446]\n",
       "SET #13: [262574, 20981, 32633, 98472, 75173, 43489, 87268, 303036, 20176, 63483, 50472]\n",
       "SET #14: [97998, 10588, 301803, 56716, 78134, 264621, 5999, 45821, 53582, 25811, 28756, 86717]\n",
       "SET #15: [62852, 298160, 86551, 96607, 35129, 39175, 10373, 50322, 6276, 270015, 24948, 76385]\n",
       "SET #16: [51893, 76620, 22893, 31435, 44229, 60486, 15515, 297393, 94830, 87100, 271928, 1502]\n",
       "SET #17: [92359, 46999, 293515, 55124, 28215, 80457, 83946, 53692, 279671, 11812, 25873, 4830]\n",
       "SET #18: [282977, 17355, 21753, 75469, 33906, 50579, 41794, 289260, 92414, 63333, 86687]\n",
       "SET #19: [4967, 84438, 284536, 29092, 57889, 283620, 52539, 79350, 25623, 11501, 45839, 97302]\n",
       "SET SUMS: 1055975 1055932 1057134 1056074 1056817 1056440 1056232 1056553 1057033 1056616 1056117 1056536 1056405 1057757 1056546 1056793 1055824 1056493 1055527 1056696"
      ]
     },
     "execution_count": 11,
     "metadata": {},
     "output_type": "execute_result"
    }
   ],
   "source": [
    "solver = MNPSolver(\n",
    "    source=wms,\n",
    "    algorithm=SimulatedAnnealing(\n",
    "        start_state=greedy_sets,\n",
    "        transition_func=transition_greedy_many(5),\n",
    "        temperature_func=temperature_div_log,\n",
    "        t_max=10**5,\n",
    "        t_min=0,\n",
    "        max_iter=10**5,\n",
    "        number_of_sets=20,\n",
    "    )\n",
    ")\n",
    "_of, _sets = solver.solve_problem()\n",
    "solver"
   ]
  },
  {
   "cell_type": "markdown",
   "metadata": {},
   "source": [
    "## Tabu Search"
   ]
  },
  {
   "cell_type": "code",
   "execution_count": null,
   "metadata": {},
   "outputs": [],
   "source": []
  },
  {
   "cell_type": "markdown",
   "metadata": {},
   "source": [
    "## Ant Colony Optimization\n"
   ]
  },
  {
   "cell_type": "code",
   "execution_count": null,
   "metadata": {},
   "outputs": [],
   "source": []
  },
  {
   "cell_type": "markdown",
   "metadata": {},
   "source": [
    "# Benchmarking"
   ]
  },
  {
   "cell_type": "code",
   "execution_count": null,
   "metadata": {},
   "outputs": [],
   "source": [
    "# TODO: Table Algorithm: (OF, Time)"
   ]
  },
  {
   "cell_type": "code",
   "execution_count": null,
   "metadata": {},
   "outputs": [],
   "source": [
    "# TODO: Plot N/Time"
   ]
  }
 ],
 "metadata": {
  "interpreter": {
   "hash": "64cdf6a9d8450618308b74148338172be787ceddd58ac68f39110dafa8fb1e37"
  },
  "kernelspec": {
   "display_name": "Python 3.8.10 64-bit ('.env': venv)",
   "name": "python3"
  },
  "language_info": {
   "codemirror_mode": {
    "name": "ipython",
    "version": 3
   },
   "file_extension": ".py",
   "mimetype": "text/x-python",
   "name": "python",
   "nbconvert_exporter": "python",
   "pygments_lexer": "ipython3",
   "version": "3.8.10"
  },
  "orig_nbformat": 4
 },
 "nbformat": 4,
 "nbformat_minor": 2
}
