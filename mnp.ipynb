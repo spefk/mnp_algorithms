{
 "cells": [
  {
   "cell_type": "markdown",
   "source": [
    "# Examples of usage"
   ],
   "metadata": {}
  },
  {
   "cell_type": "code",
   "execution_count": 2,
   "source": [
    "import numpy as np\n",
    "import logging"
   ],
   "outputs": [],
   "metadata": {}
  },
  {
   "cell_type": "code",
   "execution_count": 3,
   "source": [
    "logging.basicConfig()\n",
    "logger = logging.getLogger(__name__)\n",
    "logger.setLevel(logging.INFO)"
   ],
   "outputs": [],
   "metadata": {}
  },
  {
   "cell_type": "code",
   "execution_count": 4,
   "source": [
    "from source.core import WMFileSource, ExternalSource\n",
    "from source.mnp import (MNP, GurobiAlgorithm, GreedyAlgorithm, SimulatedAnnealing,\n",
    "                        transition_greedy_n, transition_greedy_one, temperature_div,\n",
    "                        temperature_div_log, transition_greedy_many)\n"
   ],
   "outputs": [],
   "metadata": {}
  },
  {
   "cell_type": "markdown",
   "source": [
    "## Small Instances"
   ],
   "metadata": {}
  },
  {
   "cell_type": "code",
   "execution_count": 5,
   "source": [
    "ext_s_one = ExternalSource(\n",
    "    data=[8, 6, 7, 4, 5],\n",
    "    item_type=float,\n",
    "    to_collection=(lambda x: np.array(list(x))),\n",
    ")"
   ],
   "outputs": [],
   "metadata": {
    "collapsed": false,
    "pycharm": {
     "name": "#%%\n"
    }
   }
  },
  {
   "cell_type": "code",
   "execution_count": 6,
   "source": [
    "solver = MNP(source=ext_s_one, algorithm=GreedyAlgorithm(number_of_sets=3))\n",
    "greedy_of, greedy_sets = solver.solve_problem()\n",
    "solver"
   ],
   "outputs": [
    {
     "output_type": "execute_result",
     "data": {
      "text/plain": [
       "\n",
       "MNP SOLVER INSTANCE\n",
       "SOURCE: <source.core.data_source.ExternalSource object at 0x7fcfd8024640>\n",
       "ALGORITHM: <source.mnp.heuristics.GreedyAlgorithm object at 0x7fcfd8024520>\n",
       "\n",
       "OF: 6.0\n",
       "SETS:\n",
       "SET #0: [8]\n",
       "SET #1: [7, 4]\n",
       "SET #2: [6, 5]\n",
       "SET SUMS: 8 11 11"
      ]
     },
     "metadata": {},
     "execution_count": 6
    }
   ],
   "metadata": {
    "collapsed": false,
    "pycharm": {
     "name": "#%%\n"
    }
   }
  },
  {
   "cell_type": "code",
   "execution_count": 7,
   "source": [
    "solver = MNP(\n",
    "    source=ext_s_one,\n",
    "    algorithm=SimulatedAnnealing(\n",
    "        start_state=[[8, 7, 4, 6, 5], [], []],\n",
    "        transition_func=transition_greedy_n(7),\n",
    "        temperature_func=temperature_div_log,\n",
    "        t_max=10**6,\n",
    "        t_min=10**-12,\n",
    "        max_iter=10**2,\n",
    "        number_of_sets=3,\n",
    "    )\n",
    ")\n",
    "_of, _sets = solver.solve_problem()\n",
    "solver"
   ],
   "outputs": [
    {
     "output_type": "execute_result",
     "data": {
      "text/plain": [
       "\n",
       "MNP SOLVER INSTANCE\n",
       "SOURCE: <source.core.data_source.ExternalSource object at 0x7fcfd8024640>\n",
       "ALGORITHM: <source.mnp.heuristics.SimulatedAnnealing object at 0x7fcfd803d040>\n",
       "\n",
       "OF: 14.0\n",
       "SETS:\n",
       "SET #0: [8]\n",
       "SET #1: [5, 4]\n",
       "SET #2: [6, 7]\n",
       "SET SUMS: 8 9 13"
      ]
     },
     "metadata": {},
     "execution_count": 7
    }
   ],
   "metadata": {}
  },
  {
   "cell_type": "code",
   "execution_count": 8,
   "source": [
    "solver = MNP(source=ext_s_one, algorithm=GurobiAlgorithm(number_of_sets=3))\n",
    "_of, _sets = solver.solve_problem()\n",
    "solver"
   ],
   "outputs": [
    {
     "output_type": "stream",
     "name": "stdout",
     "text": [
      "Academic license - for non-commercial use only - expires 2021-11-16\n",
      "Using license file /home/spefk/gurobi.lic\n",
      "Gurobi Optimizer version 9.1.2 build v9.1.2rc0 (linux64)\n",
      "Thread count: 4 physical cores, 8 logical processors, using up to 8 threads\n",
      "Optimize a model with 5 rows, 15 columns and 15 nonzeros\n",
      "Model fingerprint: 0x255c147a\n",
      "Model has 45 quadratic objective terms\n",
      "Variable types: 0 continuous, 15 integer (15 binary)\n",
      "Coefficient statistics:\n",
      "  Matrix range     [1e+00, 1e+00]\n",
      "  Objective range  [8e+01, 2e+02]\n",
      "  QObjective range [3e+01, 2e+02]\n",
      "  Bounds range     [1e+00, 1e+00]\n",
      "  RHS range        [1e+00, 1e+00]\n",
      "Found heuristic solution: objective 600.0000000\n",
      "Presolve time: 0.00s\n",
      "Presolved: 35 rows, 45 columns, 105 nonzeros\n",
      "Variable types: 0 continuous, 45 integer (45 binary)\n",
      "\n",
      "Root relaxation: objective -1.100000e+02, 11 iterations, 0.00 seconds\n",
      "\n",
      "    Nodes    |    Current Node    |     Objective Bounds      |     Work\n",
      " Expl Unexpl |  Obj  Depth IntInf | Incumbent    BestBd   Gap | It/Node Time\n",
      "\n",
      "     0     0 -110.00000    0    8  600.00000 -110.00000   118%     -    0s\n",
      "H    0     0                      24.0000000 -110.00000   558%     -    0s\n",
      "H    0     0                       6.0000000 -110.00000  1933%     -    0s\n",
      "     0     0 -110.00000    0   13    6.00000 -110.00000  1933%     -    0s\n",
      "     0     0    6.00000    0   10    6.00000    6.00000  0.00%     -    0s\n",
      "\n",
      "Cutting planes:\n",
      "  Gomory: 3\n",
      "  Zero half: 15\n",
      "  RLT: 1\n",
      "\n",
      "Explored 1 nodes (48 simplex iterations) in 0.05 seconds\n",
      "Thread count was 8 (of 8 available processors)\n",
      "\n",
      "Solution count 3: 6 24 600 \n",
      "\n",
      "Optimal solution found (tolerance 1.00e-04)\n",
      "Best objective 6.000000000000e+00, best bound 6.000000000000e+00, gap 0.0000%\n"
     ]
    },
    {
     "output_type": "execute_result",
     "data": {
      "text/plain": [
       "\n",
       "MNP SOLVER INSTANCE\n",
       "SOURCE: <source.core.data_source.ExternalSource object at 0x7fcfd8024640>\n",
       "ALGORITHM: <source.mnp.exact.GurobiAlgorithm object at 0x7fcfe808a4f0>\n",
       "\n",
       "OF: 6.0\n",
       "SETS:\n",
       "SET #0: [7, 4]\n",
       "SET #1: [6, 5]\n",
       "SET #2: [8]\n",
       "SET SUMS: 11 11 8"
      ]
     },
     "metadata": {},
     "execution_count": 8
    }
   ],
   "metadata": {
    "collapsed": false,
    "pycharm": {
     "name": "#%%\n"
    }
   }
  },
  {
   "cell_type": "code",
   "execution_count": 9,
   "source": [
    "# TODO: Plot N/Time"
   ],
   "outputs": [],
   "metadata": {
    "collapsed": false,
    "pycharm": {
     "name": "#%%\n"
    }
   }
  },
  {
   "cell_type": "markdown",
   "source": [
    "## Big instance"
   ],
   "metadata": {}
  },
  {
   "cell_type": "code",
   "execution_count": 10,
   "source": [
    "wms = WMFileSource(\n",
    "    filepath='tests/instances/data.txt',\n",
    "    item_type=int,\n",
    "    to_collection=(lambda x: np.array(list(x))),\n",
    ")"
   ],
   "outputs": [],
   "metadata": {}
  },
  {
   "cell_type": "code",
   "execution_count": 11,
   "source": [
    "solver = MNP(source=wms, algorithm=GreedyAlgorithm(number_of_sets=20))\n",
    "greedy_of, greedy_sets = solver.solve_problem()\n",
    "solver"
   ],
   "outputs": [
    {
     "output_type": "execute_result",
     "data": {
      "text/plain": [
       "\n",
       "MNP SOLVER INSTANCE\n",
       "SOURCE: <source.core.data_source.WMFileSource object at 0x7fcfd8024c10>\n",
       "ALGORITHM: <source.mnp.heuristics.GreedyAlgorithm object at 0x7fcfd803d130>\n",
       "\n",
       "OF: 7612188.0\n",
       "SETS:\n",
       "SET #0: [387162, 201347, 89243, 81049, 69547, 60230, 51051, 45444, 30247, 23256, 16676]\n",
       "SET #1: [375698, 206707, 89859, 81724, 71640, 65415, 50152, 38229, 37140, 21309, 18793]\n",
       "SET #2: [372906, 208596, 90314, 82469, 70866, 65893, 49903, 38230, 38206, 20440, 19311]\n",
       "SET #3: [357826, 210543, 95292, 88151, 71789, 68027, 49046, 40868, 34194, 23080, 14485, 1933, 1302]\n",
       "SET #4: [349541, 211791, 99148, 88870, 80539, 55712, 53662, 46912, 27698, 26581, 9948, 6415]\n",
       "SET #5: [346671, 219218, 98418, 86760, 78372, 56643, 52539, 47239, 27707, 27196, 8993, 7059]\n",
       "SET #6: [342797, 228372, 92616, 87745, 73494, 66449, 49418, 40264, 34999, 22385, 16959]\n",
       "SET #7: [339311, 234039, 92018, 84625, 78777, 59258, 51914, 44558, 30807, 23523, 14191, 3606]\n",
       "SET #8: [339195, 240534, 91393, 83809, 69933, 66543, 49526, 39093, 35133, 25408, 9152, 7314]\n",
       "SET #9: [330057, 240554, 94676, 85270, 78406, 57954, 52350, 46232, 28470, 26308, 10360, 5979]\n",
       "SET #10: [327670, 252972, 90727, 83002, 70270, 67680, 47520, 45268, 30137, 24611, 11015, 5968]\n",
       "SET #11: [314306, 254474, 95204, 87578, 72297, 67749, 49158, 40391, 34940, 22890, 13030, 4519]\n",
       "SET #12: [311060, 260107, 92820, 87539, 74335, 63754, 50601, 44446, 30733, 23181, 15822, 1471]\n",
       "SET #13: [303036, 262574, 98472, 87268, 75173, 63483, 50579, 43489, 32633, 20981, 20176]\n",
       "SET #14: [301803, 264621, 97998, 86717, 78134, 56716, 53582, 45821, 28756, 25811, 10588, 5999]\n",
       "SET #15: [298160, 270015, 96607, 86551, 76385, 62852, 50322, 39175, 35129, 24948, 10373, 6276]\n",
       "SET #16: [297393, 271928, 94830, 87100, 76620, 60486, 51893, 44229, 31435, 22893, 15515, 1502]\n",
       "SET #17: [293515, 279671, 92359, 83946, 80457, 55124, 53692, 46999, 28215, 25873, 11812, 4830]\n",
       "SET #18: [289260, 282977, 92414, 86687, 75469, 63333, 50472, 41794, 33906, 21753, 17355]\n",
       "SET #19: [284536, 283620, 97302, 84438, 79350, 57889, 52164, 45839, 29092, 25623, 11501, 4967]\n",
       "SET SUMS: 1055252 1056666 1057134 1056536 1056817 1056815 1055498 1056627 1057033 1056616 1056840 1056536 1055869 1057864 1056546 1056793 1055824 1056493 1055420 1056321"
      ]
     },
     "metadata": {},
     "execution_count": 11
    }
   ],
   "metadata": {
    "collapsed": false,
    "pycharm": {
     "name": "#%%\n"
    }
   }
  },
  {
   "cell_type": "code",
   "execution_count": 12,
   "source": [
    "solver = MNP(\n",
    "    source=wms,\n",
    "    algorithm=SimulatedAnnealing(\n",
    "        start_state=greedy_sets,\n",
    "        transition_func=transition_greedy_many(5),\n",
    "        temperature_func=temperature_div_log,\n",
    "        t_max=10**5,\n",
    "        t_min=0,\n",
    "        max_iter=10**5,\n",
    "        number_of_sets=20,\n",
    "    )\n",
    ")\n",
    "_of, _sets = solver.solve_problem()\n",
    "solver"
   ],
   "outputs": [
    {
     "output_type": "execute_result",
     "data": {
      "text/plain": [
       "\n",
       "MNP SOLVER INSTANCE\n",
       "SOURCE: <source.core.data_source.WMFileSource object at 0x7fcfd8024c10>\n",
       "ALGORITHM: <source.mnp.heuristics.SimulatedAnnealing object at 0x7fcfd8024670>\n",
       "\n",
       "OF: 3705320.0\n",
       "SETS:\n",
       "SET #0: [387162, 70270, 51051, 89243, 60230, 30247, 81049, 23256, 201347, 16676, 45444]\n",
       "SET #1: [65415, 21309, 89859, 37140, 18793, 38229, 50152, 71640, 375698, 81724, 206707]\n",
       "SET #2: [38230, 38206, 49903, 208596, 20440, 65893, 19311, 70866, 82469, 372906, 90314]\n",
       "SET #3: [49046, 1933, 71789, 34194, 88151, 68027, 23080, 357826, 210543, 14485, 1302, 95292, 40264]\n",
       "SET #4: [99148, 53662, 55712, 26581, 9948, 46912, 27698, 211791, 80539, 88870, 6415, 349541]\n",
       "SET #5: [27196, 86760, 9152, 78372, 56643, 7059, 47239, 51893, 27707, 346671, 219218, 98472]\n",
       "SET #6: [34999, 22385, 73494, 16959, 342797, 49418, 87745, 92616, 228372, 40868, 66449]\n",
       "SET #7: [3606, 78777, 44558, 92018, 234039, 30807, 51914, 339311, 84625, 23523, 59258, 14191]\n",
       "SET #8: [91393, 83809, 35133, 8993, 66543, 49158, 339195, 69933, 7314, 25408, 240534, 39093]\n",
       "SET #9: [10373, 5979, 330057, 78406, 94676, 52350, 57954, 240554, 28470, 46232, 85270, 26308]\n",
       "SET #10: [24948, 45268, 6276, 30137, 69547, 11015, 327670, 90727, 67680, 252972, 47520, 83002]\n",
       "SET #11: [254474, 87578, 22890, 314306, 94830, 72297, 34940, 67749, 53692, 40391, 13030]\n",
       "SET #12: [50601, 30733, 23181, 1471, 15822, 63754, 92820, 260107, 311060, 44446, 87539, 74335]\n",
       "SET #13: [32633, 262574, 75173, 303036, 63483, 10360, 97998, 76385, 20981, 43489, 20176, 50579]\n",
       "SET #14: [10588, 25811, 53582, 301803, 86717, 98418, 28756, 264621, 45821, 56716, 5999, 78134]\n",
       "SET #15: [35129, 39175, 298160, 5968, 87268, 24611, 62852, 50322, 96607, 270015, 86551]\n",
       "SET #16: [31435, 87100, 60486, 1502, 271928, 52539, 297393, 15515, 95204, 76620, 22893, 44229]\n",
       "SET #17: [293515, 46999, 28215, 11812, 55124, 49526, 83946, 4830, 279671, 80457, 4519, 25873, 92359]\n",
       "SET #18: [289260, 21753, 86687, 50472, 63333, 33906, 282977, 41794, 75469, 17355, 92414]\n",
       "SET #19: [97302, 25623, 84438, 29092, 79350, 284536, 52164, 57889, 11501, 4967, 283620, 45839]\n",
       "SET SUMS: 1055975 1056666 1057134 1055932 1056817 1056382 1056102 1056627 1056506 1056629 1056762 1056177 1055869 1056867 1056966 1056658 1056844 1056846 1055420 1056321"
      ]
     },
     "metadata": {},
     "execution_count": 12
    }
   ],
   "metadata": {}
  },
  {
   "cell_type": "code",
   "execution_count": null,
   "source": [
    "\n"
   ],
   "outputs": [],
   "metadata": {}
  },
  {
   "cell_type": "code",
   "execution_count": null,
   "source": [],
   "outputs": [],
   "metadata": {}
  }
 ],
 "metadata": {
  "orig_nbformat": 4,
  "language_info": {
   "name": "python",
   "version": "3.8.10",
   "mimetype": "text/x-python",
   "codemirror_mode": {
    "name": "ipython",
    "version": 3
   },
   "pygments_lexer": "ipython3",
   "nbconvert_exporter": "python",
   "file_extension": ".py"
  },
  "kernelspec": {
   "name": "python3",
   "display_name": "Python 3.8.10 64-bit ('.env': venv)"
  },
  "interpreter": {
   "hash": "5d7b49e5e3e3014ce116d1451eb924758a51e5e1c90a72d5f1256bbb10c55524"
  }
 },
 "nbformat": 4,
 "nbformat_minor": 2
}