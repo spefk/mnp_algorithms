{
 "cells": [
  {
   "cell_type": "markdown",
   "metadata": {},
   "source": [
    "# Examples of usage"
   ]
  },
  {
   "cell_type": "code",
   "execution_count": 1,
   "metadata": {},
   "outputs": [],
   "source": [
    "import numpy as np\n",
    "import logging"
   ]
  },
  {
   "cell_type": "code",
   "execution_count": 2,
   "metadata": {},
   "outputs": [],
   "source": [
    "logging.basicConfig()\n",
    "logger = logging.getLogger(__name__)\n",
    "logger.setLevel(logging.INFO)"
   ]
  },
  {
   "cell_type": "code",
   "execution_count": 3,
   "metadata": {},
   "outputs": [],
   "source": [
    "from core import WMFileSource, PythonSource, MNPSolver\n",
    "from mnp import (GurobiAlgorithm, GreedyAlgorithm, SimulatedAnnealing,\n",
    "                transition_greedy_n, transition_greedy_one, temperature_div,\n",
    "                temperature_div_log, transition_greedy_many)\n"
   ]
  },
  {
   "cell_type": "markdown",
   "metadata": {},
   "source": [
    "# Small Instance"
   ]
  },
  {
   "cell_type": "code",
   "execution_count": 4,
   "metadata": {
    "collapsed": false,
    "pycharm": {
     "name": "#%%\n"
    }
   },
   "outputs": [],
   "source": [
    "ext_s_one = PythonSource(\n",
    "    data=[8, 6, 7, 4, 5],\n",
    "    mapper=float,\n",
    "    gatherer=list,\n",
    ")"
   ]
  },
  {
   "cell_type": "markdown",
   "metadata": {},
   "source": [
    "## Greedy Algorithm"
   ]
  },
  {
   "cell_type": "code",
   "execution_count": 5,
   "metadata": {
    "collapsed": false,
    "pycharm": {
     "name": "#%%\n"
    }
   },
   "outputs": [
    {
     "data": {
      "text/plain": [
       "MNP SOLVER INSTANCE\n",
       "SOURCE: <core.data_source.PythonSource object at 0x7f2ce9e53e20>\n",
       "ALGORITHM: <mnp.greedy.GreedyAlgorithm object at 0x7f2d29c905e0>\n",
       "OF: 6.0\n",
       "SETS:\n",
       "SET #0: [8.0]\n",
       "SET #1: [7.0, 4.0]\n",
       "SET #2: [6.0, 5.0]\n",
       "SET SUMS: 8.0 11.0 11.0"
      ]
     },
     "execution_count": 5,
     "metadata": {},
     "output_type": "execute_result"
    }
   ],
   "source": [
    "solver = MNPSolver(source=ext_s_one, algorithm=GreedyAlgorithm(number_of_sets=3))\n",
    "greedy_of, greedy_sets = solver.solve_problem()\n",
    "solver"
   ]
  },
  {
   "cell_type": "markdown",
   "metadata": {},
   "source": [
    "## Simulated Annealing"
   ]
  },
  {
   "cell_type": "code",
   "execution_count": 6,
   "metadata": {},
   "outputs": [
    {
     "data": {
      "text/plain": [
       "MNP SOLVER INSTANCE\n",
       "SOURCE: <core.data_source.PythonSource object at 0x7f2ce9e53e20>\n",
       "ALGORITHM: <mnp.simulated_annealing.SimulatedAnnealing object at 0x7f2d29c90ca0>\n",
       "OF: 6.0\n",
       "SETS:\n",
       "SET #0: [8]\n",
       "SET #1: [4, 7]\n",
       "SET #2: [6, 5]\n",
       "SET SUMS: 8 11 11"
      ]
     },
     "execution_count": 6,
     "metadata": {},
     "output_type": "execute_result"
    }
   ],
   "source": [
    "solver = MNPSolver(\n",
    "    source=ext_s_one,\n",
    "    algorithm=SimulatedAnnealing(\n",
    "        start_partitioning=[[8, 7, 4, 6, 5], [], []],\n",
    "        transition_func=transition_greedy_n(7),\n",
    "        temperature_func=temperature_div_log,\n",
    "        t_max=10**6,\n",
    "        t_min=10**-12,\n",
    "        max_iter=10**2,\n",
    "        number_of_sets=3,\n",
    "    )\n",
    ")\n",
    "_of, _sets = solver.solve_problem()\n",
    "solver"
   ]
  },
  {
   "cell_type": "markdown",
   "metadata": {},
   "source": [
    "## Gurobi"
   ]
  },
  {
   "cell_type": "code",
   "execution_count": 7,
   "metadata": {
    "collapsed": false,
    "pycharm": {
     "name": "#%%\n"
    }
   },
   "outputs": [
    {
     "name": "stdout",
     "output_type": "stream",
     "text": [
      "Restricted license - for non-production use only - expires 2022-01-13\n",
      "Gurobi Optimizer version 9.1.2 build v9.1.2rc0 (linux64)\n",
      "Thread count: 4 physical cores, 8 logical processors, using up to 8 threads\n",
      "Optimize a model with 5 rows, 15 columns and 15 nonzeros\n",
      "Model fingerprint: 0x255c147a\n",
      "Model has 45 quadratic objective terms\n",
      "Variable types: 0 continuous, 15 integer (15 binary)\n",
      "Coefficient statistics:\n",
      "  Matrix range     [1e+00, 1e+00]\n",
      "  Objective range  [8e+01, 2e+02]\n",
      "  QObjective range [3e+01, 2e+02]\n",
      "  Bounds range     [1e+00, 1e+00]\n",
      "  RHS range        [1e+00, 1e+00]\n",
      "Found heuristic solution: objective 600.0000000\n",
      "Presolve time: 0.00s\n",
      "Presolved: 35 rows, 45 columns, 105 nonzeros\n",
      "Variable types: 0 continuous, 45 integer (45 binary)\n",
      "\n",
      "Root relaxation: objective -1.100000e+02, 11 iterations, 0.00 seconds\n",
      "\n",
      "    Nodes    |    Current Node    |     Objective Bounds      |     Work\n",
      " Expl Unexpl |  Obj  Depth IntInf | Incumbent    BestBd   Gap | It/Node Time\n",
      "\n",
      "     0     0 -110.00000    0    8  600.00000 -110.00000   118%     -    0s\n",
      "H    0     0                      24.0000000 -110.00000   558%     -    0s\n",
      "H    0     0                       6.0000000 -110.00000  1933%     -    0s\n",
      "     0     0 -110.00000    0   13    6.00000 -110.00000  1933%     -    0s\n",
      "     0     0    6.00000    0   10    6.00000    6.00000  0.00%     -    0s\n",
      "\n",
      "Cutting planes:\n",
      "  Gomory: 3\n",
      "  Zero half: 15\n",
      "  RLT: 1\n",
      "\n",
      "Explored 1 nodes (48 simplex iterations) in 0.04 seconds\n",
      "Thread count was 8 (of 8 available processors)\n",
      "\n",
      "Solution count 3: 6 24 600 \n",
      "\n",
      "Optimal solution found (tolerance 1.00e-04)\n",
      "Best objective 6.000000000000e+00, best bound 6.000000000000e+00, gap 0.0000%\n"
     ]
    },
    {
     "data": {
      "text/plain": [
       "MNP SOLVER INSTANCE\n",
       "SOURCE: <core.data_source.PythonSource object at 0x7f2ce9e53e20>\n",
       "ALGORITHM: <mnp.exact.GurobiAlgorithm object at 0x7f2ce9e68610>\n",
       "OF: 6.0\n",
       "SETS:\n",
       "SET #0: [7.0, 4.0]\n",
       "SET #1: [6.0, 5.0]\n",
       "SET #2: [8.0]\n",
       "SET SUMS: 11.0 11.0 8.0"
      ]
     },
     "execution_count": 7,
     "metadata": {},
     "output_type": "execute_result"
    }
   ],
   "source": [
    "solver = MNPSolver(source=ext_s_one, algorithm=GurobiAlgorithm(number_of_sets=3))\n",
    "_of, _sets = solver.solve_problem()\n",
    "solver"
   ]
  },
  {
   "cell_type": "markdown",
   "metadata": {},
   "source": [
    "# Big instance"
   ]
  },
  {
   "cell_type": "code",
   "execution_count": 8,
   "metadata": {},
   "outputs": [],
   "source": [
    "wms = WMFileSource(\n",
    "    filepath='instances/data.wm',\n",
    "    mapper=int,\n",
    "    gatherer=list,\n",
    ")"
   ]
  },
  {
   "cell_type": "markdown",
   "metadata": {},
   "source": [
    "## Greedy Algorithm"
   ]
  },
  {
   "cell_type": "code",
   "execution_count": 9,
   "metadata": {
    "collapsed": false,
    "pycharm": {
     "name": "#%%\n"
    }
   },
   "outputs": [
    {
     "data": {
      "text/plain": [
       "MNP SOLVER INSTANCE\n",
       "SOURCE: <core.data_source.WMFileSource object at 0x7f2ce9e68580>\n",
       "ALGORITHM: <mnp.greedy.GreedyAlgorithm object at 0x7f2ce9e68400>\n",
       "OF: 7612188.0\n",
       "SETS:\n",
       "SET #0: [387162, 201347, 89243, 81049, 69547, 60230, 51051, 45444, 30247, 23256, 16676]\n",
       "SET #1: [375698, 206707, 89859, 81724, 71640, 65415, 50152, 38229, 37140, 21309, 18793]\n",
       "SET #2: [372906, 208596, 90314, 82469, 70866, 65893, 49903, 38230, 38206, 20440, 19311]\n",
       "SET #3: [357826, 210543, 95292, 88151, 71789, 68027, 49046, 40868, 34194, 23080, 14485, 1933, 1302]\n",
       "SET #4: [349541, 211791, 99148, 88870, 80539, 55712, 53662, 46912, 27698, 26581, 9948, 6415]\n",
       "SET #5: [346671, 219218, 98418, 86760, 78372, 56643, 52539, 47239, 27707, 27196, 8993, 7059]\n",
       "SET #6: [342797, 228372, 92616, 87745, 73494, 66449, 49418, 40264, 34999, 22385, 16959]\n",
       "SET #7: [339311, 234039, 92018, 84625, 78777, 59258, 51914, 44558, 30807, 23523, 14191, 3606]\n",
       "SET #8: [339195, 240534, 91393, 83809, 69933, 66543, 49526, 39093, 35133, 25408, 9152, 7314]\n",
       "SET #9: [330057, 240554, 94676, 85270, 78406, 57954, 52350, 46232, 28470, 26308, 10360, 5979]\n",
       "SET #10: [327670, 252972, 90727, 83002, 70270, 67680, 47520, 45268, 30137, 24611, 11015, 5968]\n",
       "SET #11: [314306, 254474, 95204, 87578, 72297, 67749, 49158, 40391, 34940, 22890, 13030, 4519]\n",
       "SET #12: [311060, 260107, 92820, 87539, 74335, 63754, 50601, 44446, 30733, 23181, 15822, 1471]\n",
       "SET #13: [303036, 262574, 98472, 87268, 75173, 63483, 50579, 43489, 32633, 20981, 20176]\n",
       "SET #14: [301803, 264621, 97998, 86717, 78134, 56716, 53582, 45821, 28756, 25811, 10588, 5999]\n",
       "SET #15: [298160, 270015, 96607, 86551, 76385, 62852, 50322, 39175, 35129, 24948, 10373, 6276]\n",
       "SET #16: [297393, 271928, 94830, 87100, 76620, 60486, 51893, 44229, 31435, 22893, 15515, 1502]\n",
       "SET #17: [293515, 279671, 92359, 83946, 80457, 55124, 53692, 46999, 28215, 25873, 11812, 4830]\n",
       "SET #18: [289260, 282977, 92414, 86687, 75469, 63333, 50472, 41794, 33906, 21753, 17355]\n",
       "SET #19: [284536, 283620, 97302, 84438, 79350, 57889, 52164, 45839, 29092, 25623, 11501, 4967]\n",
       "SET SUMS: 1055252 1056666 1057134 1056536 1056817 1056815 1055498 1056627 1057033 1056616 1056840 1056536 1055869 1057864 1056546 1056793 1055824 1056493 1055420 1056321"
      ]
     },
     "execution_count": 9,
     "metadata": {},
     "output_type": "execute_result"
    }
   ],
   "source": [
    "solver = MNPSolver(source=wms, algorithm=GreedyAlgorithm(number_of_sets=20))\n",
    "greedy_of, greedy_sets = solver.solve_problem()\n",
    "solver"
   ]
  },
  {
   "cell_type": "markdown",
   "metadata": {},
   "source": [
    "## Simulated Annealing"
   ]
  },
  {
   "cell_type": "code",
   "execution_count": 10,
   "metadata": {},
   "outputs": [
    {
     "data": {
      "text/plain": [
       "MNP SOLVER INSTANCE\n",
       "SOURCE: <core.data_source.WMFileSource object at 0x7f2ce9e68580>\n",
       "ALGORITHM: <mnp.simulated_annealing.SimulatedAnnealing object at 0x7f2ce9dfd9a0>\n",
       "OF: 3682988.0\n",
       "SETS:\n",
       "SET #0: [70866, 16676, 23181, 201347, 89243, 45444, 387162, 51051, 81049, 30247, 60230]\n",
       "SET #1: [50152, 81724, 37140, 21309, 38206, 206707, 65415, 375698, 18793, 89859, 71640]\n",
       "SET #2: [39175, 69547, 49418, 372906, 90314, 82469, 19311, 65893, 38229, 208596, 20440]\n",
       "SET #3: [1933, 71789, 1302, 14485, 88151, 34194, 40868, 95292, 357826, 210543, 22890, 49046, 68027]\n",
       "SET #4: [55712, 99148, 27698, 9948, 88870, 349541, 211791, 6415, 53662, 26581, 46912, 80539]\n",
       "SET #5: [27707, 86760, 8993, 78372, 346671, 52539, 27196, 98418, 47239, 56643, 219218, 7059]\n",
       "SET #6: [40264, 342797, 16959, 87745, 92616, 73494, 66449, 34999, 22385, 228372, 50322]\n",
       "SET #7: [234039, 59258, 92018, 51914, 339311, 23256, 3606, 14191, 84625, 78777, 44558, 30807]\n",
       "SET #8: [49526, 83809, 7314, 66543, 25408, 339195, 38230, 69933, 35133, 91393, 9152, 240534]\n",
       "SET #9: [26308, 28470, 240554, 330057, 78406, 52350, 57954, 85270, 46232, 94676, 5979, 10360]\n",
       "SET #10: [5968, 327670, 70270, 45268, 67680, 252972, 24611, 30137, 11015, 47520, 90727, 83002]\n",
       "SET #11: [67749, 4519, 254474, 49158, 95204, 33906, 40391, 23080, 314306, 87578, 72297, 13030]\n",
       "SET #12: [260107, 63754, 92820, 23523, 30733, 311060, 15822, 44446, 50601, 74335, 1471, 87539]\n",
       "SET #13: [75173, 87268, 98472, 43489, 20176, 32633, 303036, 63483, 50579, 262574, 20981]\n",
       "SET #14: [5999, 25811, 78134, 28756, 56716, 53582, 301803, 10588, 86717, 97998, 45821, 264621]\n",
       "SET #15: [76385, 62852, 96607, 34940, 298160, 10373, 24948, 6276, 86551, 270015, 39093, 49903]\n",
       "SET #16: [15515, 87100, 52164, 271928, 44229, 94830, 1502, 60486, 31435, 297393, 22893, 76620]\n",
       "SET #17: [80457, 28215, 11812, 46999, 4830, 279671, 25873, 53692, 55124, 83946, 293515, 92359]\n",
       "SET #18: [50472, 41794, 92414, 35129, 282977, 21753, 17355, 86687, 75469, 63333, 289260]\n",
       "SET #19: [79350, 45839, 11501, 97302, 4967, 283620, 284536, 84438, 51893, 25623, 57889, 29092]\n",
       "SET SUMS: 1056496 1056643 1056298 1056346 1056817 1056815 1056402 1056360 1056170 1056616 1056840 1055692 1056211 1057864 1056546 1056103 1056095 1056493 1056643 1056050"
      ]
     },
     "execution_count": 10,
     "metadata": {},
     "output_type": "execute_result"
    }
   ],
   "source": [
    "solver = MNPSolver(\n",
    "    source=wms,\n",
    "    algorithm=SimulatedAnnealing(\n",
    "        start_partitioning=greedy_sets,\n",
    "        transition_func=transition_greedy_many(5),\n",
    "        temperature_func=temperature_div_log,\n",
    "        t_max=10**5,\n",
    "        t_min=0,\n",
    "        max_iter=10**5,\n",
    "        number_of_sets=20,\n",
    "    )\n",
    ")\n",
    "_of, _sets = solver.solve_problem()\n",
    "solver"
   ]
  },
  {
   "cell_type": "markdown",
   "metadata": {},
   "source": [
    "## Tabu Search"
   ]
  },
  {
   "cell_type": "code",
   "execution_count": null,
   "metadata": {},
   "outputs": [],
   "source": []
  },
  {
   "cell_type": "markdown",
   "metadata": {},
   "source": [
    "## Ant Colony Optimization\n"
   ]
  },
  {
   "cell_type": "code",
   "execution_count": null,
   "metadata": {},
   "outputs": [],
   "source": []
  },
  {
   "cell_type": "markdown",
   "metadata": {},
   "source": [
    "## Genetic Algorithms"
   ]
  },
  {
   "cell_type": "code",
   "execution_count": null,
   "metadata": {},
   "outputs": [],
   "source": []
  },
  {
   "cell_type": "markdown",
   "metadata": {},
   "source": [
    "# Benchmarking"
   ]
  },
  {
   "cell_type": "code",
   "execution_count": null,
   "metadata": {},
   "outputs": [],
   "source": [
    "# TODO: imports"
   ]
  },
  {
   "cell_type": "code",
   "execution_count": null,
   "metadata": {},
   "outputs": [],
   "source": [
    "# TODO: Table Algorithm: (OF, Time)"
   ]
  },
  {
   "cell_type": "code",
   "execution_count": null,
   "metadata": {},
   "outputs": [],
   "source": [
    "# TODO: Plot N/Time"
   ]
  }
 ],
 "metadata": {
  "interpreter": {
   "hash": "64cdf6a9d8450618308b74148338172be787ceddd58ac68f39110dafa8fb1e37"
  },
  "kernelspec": {
   "display_name": "Python 3.8.10 64-bit ('.env': venv)",
   "name": "python3"
  },
  "language_info": {
   "codemirror_mode": {
    "name": "ipython",
    "version": 3
   },
   "file_extension": ".py",
   "mimetype": "text/x-python",
   "name": "python",
   "nbconvert_exporter": "python",
   "pygments_lexer": "ipython3",
   "version": "3.8.10"
  },
  "orig_nbformat": 4
 },
 "nbformat": 4,
 "nbformat_minor": 2
}
