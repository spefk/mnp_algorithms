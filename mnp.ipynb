{
 "cells": [
  {
   "cell_type": "markdown",
   "metadata": {},
   "source": [
    "# Examples of usage"
   ]
  },
  {
   "cell_type": "code",
   "execution_count": 1,
   "metadata": {},
   "outputs": [],
   "source": [
    "import logging"
   ]
  },
  {
   "cell_type": "code",
   "execution_count": 2,
   "metadata": {},
   "outputs": [],
   "source": [
    "logging.basicConfig()\n",
    "logger = logging.getLogger(__name__)\n",
    "logger.setLevel(logging.INFO)"
   ]
  },
  {
   "cell_type": "code",
   "execution_count": 3,
   "metadata": {},
   "outputs": [],
   "source": [
    "from core import WMFileSource, PythonSource, MaxToMin, GreedyTranspOne, GreedyTranspMany, PartialSolution\n",
    "from algorithm import (\n",
    "    GurobiSolver, GreedySolver, KarmarkarKarp,\n",
    "    SimulatedAnnealing, temperature_div_log, temperature_div,\n",
    ")"
   ]
  },
  {
   "cell_type": "markdown",
   "metadata": {},
   "source": [
    "# Small Instance"
   ]
  },
  {
   "cell_type": "code",
   "execution_count": 4,
   "metadata": {
    "pycharm": {
     "name": "#%%\n"
    }
   },
   "outputs": [],
   "source": [
    "data_s = PythonSource(\n",
    "    data=[8, 6, 7, 4, 5],\n",
    "    mapper=float,\n",
    "    gatherer=list,\n",
    ")\n",
    "m_s = 3"
   ]
  },
  {
   "cell_type": "markdown",
   "metadata": {},
   "source": [
    "## Gurobi"
   ]
  },
  {
   "cell_type": "code",
   "execution_count": 5,
   "metadata": {
    "pycharm": {
     "name": "#%%\n"
    }
   },
   "outputs": [
    {
     "name": "stdout",
     "output_type": "stream",
     "text": [
      "Set parameter Username\n",
      "Academic license - for non-commercial use only - expires 2022-01-27\n",
      "Set parameter TimeLimit to value 300\n",
      "Gurobi Optimizer version 9.5.0 build v9.5.0rc5 (linux64)\n",
      "Thread count: 4 physical cores, 8 logical processors, using up to 8 threads\n",
      "Optimize a model with 5 rows, 15 columns and 15 nonzeros\n",
      "Model fingerprint: 0x255c147a\n",
      "Model has 45 quadratic objective terms\n",
      "Variable types: 0 continuous, 15 integer (15 binary)\n",
      "Coefficient statistics:\n",
      "  Matrix range     [1e+00, 1e+00]\n",
      "  Objective range  [8e+01, 2e+02]\n",
      "  QObjective range [3e+01, 2e+02]\n",
      "  Bounds range     [1e+00, 1e+00]\n",
      "  RHS range        [1e+00, 1e+00]\n",
      "Found heuristic solution: objective 600.0000000\n",
      "Presolve time: 0.00s\n",
      "Presolved: 35 rows, 45 columns, 105 nonzeros\n",
      "Variable types: 0 continuous, 45 integer (45 binary)\n",
      "\n",
      "Root relaxation: objective -1.100000e+02, 11 iterations, 0.00 seconds (0.00 work units)\n",
      "\n",
      "    Nodes    |    Current Node    |     Objective Bounds      |     Work\n",
      " Expl Unexpl |  Obj  Depth IntInf | Incumbent    BestBd   Gap | It/Node Time\n",
      "\n",
      "     0     0 -110.00000    0    8  600.00000 -110.00000   118%     -    0s\n",
      "H    0     0                      24.0000000 -110.00000   558%     -    0s\n",
      "H    0     0                       6.0000000 -110.00000  1933%     -    0s\n",
      "     0     0 -110.00000    0   10    6.00000 -110.00000  1933%     -    0s\n",
      "     0     0    6.00000    0   11    6.00000    6.00000  0.00%     -    0s\n",
      "\n",
      "Cutting planes:\n",
      "  Gomory: 2\n",
      "  MIR: 2\n",
      "  Zero half: 8\n",
      "  RLT: 2\n",
      "  BQP: 4\n",
      "\n",
      "Explored 1 nodes (42 simplex iterations) in 0.03 seconds (0.00 work units)\n",
      "Thread count was 8 (of 8 available processors)\n",
      "\n",
      "Solution count 3: 6 24 600 \n",
      "\n",
      "Optimal solution found (tolerance 1.00e-04)\n",
      "Best objective 6.000000000000e+00, best bound 6.000000000000e+00, gap 0.0000%\n"
     ]
    },
    {
     "data": {
      "text/plain": [
       "Statistics for partial solution 140131026647504.\n",
       "IS_FULL:True\n",
       "SETS:\n",
       "7.0 4.0\n",
       "6.0 5.0\n",
       "8.0\n",
       "MSE: 6.0"
      ]
     },
     "execution_count": 5,
     "metadata": {},
     "output_type": "execute_result"
    }
   ],
   "source": [
    "gurobi_s = GurobiSolver().solve(data_s.get_data(), m_s)\n",
    "gurobi_s"
   ]
  },
  {
   "cell_type": "markdown",
   "metadata": {},
   "source": [
    "## Greedy Algorithm"
   ]
  },
  {
   "cell_type": "code",
   "execution_count": 6,
   "metadata": {
    "pycharm": {
     "name": "#%%\n"
    }
   },
   "outputs": [
    {
     "data": {
      "text/plain": [
       "Statistics for partial solution 140129930670960.\n",
       "IS_FULL:True\n",
       "SETS:\n",
       "8.0\n",
       "7.0 4.0\n",
       "6.0 5.0\n",
       "MSE: 6.0"
      ]
     },
     "execution_count": 6,
     "metadata": {},
     "output_type": "execute_result"
    }
   ],
   "source": [
    "greedy_s = GreedySolver().solve(data_s.get_data(), m_s)\n",
    "greedy_s"
   ]
  },
  {
   "cell_type": "markdown",
   "metadata": {},
   "source": [
    "## Karmarkar-Karp"
   ]
  },
  {
   "cell_type": "code",
   "execution_count": 7,
   "metadata": {
    "pycharm": {
     "name": "#%%\n"
    }
   },
   "outputs": [
    {
     "data": {
      "text/plain": [
       "Statistics for partial solution 140129930672448.\n",
       "IS_FULL:True\n",
       "SETS:\n",
       "8.0\n",
       "4.0 7.0\n",
       "5.0 6.0\n",
       "MSE: 6.0"
      ]
     },
     "execution_count": 7,
     "metadata": {},
     "output_type": "execute_result"
    }
   ],
   "source": [
    "kk_s = KarmarkarKarp().solve(data_s.get_data(), m=m_s)\n",
    "kk_s"
   ]
  },
  {
   "cell_type": "markdown",
   "metadata": {},
   "source": [
    "## Simulated Annealing"
   ]
  },
  {
   "cell_type": "code",
   "execution_count": 20,
   "metadata": {},
   "outputs": [
    {
     "data": {
      "text/plain": [
       "Statistics for partial solution 140129890405776.\n",
       "IS_FULL:True\n",
       "SETS:\n",
       "4 6\n",
       "8\n",
       "7 5\n",
       "MSE: 8.0"
      ]
     },
     "execution_count": 20,
     "metadata": {},
     "output_type": "execute_result"
    }
   ],
   "source": [
    "sa_s = SimulatedAnnealing(\n",
    "    PartialSolution.from_solution([[8, 7, 4, 6, 5], [], []]),\n",
    "    move=GreedyTranspOne,\n",
    "    temperature_func=temperature_div,\n",
    "    t_max=10**6,\n",
    "    t_min=10**-12,\n",
    "    max_iter=10**2,\n",
    ").solve(\n",
    "    [8, 7, 4, 6, 5],\n",
    "    3,\n",
    ")\n",
    "sa_s\n"
   ]
  },
  {
   "cell_type": "code",
   "execution_count": 23,
   "metadata": {},
   "outputs": [
    {
     "data": {
      "text/plain": [
       "Statistics for partial solution 140129890376480.\n",
       "IS_FULL:True\n",
       "SETS:\n",
       "8\n",
       "6 5\n",
       "7 4\n",
       "MSE: 6.0"
      ]
     },
     "execution_count": 23,
     "metadata": {},
     "output_type": "execute_result"
    }
   ],
   "source": [
    "sa_s = SimulatedAnnealing(\n",
    "    PartialSolution.from_solution([[8, 7, 4, 6, 5], [], []]),\n",
    "    move=MaxToMin,\n",
    "    temperature_func=temperature_div,\n",
    "    t_max=10**6,\n",
    "    t_min=10**-12,\n",
    "    max_iter=10**2,\n",
    ").solve(\n",
    "    [8, 7, 4, 6, 5],\n",
    "    3,\n",
    ")\n",
    "sa_s\n"
   ]
  },
  {
   "cell_type": "markdown",
   "metadata": {},
   "source": [
    "# Larger instance"
   ]
  },
  {
   "cell_type": "code",
   "execution_count": 24,
   "metadata": {},
   "outputs": [],
   "source": [
    "data_l = WMFileSource(\n",
    "    filepath='instances/data.wm',\n",
    "    mapper=int,\n",
    "    gatherer=list,\n",
    ")\n",
    "m_l = 20"
   ]
  },
  {
   "cell_type": "markdown",
   "metadata": {},
   "source": [
    "## Gurobi"
   ]
  },
  {
   "cell_type": "code",
   "execution_count": 26,
   "metadata": {
    "pycharm": {
     "name": "#%%\n"
    }
   },
   "outputs": [
    {
     "name": "stdout",
     "output_type": "stream",
     "text": [
      "Set parameter TimeLimit to value 5\n",
      "Gurobi Optimizer version 9.5.0 build v9.5.0rc5 (linux64)\n",
      "Thread count: 4 physical cores, 8 logical processors, using up to 8 threads\n",
      "Optimize a model with 235 rows, 4700 columns and 4700 nonzeros\n",
      "Model fingerprint: 0x51d76d99\n",
      "Model has 554600 quadratic objective terms\n",
      "Variable types: 0 continuous, 4700 integer (4700 binary)\n",
      "Coefficient statistics:\n",
      "  Matrix range     [1e+00, 1e+00]\n",
      "  Objective range  [3e+09, 8e+11]\n",
      "  QObjective range [3e+06, 6e+11]\n",
      "  Bounds range     [1e+00, 1e+00]\n",
      "  RHS range        [1e+00, 1e+00]\n",
      "Warning: Model contains large objective coefficients\n",
      "Warning: Model contains large quadratic objective coefficients\n",
      "         Consider reformulating model or setting NumericFocus parameter\n",
      "         to avoid numerical issues.\n",
      "Found heuristic solution: objective 4.241330e+14\n",
      "Presolve time: 0.10s\n",
      "Presolved: 235 rows, 4700 columns, 4700 nonzeros\n",
      "Presolved model has 554600 quadratic objective terms\n",
      "Variable types: 0 continuous, 4700 integer (4700 binary)\n",
      "Found heuristic solution: objective 3.120287e+13\n",
      "\n",
      "Root relaxation: objective 0.000000e+00, 2580 iterations, 0.19 seconds (0.37 work units)\n",
      "\n",
      "    Nodes    |    Current Node    |     Objective Bounds      |     Work\n",
      " Expl Unexpl |  Obj  Depth IntInf | Incumbent    BestBd   Gap | It/Node Time\n",
      "\n",
      "     0     0    0.00000    0   37 3.1203e+13    0.00000   100%     -    0s\n",
      "H    0     0                    4.324542e+10    0.00000   100%     -    0s\n",
      "H    0     0                    2.589503e+08    0.00000   100%     -    1s\n",
      "     0     0    0.00000    0   37 2.5895e+08    0.00000   100%     -    1s\n",
      "H    0     0                    1.278264e+08    0.00000   100%     -    2s\n",
      "H    0     2                    8.084852e+07    0.00000   100%     -    3s\n",
      "     0     2    0.00000    0   37 8.0849e+07    0.00000   100%     -    3s\n",
      "H   28    33                    7.652630e+07    0.00000   100%   152    5s\n",
      "H   31    33                    7.586204e+07    0.00000   100%   158    5s\n",
      "\n",
      "Explored 32 nodes (7623 simplex iterations) in 5.02 seconds (5.56 work units)\n",
      "Thread count was 8 (of 8 available processors)\n",
      "\n",
      "Solution count 8: 7.5862e+07 7.65263e+07 8.08485e+07 ... 4.24133e+14\n",
      "\n",
      "Time limit reached\n",
      "Best objective 7.586203800000e+07, best bound 3.366804323216e-06, gap 100.0000%\n"
     ]
    },
    {
     "data": {
      "text/plain": [
       "Statistics for partial solution 140129890183920.\n",
       "IS_FULL:True\n",
       "SETS:\n",
       "80539 4830 23181 50152 46999 50579 25811 56643 46912 52350 24611 27707 49158 25623 5999 52164 51893 6415 13030 10360 11812 49418 25873 25408 9152 23523 5968 51914 50472 47239 49526\n",
       "53662 67749 63754 206707 16959 270015 31435 28470 11501 14485 34194 45839 68027 9948 66449 65415\n",
       "23256 282977 56716 23080 69933 79350 78406 81724 78134 228372 26308 29092\n",
       "8993 22890 20440 40264 208596 260107 37140 28756 20176 44229 84438 283620\n",
       "1471 38206 85270 30807 4967 63483 240554 271928 20981 30137 7314 62852 86717 22893 87100\n",
       "86687 57954 67680 66543 63333 49046 297393 89859 38230 71789 76620 88870\n",
       "60486 19311 6276 21309 74335 35133 45268 293515 34940 18793 27698 314306 44558 57889\n",
       "1933 7059 1302 30247 51051 60230 254474 234039 298160 44446 71640\n",
       "88151 92414 45821 11015 53692 45444 33906 3606 46232 83809 201347 86551 262574\n",
       "89243 264621 30733 240534 210543 219218\n",
       "96607 94830 17355 98472 97302 10588 92820 35129 330057 81049 26581 39093 39175\n",
       "303036 87268 43489 339311 59258 27196 86760 70270 40391\n",
       "28215 252972 50601 49903 65893 50322 211791 34999 52539 53582 55124 70866 78777\n",
       "72297 55712 10373 97998 95292 284536 94676 95204 98418 22385 16676 99148 14191\n",
       "83946 87539 279671 87745 357826 80457 82469\n",
       "92359 92018 339195 38229 78372 75173 342797\n",
       "75469 375698 90727 5979 73494 41794 84625 311060\n",
       "15822 32633 4519 15515 327670 83002 387162 24948 1502 87578 76385\n",
       "40868 346671 47520 92616 90314 91393 349541\n",
       "372906 69547 289260 21753 301803\n",
       "MSE: 75862038.0"
      ]
     },
     "execution_count": 26,
     "metadata": {},
     "output_type": "execute_result"
    }
   ],
   "source": [
    "gurobi_l = GurobiSolver(timelimit=5).solve(data_l.get_data(), m_l)\n",
    "gurobi_l\n"
   ]
  },
  {
   "cell_type": "markdown",
   "metadata": {},
   "source": [
    "## Greedy Algorithm"
   ]
  },
  {
   "cell_type": "code",
   "execution_count": 27,
   "metadata": {
    "pycharm": {
     "name": "#%%\n"
    }
   },
   "outputs": [
    {
     "data": {
      "text/plain": [
       "Statistics for partial solution 140129890373888.\n",
       "IS_FULL:True\n",
       "SETS:\n",
       "23256 69547 30247 45444 51051 387162 89243 81049 60230 16676 201347\n",
       "375698 21309 89859 50152 206707 81724 18793 38229 37140 71640 65415\n",
       "19311 372906 49903 65893 38206 90314 38230 20440 208596 70866 82469\n",
       "88151 40868 1933 49046 23080 95292 1302 357826 14485 71789 34194 68027 210543\n",
       "80539 53662 211791 46912 55712 27698 6415 26581 99148 9948 88870 349541\n",
       "8993 346671 7059 56643 27707 52539 78372 27196 86760 98418 47239 219218\n",
       "92616 73494 34999 16959 228372 87745 40264 49418 22385 342797 66449\n",
       "92018 339311 30807 3606 59258 84625 234039 23523 51914 44558 78777 14191\n",
       "66543 35133 69933 339195 25408 9152 83809 39093 7314 49526 240534 91393\n",
       "57954 5979 52350 78406 28470 85270 26308 330057 10360 240554 94676 46232\n",
       "67680 252972 47520 11015 90727 45268 24611 327670 83002 5968 70270 30137\n",
       "22890 4519 67749 72297 34940 49158 13030 314306 254474 95204 87578 40391\n",
       "15822 50601 74335 23181 1471 63754 92820 87539 260107 44446 30733 311060\n",
       "32633 303036 87268 98472 50579 43489 63483 20176 75173 20981 262574\n",
       "45821 56716 25811 10588 78134 5999 97998 53582 28756 264621 86717 301803\n",
       "96607 6276 50322 10373 270015 35129 24948 298160 86551 76385 62852 39175\n",
       "60486 94830 297393 15515 31435 51893 1502 76620 271928 44229 22893 87100\n",
       "28215 92359 4830 83946 46999 53692 293515 279671 11812 25873 55124 80457\n",
       "86687 75469 282977 92414 63333 17355 289260 21753 41794 33906 50472\n",
       "97302 79350 25623 52164 284536 4967 11501 29092 45839 57889 84438 283620\n",
       "MSE: 7612188.0"
      ]
     },
     "execution_count": 27,
     "metadata": {},
     "output_type": "execute_result"
    }
   ],
   "source": [
    "greedy_l = GreedySolver().solve(data_l.get_data(), m_l)\n",
    "greedy_l"
   ]
  },
  {
   "cell_type": "markdown",
   "metadata": {},
   "source": [
    "## Karmarkar-Karp"
   ]
  },
  {
   "cell_type": "code",
   "execution_count": 28,
   "metadata": {
    "pycharm": {
     "name": "#%%\n"
    }
   },
   "outputs": [
    {
     "data": {
      "text/plain": [
       "Statistics for partial solution 140129887643056.\n",
       "IS_FULL:True\n",
       "SETS:\n",
       "25623 40391 34940 80457 55712 311060 260107 92820 87539 50472 16676\n",
       "45444 72297 65415 30137 53662 293515 279671 92359 83946 22890 11501 4967\n",
       "45268 74335 63483 30247 297393 271928 94830 87100 51893 22385 16959\n",
       "46232 69547 68027 28470 372906 208596 90314 82469 49418 23523 10360 5999\n",
       "26308 38230 37140 79350 56643 342797 228372 92616 87745 50322 9948 6415\n",
       "46912 70866 66543 28215 375698 206707 89859 81724 49526 23256 11812 4830\n",
       "38229 38206 78777 56716 24948 339311 234039 92018 84625 52539 10588 5979\n",
       "26581 39175 35129 76620 60230 357826 210543 95292 88151 49903 10373 6276\n",
       "25873 41794 33906 80539 55124 303036 262574 98472 87268 50579 15515 1502\n",
       "46999 78134 59258 27707 387162 201347 89243 81049 47520 20440 17355\n",
       "25408 40264 34999 78406 57889 298160 270015 96607 86551 51051 11015 5968\n",
       "25811 40868 34194 78372 57954 289260 282977 92414 86687 50601 15822 1471\n",
       "45839 69933 67749 28756 327670 252972 90727 83002 49158 24611 8993 7059\n",
       "27196 39093 35133 76385 60486 314306 254474 95204 87578 50152 9152 7314\n",
       "44446 71640 66449 30807 301803 264621 97998 86717 51914 22893 13030 4519\n",
       "47239 73494 63754 27698 339195 240534 91393 83809 49046 23080 14485 1933 1302\n",
       "45821 71789 65893 29092 53582 284536 283620 97302 84438 23181 14191 3606\n",
       "43489 75173 63333 32633 330057 240554 94676 85270 52350 20981 18793\n",
       "19311 44558 70270 67680 31435 53692 349541 211791 99148 88870 21309\n",
       "20176 44229 75469 62852 30733 346671 219218 98418 86760 52164 21753\n",
       "MSE: 9452242.0"
      ]
     },
     "execution_count": 28,
     "metadata": {},
     "output_type": "execute_result"
    }
   ],
   "source": [
    "kk_l = KarmarkarKarp().solve(data_l.get_data(), m=m_l)\n",
    "kk_l\n"
   ]
  },
  {
   "cell_type": "markdown",
   "metadata": {},
   "source": [
    "## Simulated Annealing"
   ]
  },
  {
   "cell_type": "code",
   "execution_count": 38,
   "metadata": {},
   "outputs": [
    {
     "data": {
      "text/plain": [
       "Statistics for partial solution 140129887240928.\n",
       "IS_FULL:True\n",
       "SETS:\n",
       "23256 69547 30247 45444 51051 387162 89243 81049 60230 16676 201347\n",
       "375698 21309 89859 50152 206707 81724 18793 38229 37140 71640 65415\n",
       "19311 372906 49903 65893 38206 90314 38230 20440 208596 70866 82469\n",
       "88151 40868 1933 49046 23080 95292 1302 357826 14485 71789 34194 68027 210543\n",
       "80539 53662 211791 46912 55712 27698 6415 26581 99148 9948 88870 349541\n",
       "8993 346671 7059 56643 27707 52539 78372 27196 86760 98418 47239 219218\n",
       "92616 73494 34999 16959 228372 87745 40264 49418 22385 342797 66449\n",
       "92018 339311 30807 3606 59258 84625 234039 23523 51914 44558 78777 14191\n",
       "66543 35133 69933 339195 25408 9152 83809 39093 7314 49526 240534 91393\n",
       "57954 5979 52350 78406 28470 85270 26308 330057 10360 240554 94676 46232\n",
       "67680 252972 47520 11015 90727 45268 24611 327670 83002 5968 70270 30137\n",
       "22890 4519 67749 72297 34940 49158 13030 314306 254474 95204 87578 40391\n",
       "15822 50601 74335 23181 1471 63754 92820 87539 260107 44446 30733 311060\n",
       "32633 303036 87268 98472 50579 43489 63483 20176 75173 20981 262574\n",
       "45821 56716 25811 10588 78134 5999 97998 53582 28756 264621 86717 301803\n",
       "96607 6276 50322 10373 270015 35129 24948 298160 86551 76385 62852 39175\n",
       "60486 94830 297393 15515 31435 51893 1502 76620 271928 44229 22893 87100\n",
       "28215 92359 4830 83946 46999 53692 293515 279671 11812 25873 55124 80457\n",
       "86687 75469 282977 92414 63333 17355 289260 21753 41794 33906 50472\n",
       "97302 79350 25623 52164 284536 4967 11501 29092 45839 57889 84438 283620\n",
       "MSE: 7612188.0"
      ]
     },
     "execution_count": 38,
     "metadata": {},
     "output_type": "execute_result"
    }
   ],
   "source": [
    "sa_l = SimulatedAnnealing(\n",
    "    greedy_l,\n",
    "    move=GreedyTranspOne,\n",
    "    temperature_func=temperature_div,\n",
    "    t_max=10**6,\n",
    "    t_min=10**-12,\n",
    "    max_iter=10**2,\n",
    ").solve(\n",
    "    data_l.get_data(),\n",
    "    m=m_l,\n",
    ")\n",
    "sa_l\n"
   ]
  },
  {
   "cell_type": "markdown",
   "metadata": {},
   "source": [
    "## Tabu Search"
   ]
  },
  {
   "cell_type": "code",
   "execution_count": null,
   "metadata": {},
   "outputs": [],
   "source": []
  },
  {
   "cell_type": "markdown",
   "metadata": {},
   "source": [
    "## Ant Colony Optimization\n"
   ]
  },
  {
   "cell_type": "code",
   "execution_count": null,
   "metadata": {},
   "outputs": [],
   "source": []
  },
  {
   "cell_type": "markdown",
   "metadata": {},
   "source": [
    "## Genetic Algorithms"
   ]
  },
  {
   "cell_type": "code",
   "execution_count": null,
   "metadata": {},
   "outputs": [],
   "source": []
  },
  {
   "cell_type": "markdown",
   "metadata": {},
   "source": [
    "# Benchmarking"
   ]
  },
  {
   "cell_type": "code",
   "execution_count": 12,
   "metadata": {},
   "outputs": [],
   "source": [
    "import pandas as pd\n",
    "\n",
    "import matplotlib as mpl\n",
    "import matplotlib.pyplot as plt"
   ]
  },
  {
   "cell_type": "code",
   "execution_count": 13,
   "metadata": {},
   "outputs": [
    {
     "data": {
      "text/html": [
       "<div>\n",
       "<style scoped>\n",
       "    .dataframe tbody tr th:only-of-type {\n",
       "        vertical-align: middle;\n",
       "    }\n",
       "\n",
       "    .dataframe tbody tr th {\n",
       "        vertical-align: top;\n",
       "    }\n",
       "\n",
       "    .dataframe thead th {\n",
       "        text-align: right;\n",
       "    }\n",
       "</style>\n",
       "<table border=\"1\" class=\"dataframe\">\n",
       "  <thead>\n",
       "    <tr style=\"text-align: right;\">\n",
       "      <th></th>\n",
       "      <th>Algorithm</th>\n",
       "      <th>RMSE (small)</th>\n",
       "      <th>RMSE (large)</th>\n",
       "    </tr>\n",
       "  </thead>\n",
       "  <tbody>\n",
       "    <tr>\n",
       "      <th>0</th>\n",
       "      <td>Exact</td>\n",
       "      <td>2.44949</td>\n",
       "      <td>11306.033168</td>\n",
       "    </tr>\n",
       "    <tr>\n",
       "      <th>1</th>\n",
       "      <td>Greedy</td>\n",
       "      <td>2.44949</td>\n",
       "      <td>2759.019391</td>\n",
       "    </tr>\n",
       "    <tr>\n",
       "      <th>2</th>\n",
       "      <td>KarmarkarKarp</td>\n",
       "      <td>2.44949</td>\n",
       "      <td>3074.449869</td>\n",
       "    </tr>\n",
       "  </tbody>\n",
       "</table>\n",
       "</div>"
      ],
      "text/plain": [
       "       Algorithm  RMSE (small)  RMSE (large)\n",
       "0          Exact       2.44949  11306.033168\n",
       "1         Greedy       2.44949   2759.019391\n",
       "2  KarmarkarKarp       2.44949   3074.449869"
      ]
     },
     "execution_count": 13,
     "metadata": {},
     "output_type": "execute_result"
    }
   ],
   "source": [
    "df = pd.DataFrame(\n",
    "    [\n",
    "        [\"Exact\", Appraiser(gurobi_s).of, Appraiser(gurobi_l).of],\n",
    "        [\"Greedy\", Appraiser(greedy_s).of, Appraiser(greedy_l).of],\n",
    "        [\"KarmarkarKarp\", Appraiser(kk_s).of, Appraiser(kk_l).of],\n",
    "    ],\n",
    "    columns=['Algorithm', \"RMSE (small)\", \"RMSE (large)\"]\n",
    ")\n",
    "df"
   ]
  },
  {
   "cell_type": "code",
   "execution_count": 24,
   "metadata": {},
   "outputs": [
    {
     "data": {
      "text/plain": [
       "<AxesSubplot:xlabel='Algorithm'>"
      ]
     },
     "execution_count": 24,
     "metadata": {},
     "output_type": "execute_result"
    },
    {
     "data": {
      "image/png": "[encoded data removed]",
      "text/plain": [
       "<Figure size 432x288 with 1 Axes>"
      ]
     },
     "metadata": {
      "needs_background": "light"
     },
     "output_type": "display_data"
    }
   ],
   "source": [
    "\n",
    "df[[\"Algorithm\", \"RMSE (large)\"]].set_index(\"Algorithm\").plot.bar()"
   ]
  },
  {
   "cell_type": "code",
   "execution_count": null,
   "metadata": {
    "pycharm": {
     "name": "#%%\n"
    }
   },
   "outputs": [],
   "source": []
  }
 ],
 "metadata": {
  "interpreter": {
   "hash": "64cdf6a9d8450618308b74148338172be787ceddd58ac68f39110dafa8fb1e37"
  },
  "kernelspec": {
   "display_name": "Python 3 (ipykernel)",
   "language": "python",
   "name": "python3"
  },
  "language_info": {
   "codemirror_mode": {
    "name": "ipython",
    "version": 3
   },
   "file_extension": ".py",
   "mimetype": "text/x-python",
   "name": "python",
   "nbconvert_exporter": "python",
   "pygments_lexer": "ipython3",
   "version": "3.8.10"
  }
 },
 "nbformat": 4,
 "nbformat_minor": 2
}
