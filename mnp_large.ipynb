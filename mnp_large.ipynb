{
 "cells": [
  {
   "cell_type": "markdown",
   "metadata": {},
   "source": [
    "# Examples of MNP algorithms application"
   ]
  },
  {
   "cell_type": "code",
   "execution_count": 1,
   "metadata": {},
   "outputs": [],
   "source": [
    "import logging"
   ]
  },
  {
   "cell_type": "code",
   "execution_count": 2,
   "metadata": {},
   "outputs": [],
   "source": [
    "logging.basicConfig(level=logging.INFO)\n",
    "logger = logging.getLogger(__name__)"
   ]
  },
  {
   "cell_type": "code",
   "execution_count": 3,
   "metadata": {},
   "outputs": [],
   "source": [
    "from functools import partial\n",
    "\n",
    "from core import *\n",
    "from algorithm import *"
   ]
  },
  {
   "cell_type": "markdown",
   "metadata": {},
   "source": [
    "# Larger instance"
   ]
  },
  {
   "cell_type": "code",
   "execution_count": 4,
   "metadata": {},
   "outputs": [],
   "source": [
    "data_l = WMFileSource(\n",
    "    filepath='instances/data.wm',\n",
    "    mapper=int,\n",
    "    gatherer=list,\n",
    ")\n",
    "m_l = 20"
   ]
  },
  {
   "cell_type": "markdown",
   "metadata": {},
   "source": [
    "## Gurobi"
   ]
  },
  {
   "cell_type": "code",
   "execution_count": 5,
   "metadata": {
    "pycharm": {
     "name": "#%%\n"
    }
   },
   "outputs": [
    {
     "name": "stderr",
     "output_type": "stream",
     "text": [
      "INFO:core.data_source:Parsing file 'instances/data.wm'.\n"
     ]
    },
    {
     "name": "stdout",
     "output_type": "stream",
     "text": [
      "Set parameter Username\n"
     ]
    },
    {
     "name": "stderr",
     "output_type": "stream",
     "text": [
      "INFO:gurobipy.gurobipy:Set parameter Username\n"
     ]
    },
    {
     "name": "stdout",
     "output_type": "stream",
     "text": [
      "Academic license - for non-commercial use only - expires 2022-01-27\n"
     ]
    },
    {
     "name": "stderr",
     "output_type": "stream",
     "text": [
      "INFO:gurobipy.gurobipy:Academic license - for non-commercial use only - expires 2022-01-27\n"
     ]
    },
    {
     "name": "stdout",
     "output_type": "stream",
     "text": [
      "Set parameter TimeLimit to value 300\n"
     ]
    },
    {
     "name": "stderr",
     "output_type": "stream",
     "text": [
      "INFO:gurobipy.gurobipy:Set parameter TimeLimit to value 300\n"
     ]
    },
    {
     "name": "stdout",
     "output_type": "stream",
     "text": [
      "Gurobi Optimizer version 9.5.0 build v9.5.0rc5 (linux64)\n"
     ]
    },
    {
     "name": "stderr",
     "output_type": "stream",
     "text": [
      "INFO:gurobipy.gurobipy:Gurobi Optimizer version 9.5.0 build v9.5.0rc5 (linux64)\n"
     ]
    },
    {
     "name": "stdout",
     "output_type": "stream",
     "text": [
      "Thread count: 4 physical cores, 8 logical processors, using up to 8 threads\n"
     ]
    },
    {
     "name": "stderr",
     "output_type": "stream",
     "text": [
      "INFO:gurobipy.gurobipy:Thread count: 4 physical cores, 8 logical processors, using up to 8 threads\n"
     ]
    },
    {
     "name": "stdout",
     "output_type": "stream",
     "text": [
      "Optimize a model with 235 rows, 4700 columns and 4700 nonzeros\n"
     ]
    },
    {
     "name": "stderr",
     "output_type": "stream",
     "text": [
      "INFO:gurobipy.gurobipy:Optimize a model with 235 rows, 4700 columns and 4700 nonzeros\n"
     ]
    },
    {
     "name": "stdout",
     "output_type": "stream",
     "text": [
      "Model fingerprint: 0x51d76d99\n"
     ]
    },
    {
     "name": "stderr",
     "output_type": "stream",
     "text": [
      "INFO:gurobipy.gurobipy:Model fingerprint: 0x51d76d99\n"
     ]
    },
    {
     "name": "stdout",
     "output_type": "stream",
     "text": [
      "Model has 554600 quadratic objective terms\n"
     ]
    },
    {
     "name": "stderr",
     "output_type": "stream",
     "text": [
      "INFO:gurobipy.gurobipy:Model has 554600 quadratic objective terms\n"
     ]
    },
    {
     "name": "stdout",
     "output_type": "stream",
     "text": [
      "Variable types: 0 continuous, 4700 integer (4700 binary)\n"
     ]
    },
    {
     "name": "stderr",
     "output_type": "stream",
     "text": [
      "INFO:gurobipy.gurobipy:Variable types: 0 continuous, 4700 integer (4700 binary)\n"
     ]
    },
    {
     "name": "stdout",
     "output_type": "stream",
     "text": [
      "Coefficient statistics:\n"
     ]
    },
    {
     "name": "stderr",
     "output_type": "stream",
     "text": [
      "INFO:gurobipy.gurobipy:Coefficient statistics:\n"
     ]
    },
    {
     "name": "stdout",
     "output_type": "stream",
     "text": [
      "  Matrix range     [1e+00, 1e+00]\n"
     ]
    },
    {
     "name": "stderr",
     "output_type": "stream",
     "text": [
      "INFO:gurobipy.gurobipy:  Matrix range     [1e+00, 1e+00]\n"
     ]
    },
    {
     "name": "stdout",
     "output_type": "stream",
     "text": [
      "  Objective range  [3e+09, 8e+11]\n"
     ]
    },
    {
     "name": "stderr",
     "output_type": "stream",
     "text": [
      "INFO:gurobipy.gurobipy:  Objective range  [3e+09, 8e+11]\n"
     ]
    },
    {
     "name": "stdout",
     "output_type": "stream",
     "text": [
      "  QObjective range [3e+06, 6e+11]\n"
     ]
    },
    {
     "name": "stderr",
     "output_type": "stream",
     "text": [
      "INFO:gurobipy.gurobipy:  QObjective range [3e+06, 6e+11]\n"
     ]
    },
    {
     "name": "stdout",
     "output_type": "stream",
     "text": [
      "  Bounds range     [1e+00, 1e+00]\n"
     ]
    },
    {
     "name": "stderr",
     "output_type": "stream",
     "text": [
      "INFO:gurobipy.gurobipy:  Bounds range     [1e+00, 1e+00]\n"
     ]
    },
    {
     "name": "stdout",
     "output_type": "stream",
     "text": [
      "  RHS range        [1e+00, 1e+00]\n"
     ]
    },
    {
     "name": "stderr",
     "output_type": "stream",
     "text": [
      "INFO:gurobipy.gurobipy:  RHS range        [1e+00, 1e+00]\n"
     ]
    },
    {
     "name": "stdout",
     "output_type": "stream",
     "text": [
      "Warning: Model contains large objective coefficients\n"
     ]
    },
    {
     "name": "stderr",
     "output_type": "stream",
     "text": [
      "INFO:gurobipy.gurobipy:Warning: Model contains large objective coefficients\n"
     ]
    },
    {
     "name": "stdout",
     "output_type": "stream",
     "text": [
      "Warning: Model contains large quadratic objective coefficients\n"
     ]
    },
    {
     "name": "stderr",
     "output_type": "stream",
     "text": [
      "INFO:gurobipy.gurobipy:Warning: Model contains large quadratic objective coefficients\n"
     ]
    },
    {
     "name": "stdout",
     "output_type": "stream",
     "text": [
      "         Consider reformulating model or setting NumericFocus parameter\n"
     ]
    },
    {
     "name": "stderr",
     "output_type": "stream",
     "text": [
      "INFO:gurobipy.gurobipy:         Consider reformulating model or setting NumericFocus parameter\n"
     ]
    },
    {
     "name": "stdout",
     "output_type": "stream",
     "text": [
      "         to avoid numerical issues.\n"
     ]
    },
    {
     "name": "stderr",
     "output_type": "stream",
     "text": [
      "INFO:gurobipy.gurobipy:         to avoid numerical issues.\n"
     ]
    },
    {
     "name": "stdout",
     "output_type": "stream",
     "text": [
      "Found heuristic solution: objective 4.241330e+14\n"
     ]
    },
    {
     "name": "stderr",
     "output_type": "stream",
     "text": [
      "INFO:gurobipy.gurobipy:Found heuristic solution: objective 4.241330e+14\n"
     ]
    },
    {
     "name": "stdout",
     "output_type": "stream",
     "text": [
      "Presolve time: 0.10s\n"
     ]
    },
    {
     "name": "stderr",
     "output_type": "stream",
     "text": [
      "INFO:gurobipy.gurobipy:Presolve time: 0.10s\n"
     ]
    },
    {
     "name": "stdout",
     "output_type": "stream",
     "text": [
      "Presolved: 235 rows, 4700 columns, 4700 nonzeros\n"
     ]
    },
    {
     "name": "stderr",
     "output_type": "stream",
     "text": [
      "INFO:gurobipy.gurobipy:Presolved: 235 rows, 4700 columns, 4700 nonzeros\n"
     ]
    },
    {
     "name": "stdout",
     "output_type": "stream",
     "text": [
      "Presolved model has 554600 quadratic objective terms\n"
     ]
    },
    {
     "name": "stderr",
     "output_type": "stream",
     "text": [
      "INFO:gurobipy.gurobipy:Presolved model has 554600 quadratic objective terms\n"
     ]
    },
    {
     "name": "stdout",
     "output_type": "stream",
     "text": [
      "Variable types: 0 continuous, 4700 integer (4700 binary)\n"
     ]
    },
    {
     "name": "stderr",
     "output_type": "stream",
     "text": [
      "INFO:gurobipy.gurobipy:Variable types: 0 continuous, 4700 integer (4700 binary)\n"
     ]
    },
    {
     "name": "stdout",
     "output_type": "stream",
     "text": [
      "Found heuristic solution: objective 3.120287e+13\n"
     ]
    },
    {
     "name": "stderr",
     "output_type": "stream",
     "text": [
      "INFO:gurobipy.gurobipy:Found heuristic solution: objective 3.120287e+13\n"
     ]
    },
    {
     "name": "stdout",
     "output_type": "stream",
     "text": [
      "\n"
     ]
    },
    {
     "name": "stderr",
     "output_type": "stream",
     "text": [
      "INFO:gurobipy.gurobipy:\n"
     ]
    },
    {
     "name": "stdout",
     "output_type": "stream",
     "text": [
      "Root relaxation: objective 0.000000e+00, 2580 iterations, 0.23 seconds (0.37 work units)\n"
     ]
    },
    {
     "name": "stderr",
     "output_type": "stream",
     "text": [
      "INFO:gurobipy.gurobipy:Root relaxation: objective 0.000000e+00, 2580 iterations, 0.23 seconds (0.37 work units)\n"
     ]
    },
    {
     "name": "stdout",
     "output_type": "stream",
     "text": [
      "\n"
     ]
    },
    {
     "name": "stderr",
     "output_type": "stream",
     "text": [
      "INFO:gurobipy.gurobipy:\n"
     ]
    },
    {
     "name": "stdout",
     "output_type": "stream",
     "text": [
      "    Nodes    |    Current Node    |     Objective Bounds      |     Work\n"
     ]
    },
    {
     "name": "stderr",
     "output_type": "stream",
     "text": [
      "INFO:gurobipy.gurobipy:    Nodes    |    Current Node    |     Objective Bounds      |     Work\n"
     ]
    },
    {
     "name": "stdout",
     "output_type": "stream",
     "text": [
      " Expl Unexpl |  Obj  Depth IntInf | Incumbent    BestBd   Gap | It/Node Time\n"
     ]
    },
    {
     "name": "stderr",
     "output_type": "stream",
     "text": [
      "INFO:gurobipy.gurobipy: Expl Unexpl |  Obj  Depth IntInf | Incumbent    BestBd   Gap | It/Node Time\n"
     ]
    },
    {
     "name": "stdout",
     "output_type": "stream",
     "text": [
      "\n"
     ]
    },
    {
     "name": "stderr",
     "output_type": "stream",
     "text": [
      "INFO:gurobipy.gurobipy:\n"
     ]
    },
    {
     "name": "stdout",
     "output_type": "stream",
     "text": [
      "     0     0    0.00000    0   37 3.1203e+13    0.00000   100%     -    0s\n"
     ]
    },
    {
     "name": "stderr",
     "output_type": "stream",
     "text": [
      "INFO:gurobipy.gurobipy:     0     0    0.00000    0   37 3.1203e+13    0.00000   100%     -    0s\n"
     ]
    },
    {
     "name": "stdout",
     "output_type": "stream",
     "text": [
      "H    0     0                    4.324542e+10    0.00000   100%     -    0s\n"
     ]
    },
    {
     "name": "stderr",
     "output_type": "stream",
     "text": [
      "INFO:gurobipy.gurobipy:H    0     0                    4.324542e+10    0.00000   100%     -    0s\n"
     ]
    },
    {
     "name": "stdout",
     "output_type": "stream",
     "text": [
      "H    0     0                    2.589503e+08    0.00000   100%     -    1s\n"
     ]
    },
    {
     "name": "stderr",
     "output_type": "stream",
     "text": [
      "INFO:gurobipy.gurobipy:H    0     0                    2.589503e+08    0.00000   100%     -    1s\n"
     ]
    },
    {
     "name": "stdout",
     "output_type": "stream",
     "text": [
      "     0     0    0.00000    0   37 2.5895e+08    0.00000   100%     -    1s\n"
     ]
    },
    {
     "name": "stderr",
     "output_type": "stream",
     "text": [
      "INFO:gurobipy.gurobipy:     0     0    0.00000    0   37 2.5895e+08    0.00000   100%     -    1s\n"
     ]
    },
    {
     "name": "stdout",
     "output_type": "stream",
     "text": [
      "H    0     0                    1.278264e+08    0.00000   100%     -    2s\n"
     ]
    },
    {
     "name": "stderr",
     "output_type": "stream",
     "text": [
      "INFO:gurobipy.gurobipy:H    0     0                    1.278264e+08    0.00000   100%     -    2s\n"
     ]
    },
    {
     "name": "stdout",
     "output_type": "stream",
     "text": [
      "H    0     2                    8.084852e+07    0.00000   100%     -    3s\n"
     ]
    },
    {
     "name": "stderr",
     "output_type": "stream",
     "text": [
      "INFO:gurobipy.gurobipy:H    0     2                    8.084852e+07    0.00000   100%     -    3s\n"
     ]
    },
    {
     "name": "stdout",
     "output_type": "stream",
     "text": [
      "     0     2    0.00000    0   37 8.0849e+07    0.00000   100%     -    3s\n"
     ]
    },
    {
     "name": "stderr",
     "output_type": "stream",
     "text": [
      "INFO:gurobipy.gurobipy:     0     2    0.00000    0   37 8.0849e+07    0.00000   100%     -    3s\n"
     ]
    },
    {
     "name": "stdout",
     "output_type": "stream",
     "text": [
      "H   28    33                    7.652630e+07    0.00000   100%   152    4s\n"
     ]
    },
    {
     "name": "stderr",
     "output_type": "stream",
     "text": [
      "INFO:gurobipy.gurobipy:H   28    33                    7.652630e+07    0.00000   100%   152    4s\n"
     ]
    },
    {
     "name": "stdout",
     "output_type": "stream",
     "text": [
      "H   31    33                    7.586204e+07    0.00000   100%   158    4s\n"
     ]
    },
    {
     "name": "stderr",
     "output_type": "stream",
     "text": [
      "INFO:gurobipy.gurobipy:H   31    33                    7.586204e+07    0.00000   100%   158    4s\n"
     ]
    },
    {
     "name": "stdout",
     "output_type": "stream",
     "text": [
      "    32    37    0.00000    7   31 7.5862e+07    0.00000   100%   161    5s\n"
     ]
    },
    {
     "name": "stderr",
     "output_type": "stream",
     "text": [
      "INFO:gurobipy.gurobipy:    32    37    0.00000    7   31 7.5862e+07    0.00000   100%   161    5s\n"
     ]
    },
    {
     "name": "stdout",
     "output_type": "stream",
     "text": [
      "H   33    37                    6.962812e+07    0.00000   100%   156    5s\n"
     ]
    },
    {
     "name": "stderr",
     "output_type": "stream",
     "text": [
      "INFO:gurobipy.gurobipy:H   33    37                    6.962812e+07    0.00000   100%   156    5s\n"
     ]
    },
    {
     "name": "stdout",
     "output_type": "stream",
     "text": [
      "H   35    37                    6.259297e+07    0.00000   100%   149    5s\n"
     ]
    },
    {
     "name": "stderr",
     "output_type": "stream",
     "text": [
      "INFO:gurobipy.gurobipy:H   35    37                    6.259297e+07    0.00000   100%   149    5s\n"
     ]
    },
    {
     "name": "stdout",
     "output_type": "stream",
     "text": [
      "H  169   178                    3.859006e+07    0.00000   100%  72.0    7s\n"
     ]
    },
    {
     "name": "stderr",
     "output_type": "stream",
     "text": [
      "INFO:gurobipy.gurobipy:H  169   178                    3.859006e+07    0.00000   100%  72.0    7s\n"
     ]
    },
    {
     "name": "stdout",
     "output_type": "stream",
     "text": [
      "   262   275    0.00000   39   31 3.8590e+07    0.00000   100%  59.3   10s\n"
     ]
    },
    {
     "name": "stderr",
     "output_type": "stream",
     "text": [
      "INFO:gurobipy.gurobipy:   262   275    0.00000   39   31 3.8590e+07    0.00000   100%  59.3   10s\n"
     ]
    },
    {
     "name": "stdout",
     "output_type": "stream",
     "text": [
      "H  373   370                    3.699886e+07    0.00000   100%  51.6   11s\n"
     ]
    },
    {
     "name": "stderr",
     "output_type": "stream",
     "text": [
      "INFO:gurobipy.gurobipy:H  373   370                    3.699886e+07    0.00000   100%  51.6   11s\n"
     ]
    },
    {
     "name": "stdout",
     "output_type": "stream",
     "text": [
      "H  376   374                    3.102702e+07    0.00000   100%  51.5   12s\n"
     ]
    },
    {
     "name": "stderr",
     "output_type": "stream",
     "text": [
      "INFO:gurobipy.gurobipy:H  376   374                    3.102702e+07    0.00000   100%  51.5   12s\n"
     ]
    },
    {
     "name": "stdout",
     "output_type": "stream",
     "text": [
      "H  378   374                    3.008063e+07    0.00000   100%  51.6   12s\n"
     ]
    },
    {
     "name": "stderr",
     "output_type": "stream",
     "text": [
      "INFO:gurobipy.gurobipy:H  378   374                    3.008063e+07    0.00000   100%  51.6   12s\n"
     ]
    },
    {
     "name": "stdout",
     "output_type": "stream",
     "text": [
      "H  660   654                    2.968061e+07    0.00000   100%  57.7   14s\n"
     ]
    },
    {
     "name": "stderr",
     "output_type": "stream",
     "text": [
      "INFO:gurobipy.gurobipy:H  660   654                    2.968061e+07    0.00000   100%  57.7   14s\n"
     ]
    },
    {
     "name": "stdout",
     "output_type": "stream",
     "text": [
      "   781   795    0.00000  124   29 2.9681e+07    0.00000   100%  57.0   15s\n"
     ]
    },
    {
     "name": "stderr",
     "output_type": "stream",
     "text": [
      "INFO:gurobipy.gurobipy:   781   795    0.00000  124   29 2.9681e+07    0.00000   100%  57.0   15s\n"
     ]
    },
    {
     "name": "stdout",
     "output_type": "stream",
     "text": [
      "H 1012   967                    2.833480e+07    0.00000   100%  62.5   19s\n"
     ]
    },
    {
     "name": "stderr",
     "output_type": "stream",
     "text": [
      "INFO:gurobipy.gurobipy:H 1012   967                    2.833480e+07    0.00000   100%  62.5   19s\n"
     ]
    },
    {
     "name": "stdout",
     "output_type": "stream",
     "text": [
      "H 1013   966                    1.915836e+07    0.00000   100%  62.5   19s\n"
     ]
    },
    {
     "name": "stderr",
     "output_type": "stream",
     "text": [
      "INFO:gurobipy.gurobipy:H 1013   966                    1.915836e+07    0.00000   100%  62.5   19s\n"
     ]
    },
    {
     "name": "stdout",
     "output_type": "stream",
     "text": [
      "  1084  1068    0.00000  168   31 1.9158e+07    0.00000   100%  66.2   20s\n"
     ]
    },
    {
     "name": "stderr",
     "output_type": "stream",
     "text": [
      "INFO:gurobipy.gurobipy:  1084  1068    0.00000  168   31 1.9158e+07    0.00000   100%  66.2   20s\n"
     ]
    },
    {
     "name": "stdout",
     "output_type": "stream",
     "text": [
      "  1254  1185    0.00000  222   27 1.9158e+07    0.00000   100%  72.3   26s\n"
     ]
    },
    {
     "name": "stderr",
     "output_type": "stream",
     "text": [
      "INFO:gurobipy.gurobipy:  1254  1185    0.00000  222   27 1.9158e+07    0.00000   100%  72.3   26s\n"
     ]
    },
    {
     "name": "stdout",
     "output_type": "stream",
     "text": [
      "  1720  1591    0.00000  273   32 1.9158e+07    0.00000   100%  82.8   30s\n"
     ]
    },
    {
     "name": "stderr",
     "output_type": "stream",
     "text": [
      "INFO:gurobipy.gurobipy:  1720  1591    0.00000  273   32 1.9158e+07    0.00000   100%  82.8   30s\n"
     ]
    },
    {
     "name": "stdout",
     "output_type": "stream",
     "text": [
      "H 1777  1594                    1.874133e+07    0.00000   100%  85.0   31s\n"
     ]
    },
    {
     "name": "stderr",
     "output_type": "stream",
     "text": [
      "INFO:gurobipy.gurobipy:H 1777  1594                    1.874133e+07    0.00000   100%  85.0   31s\n"
     ]
    },
    {
     "name": "stdout",
     "output_type": "stream",
     "text": [
      "H 1779  1594                    1.616445e+07    0.00000   100%  85.1   31s\n"
     ]
    },
    {
     "name": "stderr",
     "output_type": "stream",
     "text": [
      "INFO:gurobipy.gurobipy:H 1779  1594                    1.616445e+07    0.00000   100%  85.1   31s\n"
     ]
    },
    {
     "name": "stdout",
     "output_type": "stream",
     "text": [
      "  2200  1910    0.00000  345   32 1.6164e+07    0.00000   100%   103   50s\n"
     ]
    },
    {
     "name": "stderr",
     "output_type": "stream",
     "text": [
      "INFO:gurobipy.gurobipy:  2200  1910    0.00000  345   32 1.6164e+07    0.00000   100%   103   50s\n"
     ]
    },
    {
     "name": "stdout",
     "output_type": "stream",
     "text": [
      "H 2328  1943                    1.426041e+07    0.00000   100%   109   52s\n"
     ]
    },
    {
     "name": "stderr",
     "output_type": "stream",
     "text": [
      "INFO:gurobipy.gurobipy:H 2328  1943                    1.426041e+07    0.00000   100%   109   52s\n"
     ]
    },
    {
     "name": "stdout",
     "output_type": "stream",
     "text": [
      "  2771  2324    0.00000  487   28 1.4260e+07    0.00000   100%   113   55s\n"
     ]
    },
    {
     "name": "stderr",
     "output_type": "stream",
     "text": [
      "INFO:gurobipy.gurobipy:  2771  2324    0.00000  487   28 1.4260e+07    0.00000   100%   113   55s\n"
     ]
    },
    {
     "name": "stdout",
     "output_type": "stream",
     "text": [
      "  2928  2407    0.00000   22   26 1.4260e+07    0.00000   100%   115   62s\n"
     ]
    },
    {
     "name": "stderr",
     "output_type": "stream",
     "text": [
      "INFO:gurobipy.gurobipy:  2928  2407    0.00000   22   26 1.4260e+07    0.00000   100%   115   62s\n"
     ]
    },
    {
     "name": "stdout",
     "output_type": "stream",
     "text": [
      "  3378  2892    0.00000   57   29 1.4260e+07    0.00000   100%   110   65s\n"
     ]
    },
    {
     "name": "stderr",
     "output_type": "stream",
     "text": [
      "INFO:gurobipy.gurobipy:  3378  2892    0.00000   57   29 1.4260e+07    0.00000   100%   110   65s\n"
     ]
    },
    {
     "name": "stdout",
     "output_type": "stream",
     "text": [
      "H 3951  3222                    1.114946e+07    0.00000   100%   106   68s\n"
     ]
    },
    {
     "name": "stderr",
     "output_type": "stream",
     "text": [
      "INFO:gurobipy.gurobipy:H 3951  3222                    1.114946e+07    0.00000   100%   106   68s\n"
     ]
    },
    {
     "name": "stdout",
     "output_type": "stream",
     "text": [
      "  4009  3223    0.00391  228   37 1.1149e+07    0.00000   100%   108   72s\n"
     ]
    },
    {
     "name": "stderr",
     "output_type": "stream",
     "text": [
      "INFO:gurobipy.gurobipy:  4009  3223    0.00391  228   37 1.1149e+07    0.00000   100%   108   72s\n"
     ]
    },
    {
     "name": "stdout",
     "output_type": "stream",
     "text": [
      "H 4010  3062                    9781592.0000    0.00000   100%   108   73s\n"
     ]
    },
    {
     "name": "stderr",
     "output_type": "stream",
     "text": [
      "INFO:gurobipy.gurobipy:H 4010  3062                    9781592.0000    0.00000   100%   108   73s\n"
     ]
    },
    {
     "name": "stdout",
     "output_type": "stream",
     "text": [
      "H 4010  2909                    8192996.0000    0.00000   100%   108   73s\n"
     ]
    },
    {
     "name": "stderr",
     "output_type": "stream",
     "text": [
      "INFO:gurobipy.gurobipy:H 4010  2909                    8192996.0000    0.00000   100%   108   73s\n"
     ]
    },
    {
     "name": "stdout",
     "output_type": "stream",
     "text": [
      "  4013  2911    0.00391  474   37 8192996.00    0.00000   100%   108   75s\n"
     ]
    },
    {
     "name": "stderr",
     "output_type": "stream",
     "text": [
      "INFO:gurobipy.gurobipy:  4013  2911    0.00391  474   37 8192996.00    0.00000   100%   108   75s\n"
     ]
    },
    {
     "name": "stdout",
     "output_type": "stream",
     "text": [
      "  4044  2938    0.00009   19   32 8192996.00    0.00009   100%   109   80s\n"
     ]
    },
    {
     "name": "stderr",
     "output_type": "stream",
     "text": [
      "INFO:gurobipy.gurobipy:  4044  2938    0.00009   19   32 8192996.00    0.00009   100%   109   80s\n"
     ]
    },
    {
     "name": "stdout",
     "output_type": "stream",
     "text": [
      "  4367  3128    0.00009   48   31 8192996.00    0.00009   100%   106   85s\n"
     ]
    },
    {
     "name": "stderr",
     "output_type": "stream",
     "text": [
      "INFO:gurobipy.gurobipy:  4367  3128    0.00009   48   31 8192996.00    0.00009   100%   106   85s\n"
     ]
    },
    {
     "name": "stdout",
     "output_type": "stream",
     "text": [
      "  4637  3269    0.00009   67   27 8192996.00    0.00009   100%   103   92s\n"
     ]
    },
    {
     "name": "stderr",
     "output_type": "stream",
     "text": [
      "INFO:gurobipy.gurobipy:  4637  3269    0.00009   67   27 8192996.00    0.00009   100%   103   92s\n"
     ]
    },
    {
     "name": "stdout",
     "output_type": "stream",
     "text": [
      "  4898  3490     cutoff   84      8192996.00    0.00009   100%   103   95s\n"
     ]
    },
    {
     "name": "stderr",
     "output_type": "stream",
     "text": [
      "INFO:gurobipy.gurobipy:  4898  3490     cutoff   84      8192996.00    0.00009   100%   103   95s\n"
     ]
    },
    {
     "name": "stdout",
     "output_type": "stream",
     "text": [
      "  5738  3894    0.00009  147   32 8192996.00    0.00009   100%  99.2  100s\n"
     ]
    },
    {
     "name": "stderr",
     "output_type": "stream",
     "text": [
      "INFO:gurobipy.gurobipy:  5738  3894    0.00009  147   32 8192996.00    0.00009   100%  99.2  100s\n"
     ]
    },
    {
     "name": "stdout",
     "output_type": "stream",
     "text": [
      "  6768  4520    0.00009  204   29 8192996.00    0.00009   100%   100  105s\n"
     ]
    },
    {
     "name": "stderr",
     "output_type": "stream",
     "text": [
      "INFO:gurobipy.gurobipy:  6768  4520    0.00009  204   29 8192996.00    0.00009   100%   100  105s\n"
     ]
    },
    {
     "name": "stdout",
     "output_type": "stream",
     "text": [
      "  7587  4886    0.00009  246   30 8192996.00    0.00009   100%   103  110s\n"
     ]
    },
    {
     "name": "stderr",
     "output_type": "stream",
     "text": [
      "INFO:gurobipy.gurobipy:  7587  4886    0.00009  246   30 8192996.00    0.00009   100%   103  110s\n"
     ]
    },
    {
     "name": "stdout",
     "output_type": "stream",
     "text": [
      "  8518  5291    0.00009  289   31 8192996.00    0.00009   100%   104  115s\n"
     ]
    },
    {
     "name": "stderr",
     "output_type": "stream",
     "text": [
      "INFO:gurobipy.gurobipy:  8518  5291    0.00009  289   31 8192996.00    0.00009   100%   104  115s\n"
     ]
    },
    {
     "name": "stdout",
     "output_type": "stream",
     "text": [
      "  8700  5373    0.00009  299   30 8192996.00    0.00009   100%   105  128s\n"
     ]
    },
    {
     "name": "stderr",
     "output_type": "stream",
     "text": [
      "INFO:gurobipy.gurobipy:  8700  5373    0.00009  299   30 8192996.00    0.00009   100%   105  128s\n"
     ]
    },
    {
     "name": "stdout",
     "output_type": "stream",
     "text": [
      "  8905  5566    0.00009  309   32 8192996.00    0.00009   100%   105  130s\n"
     ]
    },
    {
     "name": "stderr",
     "output_type": "stream",
     "text": [
      "INFO:gurobipy.gurobipy:  8905  5566    0.00009  309   32 8192996.00    0.00009   100%   105  130s\n"
     ]
    },
    {
     "name": "stdout",
     "output_type": "stream",
     "text": [
      " 10108  6067    0.00009  394   29 8192996.00    0.00009   100%   106  135s\n"
     ]
    },
    {
     "name": "stderr",
     "output_type": "stream",
     "text": [
      "INFO:gurobipy.gurobipy: 10108  6067    0.00009  394   29 8192996.00    0.00009   100%   106  135s\n"
     ]
    },
    {
     "name": "stdout",
     "output_type": "stream",
     "text": [
      " 11492  6692    0.00009  527   25 8192996.00    0.00009   100%   109  141s\n"
     ]
    },
    {
     "name": "stderr",
     "output_type": "stream",
     "text": [
      "INFO:gurobipy.gurobipy: 11492  6692    0.00009  527   25 8192996.00    0.00009   100%   109  141s\n"
     ]
    },
    {
     "name": "stdout",
     "output_type": "stream",
     "text": [
      " 12426  6935    0.00009   22   30 8192996.00    0.00009   100%   110  145s\n"
     ]
    },
    {
     "name": "stderr",
     "output_type": "stream",
     "text": [
      "INFO:gurobipy.gurobipy: 12426  6935    0.00009   22   30 8192996.00    0.00009   100%   110  145s\n"
     ]
    },
    {
     "name": "stdout",
     "output_type": "stream",
     "text": [
      " 12828  6837    0.00009  126   32 8192996.00    0.00009   100%   111  166s\n"
     ]
    },
    {
     "name": "stderr",
     "output_type": "stream",
     "text": [
      "INFO:gurobipy.gurobipy: 12828  6837    0.00009  126   32 8192996.00    0.00009   100%   111  166s\n"
     ]
    },
    {
     "name": "stdout",
     "output_type": "stream",
     "text": [
      " 13380  7748    0.00009  196   30 8192996.00    0.00009   100%   112  171s\n"
     ]
    },
    {
     "name": "stderr",
     "output_type": "stream",
     "text": [
      "INFO:gurobipy.gurobipy: 13380  7748    0.00009  196   30 8192996.00    0.00009   100%   112  171s\n"
     ]
    },
    {
     "name": "stdout",
     "output_type": "stream",
     "text": [
      " 13953  7865 infeasible  351      8192996.00    0.00009   100%   113  175s\n"
     ]
    },
    {
     "name": "stderr",
     "output_type": "stream",
     "text": [
      "INFO:gurobipy.gurobipy: 13953  7865 infeasible  351      8192996.00    0.00009   100%   113  175s\n"
     ]
    },
    {
     "name": "stdout",
     "output_type": "stream",
     "text": [
      " 15064  9092     cutoff  181      8192996.00    0.00009   100%   112  181s\n"
     ]
    },
    {
     "name": "stderr",
     "output_type": "stream",
     "text": [
      "INFO:gurobipy.gurobipy: 15064  9092     cutoff  181      8192996.00    0.00009   100%   112  181s\n"
     ]
    },
    {
     "name": "stdout",
     "output_type": "stream",
     "text": [
      " 15748 10120    0.00009  239   33 8192996.00    0.00009   100%   111  186s\n"
     ]
    },
    {
     "name": "stderr",
     "output_type": "stream",
     "text": [
      "INFO:gurobipy.gurobipy: 15748 10120    0.00009  239   33 8192996.00    0.00009   100%   111  186s\n"
     ]
    },
    {
     "name": "stdout",
     "output_type": "stream",
     "text": [
      " 17355 10828    0.00009  109   31 8192996.00    0.00009   100%   110  192s\n"
     ]
    },
    {
     "name": "stderr",
     "output_type": "stream",
     "text": [
      "INFO:gurobipy.gurobipy: 17355 10828    0.00009  109   31 8192996.00    0.00009   100%   110  192s\n"
     ]
    },
    {
     "name": "stdout",
     "output_type": "stream",
     "text": [
      " 17884 10979    0.00009  150   31 8192996.00    0.00009   100%   111  197s\n"
     ]
    },
    {
     "name": "stderr",
     "output_type": "stream",
     "text": [
      "INFO:gurobipy.gurobipy: 17884 10979    0.00009  150   31 8192996.00    0.00009   100%   111  197s\n"
     ]
    },
    {
     "name": "stdout",
     "output_type": "stream",
     "text": [
      " 18053 11853    0.00009  169   31 8192996.00    0.00009   100%   111  200s\n"
     ]
    },
    {
     "name": "stderr",
     "output_type": "stream",
     "text": [
      "INFO:gurobipy.gurobipy: 18053 11853    0.00009  169   31 8192996.00    0.00009   100%   111  200s\n"
     ]
    },
    {
     "name": "stdout",
     "output_type": "stream",
     "text": [
      " 20012 13593    0.00009  379   32 8192996.00    0.00009   100%   110  208s\n"
     ]
    },
    {
     "name": "stderr",
     "output_type": "stream",
     "text": [
      "INFO:gurobipy.gurobipy: 20012 13593    0.00009  379   32 8192996.00    0.00009   100%   110  208s\n"
     ]
    },
    {
     "name": "stdout",
     "output_type": "stream",
     "text": [
      " 21180 14640    0.00009  477   32 8192996.00    0.00009   100%   109  212s\n"
     ]
    },
    {
     "name": "stderr",
     "output_type": "stream",
     "text": [
      "INFO:gurobipy.gurobipy: 21180 14640    0.00009  477   32 8192996.00    0.00009   100%   109  212s\n"
     ]
    },
    {
     "name": "stdout",
     "output_type": "stream",
     "text": [
      " 22607 15714    0.00009   79   28 8192996.00    0.00009   100%   108  216s\n"
     ]
    },
    {
     "name": "stderr",
     "output_type": "stream",
     "text": [
      "INFO:gurobipy.gurobipy: 22607 15714    0.00009   79   28 8192996.00    0.00009   100%   108  216s\n"
     ]
    },
    {
     "name": "stdout",
     "output_type": "stream",
     "text": [
      " 23774 16748    0.00009  177   36 8192996.00    0.00009   100%   109  220s\n"
     ]
    },
    {
     "name": "stderr",
     "output_type": "stream",
     "text": [
      "INFO:gurobipy.gurobipy: 23774 16748    0.00009  177   36 8192996.00    0.00009   100%   109  220s\n"
     ]
    },
    {
     "name": "stdout",
     "output_type": "stream",
     "text": [
      " 24917 17573    0.00009  255   33 8192996.00    0.00009   100%   110  225s\n"
     ]
    },
    {
     "name": "stderr",
     "output_type": "stream",
     "text": [
      "INFO:gurobipy.gurobipy: 24917 17573    0.00009  255   33 8192996.00    0.00009   100%   110  225s\n"
     ]
    },
    {
     "name": "stdout",
     "output_type": "stream",
     "text": [
      " 25850 18909    0.00009  413   29 8192996.00    0.00009   100%   110  231s\n"
     ]
    },
    {
     "name": "stderr",
     "output_type": "stream",
     "text": [
      "INFO:gurobipy.gurobipy: 25850 18909    0.00009  413   29 8192996.00    0.00009   100%   110  231s\n"
     ]
    },
    {
     "name": "stdout",
     "output_type": "stream",
     "text": [
      " 27408 20140    0.00009  546   30 8192996.00    0.00009   100%   110  235s\n"
     ]
    },
    {
     "name": "stderr",
     "output_type": "stream",
     "text": [
      "INFO:gurobipy.gurobipy: 27408 20140    0.00009  546   30 8192996.00    0.00009   100%   110  235s\n"
     ]
    },
    {
     "name": "stdout",
     "output_type": "stream",
     "text": [
      " 28871 20907    0.00009  104   31 8192996.00    0.00009   100%   110  243s\n"
     ]
    },
    {
     "name": "stderr",
     "output_type": "stream",
     "text": [
      "INFO:gurobipy.gurobipy: 28871 20907    0.00009  104   31 8192996.00    0.00009   100%   110  243s\n"
     ]
    },
    {
     "name": "stdout",
     "output_type": "stream",
     "text": [
      " 29777 21967    0.00009  193   32 8192996.00    0.00009   100%   110  251s\n"
     ]
    },
    {
     "name": "stderr",
     "output_type": "stream",
     "text": [
      "INFO:gurobipy.gurobipy: 29777 21967    0.00009  193   32 8192996.00    0.00009   100%   110  251s\n"
     ]
    },
    {
     "name": "stdout",
     "output_type": "stream",
     "text": [
      " 30912 22761    0.00009  272   31 8192996.00    0.00009   100%   113  257s\n"
     ]
    },
    {
     "name": "stderr",
     "output_type": "stream",
     "text": [
      "INFO:gurobipy.gurobipy: 30912 22761    0.00009  272   31 8192996.00    0.00009   100%   113  257s\n"
     ]
    },
    {
     "name": "stdout",
     "output_type": "stream",
     "text": [
      " 31837 24807    0.00009  322   29 8192996.00    0.00009   100%   113  265s\n"
     ]
    },
    {
     "name": "stderr",
     "output_type": "stream",
     "text": [
      "INFO:gurobipy.gurobipy: 31837 24807    0.00009  322   29 8192996.00    0.00009   100%   113  265s\n"
     ]
    },
    {
     "name": "stdout",
     "output_type": "stream",
     "text": [
      " 34164 25747    0.00009  122   31 8192996.00    0.00009   100%   113  270s\n"
     ]
    },
    {
     "name": "stderr",
     "output_type": "stream",
     "text": [
      "INFO:gurobipy.gurobipy: 34164 25747    0.00009  122   31 8192996.00    0.00009   100%   113  270s\n"
     ]
    },
    {
     "name": "stdout",
     "output_type": "stream",
     "text": [
      " 35263 26369    0.00009  211   30 8192996.00    0.00009   100%   113  282s\n"
     ]
    },
    {
     "name": "stderr",
     "output_type": "stream",
     "text": [
      "INFO:gurobipy.gurobipy: 35263 26369    0.00009  211   30 8192996.00    0.00009   100%   113  282s\n"
     ]
    },
    {
     "name": "stdout",
     "output_type": "stream",
     "text": [
      " 35970 28127    0.00009  344   30 8192996.00    0.00009   100%   114  289s\n"
     ]
    },
    {
     "name": "stderr",
     "output_type": "stream",
     "text": [
      "INFO:gurobipy.gurobipy: 35970 28127    0.00009  344   30 8192996.00    0.00009   100%   114  289s\n"
     ]
    },
    {
     "name": "stdout",
     "output_type": "stream",
     "text": [
      " 37862 29550    0.00009  602   29 8192996.00    0.00009   100%   113  295s\n"
     ]
    },
    {
     "name": "stderr",
     "output_type": "stream",
     "text": [
      "INFO:gurobipy.gurobipy: 37862 29550    0.00009  602   29 8192996.00    0.00009   100%   113  295s\n"
     ]
    },
    {
     "name": "stdout",
     "output_type": "stream",
     "text": [
      " 39513 31052    0.00009  151   27 8192996.00    0.00009   100%   112  300s\n"
     ]
    },
    {
     "name": "stderr",
     "output_type": "stream",
     "text": [
      "INFO:gurobipy.gurobipy: 39513 31052    0.00009  151   27 8192996.00    0.00009   100%   112  300s\n"
     ]
    },
    {
     "name": "stdout",
     "output_type": "stream",
     "text": [
      "\n"
     ]
    },
    {
     "name": "stderr",
     "output_type": "stream",
     "text": [
      "INFO:gurobipy.gurobipy:\n"
     ]
    },
    {
     "name": "stdout",
     "output_type": "stream",
     "text": [
      "Explored 41231 nodes (4549108 simplex iterations) in 300.04 seconds (509.57 work units)\n"
     ]
    },
    {
     "name": "stderr",
     "output_type": "stream",
     "text": [
      "INFO:gurobipy.gurobipy:Explored 41231 nodes (4549108 simplex iterations) in 300.04 seconds (509.57 work units)\n"
     ]
    },
    {
     "name": "stdout",
     "output_type": "stream",
     "text": [
      "Thread count was 8 (of 8 available processors)\n"
     ]
    },
    {
     "name": "stderr",
     "output_type": "stream",
     "text": [
      "INFO:gurobipy.gurobipy:Thread count was 8 (of 8 available processors)\n"
     ]
    },
    {
     "name": "stdout",
     "output_type": "stream",
     "text": [
      "\n"
     ]
    },
    {
     "name": "stderr",
     "output_type": "stream",
     "text": [
      "INFO:gurobipy.gurobipy:\n"
     ]
    },
    {
     "name": "stdout",
     "output_type": "stream",
     "text": [
      "Solution count 10: 8.193e+06 9.78159e+06 1.11495e+07 ... 3.00806e+07\n"
     ]
    },
    {
     "name": "stderr",
     "output_type": "stream",
     "text": [
      "INFO:gurobipy.gurobipy:Solution count 10: 8.193e+06 9.78159e+06 1.11495e+07 ... 3.00806e+07\n"
     ]
    },
    {
     "name": "stdout",
     "output_type": "stream",
     "text": [
      "\n"
     ]
    },
    {
     "name": "stderr",
     "output_type": "stream",
     "text": [
      "INFO:gurobipy.gurobipy:\n"
     ]
    },
    {
     "name": "stdout",
     "output_type": "stream",
     "text": [
      "Time limit reached\n"
     ]
    },
    {
     "name": "stderr",
     "output_type": "stream",
     "text": [
      "INFO:gurobipy.gurobipy:Time limit reached\n"
     ]
    },
    {
     "name": "stdout",
     "output_type": "stream",
     "text": [
      "Best objective 8.192996000000e+06, best bound 9.155273437500e-05, gap 100.0000%\n"
     ]
    },
    {
     "name": "stderr",
     "output_type": "stream",
     "text": [
      "INFO:gurobipy.gurobipy:Best objective 8.192996000000e+06, best bound 9.155273437500e-05, gap 100.0000%\n"
     ]
    },
    {
     "data": {
      "text/plain": [
       "Statistics for partial solution 140277680733344.\n",
       "IS_FULL:True\n",
       "SETS:\n",
       "0: 50322 7059 4830 23181 50152 46999 50579 56643 52350 24611 27707 49158 25623 16959 28470 5999 52164 6415 13030 51051 10360 11812 24948 25873 25408 9152 5968 51914 50472 82469 49526 65415\n",
       "1: 53662 67749 46912 63754 45268 206707 10373 270015 31435 18793 20440 11501 14485 34194 45839 47239 68027\n",
       "2: 23256 282977 23080 69933 78406 81724 78134 228372 26308 55124 29092 80457\n",
       "3: 40868 19311 22890 208596 260107 37140 28756 26581 44229 84438 283620\n",
       "4: 89859 38206 85270 30807 4967 63483 240554 271928 20981 30137 7314 62852 22893 87100\n",
       "5: 86687 75469 57954 67680 66543 63333 49046 297393 1471 38230 76620 86717 88870\n",
       "6: 60486 6276 21309 74335 35133 293515 34940 27698 314306 20176 44558 57889 66449\n",
       "7: 8993 1933 51893 30247 60230 254474 234039 298160 44446 71640\n",
       "8: 88151 92414 45821 11015 53692 45444 33906 3606 1502 46232 83809 201347 86551 262574\n",
       "9: 90314 264621 30733 240534 210543 219218\n",
       "10: 96607 94830 17355 98472 97302 92820 35129 330057 81049 23523 39093 39175 9948\n",
       "11: 303036 87268 339311 41794 59258 27196 86760 70270 40391\n",
       "12: 28215 252972 50601 49903 65893 56716 211791 34999 52539 53582 49418 70866 78777\n",
       "13: 10588 72297 55712 97998 95292 284536 94676 95204 98418 22385 16676 99148 14191\n",
       "14: 80539 83946 79350 87539 279671 87745 357826\n",
       "15: 92359 92018 339195 38229 78372 75173 342797\n",
       "16: 375698 90727 5979 73494 43489 84625 71789 311060\n",
       "17: 15822 32633 4519 15515 25811 327670 83002 387162 87578 76385\n",
       "18: 346671 47520 92616 40264 89243 91393 349541\n",
       "19: 372906 69547 289260 21753 1302 301803\n",
       "Diffs: [  144.   -82.   388.    61.  -124.  -462.   595.  -420.  -411.  -512.\n",
       " -1115. -1191.  -203.   646.   141.  1668.   386.  -378.   773.    96.]\n",
       "Sum Abs Errors: 9796.0\n",
       "STD: 640.0389050674967"
      ]
     },
     "execution_count": 5,
     "metadata": {},
     "output_type": "execute_result"
    }
   ],
   "source": [
    "exact_tl = 300\n",
    "gurobi_l = GurobiSolver(timelimit=exact_tl).solve(data_l.get_data(), m_l)\n",
    "gurobi_l\n"
   ]
  },
  {
   "cell_type": "markdown",
   "metadata": {},
   "source": [
    "## Greedy Algorithm"
   ]
  },
  {
   "cell_type": "code",
   "execution_count": 6,
   "metadata": {
    "pycharm": {
     "name": "#%%\n"
    }
   },
   "outputs": [
    {
     "name": "stderr",
     "output_type": "stream",
     "text": [
      "INFO:core.data_source:Parsing file 'instances/data.wm'.\n"
     ]
    },
    {
     "data": {
      "text/plain": [
       "Statistics for partial solution 140277680733392.\n",
       "IS_FULL:True\n",
       "SETS:\n",
       "0: 23256 69547 30247 45444 51051 387162 89243 81049 60230 16676 201347\n",
       "1: 375698 21309 89859 50152 206707 81724 18793 38229 37140 71640 65415\n",
       "2: 19311 372906 49903 65893 38206 90314 38230 20440 208596 70866 82469\n",
       "3: 88151 40868 1933 49046 23080 95292 1302 357826 14485 71789 34194 68027 210543\n",
       "4: 80539 53662 211791 46912 55712 27698 6415 26581 99148 9948 88870 349541\n",
       "5: 8993 346671 7059 56643 27707 52539 78372 27196 86760 98418 47239 219218\n",
       "6: 92616 73494 34999 16959 228372 87745 40264 49418 22385 342797 66449\n",
       "7: 92018 339311 30807 3606 59258 84625 234039 23523 51914 44558 78777 14191\n",
       "8: 66543 35133 69933 339195 25408 9152 83809 39093 7314 49526 240534 91393\n",
       "9: 57954 5979 52350 78406 28470 85270 26308 330057 10360 240554 94676 46232\n",
       "10: 67680 252972 47520 11015 90727 45268 24611 327670 83002 5968 70270 30137\n",
       "11: 22890 4519 67749 72297 34940 49158 13030 314306 254474 95204 87578 40391\n",
       "12: 15822 50601 74335 23181 1471 63754 92820 87539 260107 44446 30733 311060\n",
       "13: 32633 303036 87268 98472 50579 43489 63483 20176 75173 20981 262574\n",
       "14: 45821 56716 25811 10588 78134 5999 97998 53582 28756 264621 86717 301803\n",
       "15: 96607 6276 50322 10373 270015 35129 24948 298160 86551 76385 62852 39175\n",
       "16: 60486 94830 297393 15515 31435 51893 1502 76620 271928 44229 22893 87100\n",
       "17: 28215 92359 4830 83946 46999 53692 293515 279671 11812 25873 55124 80457\n",
       "18: 86687 75469 282977 92414 63333 17355 289260 21753 41794 33906 50472\n",
       "19: 97302 79350 25623 52164 284536 4967 11501 29092 45839 57889 84438 283620\n",
       "Diffs: [-1223.   191.   659.    61.   342.   340.  -977.   152.   558.   141.\n",
       "   365.    61.  -606.  1389.    71.   318.  -651.    18. -1055.  -154.]\n",
       "Sum Abs Errors: 9332.0\n",
       "STD: 616.9354909550917"
      ]
     },
     "execution_count": 6,
     "metadata": {},
     "output_type": "execute_result"
    }
   ],
   "source": [
    "greedy_l = GreedySolver().solve(data_l.get_data(), m_l)\n",
    "greedy_l"
   ]
  },
  {
   "cell_type": "markdown",
   "metadata": {},
   "source": [
    "### Karmarkar-Karp"
   ]
  },
  {
   "cell_type": "code",
   "execution_count": 7,
   "metadata": {
    "pycharm": {
     "name": "#%%\n"
    }
   },
   "outputs": [
    {
     "name": "stderr",
     "output_type": "stream",
     "text": [
      "INFO:core.data_source:Parsing file 'instances/data.wm'.\n"
     ]
    },
    {
     "data": {
      "text/plain": [
       "Statistics for partial solution 140277663060368.\n",
       "IS_FULL:True\n",
       "SETS:\n",
       "0: 25623 40391 34940 80457 55712 311060 260107 92820 87539 50472 16676\n",
       "1: 45444 72297 65415 30137 53662 293515 279671 92359 83946 22890 11501 4967\n",
       "2: 45268 74335 63483 30247 297393 271928 94830 87100 51893 22385 16959\n",
       "3: 46232 69547 68027 28470 372906 208596 90314 82469 49418 23523 10360 5999\n",
       "4: 26308 38230 37140 79350 56643 342797 228372 92616 87745 50322 9948 6415\n",
       "5: 46912 70866 66543 28215 375698 206707 89859 81724 49526 23256 11812 4830\n",
       "6: 38229 38206 78777 56716 24948 339311 234039 92018 84625 52539 10588 5979\n",
       "7: 26581 39175 35129 76620 60230 357826 210543 95292 88151 49903 10373 6276\n",
       "8: 25873 41794 33906 80539 55124 303036 262574 98472 87268 50579 15515 1502\n",
       "9: 46999 78134 59258 27707 387162 201347 89243 81049 47520 20440 17355\n",
       "10: 25408 40264 34999 78406 57889 298160 270015 96607 86551 51051 11015 5968\n",
       "11: 25811 40868 34194 78372 57954 289260 282977 92414 86687 50601 15822 1471\n",
       "12: 45839 69933 67749 28756 327670 252972 90727 83002 49158 24611 8993 7059\n",
       "13: 27196 39093 35133 76385 60486 314306 254474 95204 87578 50152 9152 7314\n",
       "14: 44446 71640 66449 30807 301803 264621 97998 86717 51914 22893 13030 4519\n",
       "15: 47239 73494 63754 27698 339195 240534 91393 83809 49046 23080 14485 1933 1302\n",
       "16: 45821 71789 65893 29092 53582 284536 283620 97302 84438 23181 14191 3606\n",
       "17: 43489 75173 63333 32633 330057 240554 94676 85270 52350 20981 18793\n",
       "18: 19311 44558 70270 67680 31435 53692 349541 211791 99148 88870 21309\n",
       "19: 20176 44229 75469 62852 30733 346671 219218 98418 86760 52164 21753\n",
       "Diffs: [-678. -671. -654. -614. -589. -527. -500. -376. -293. -261. -142.  -44.\n",
       "   -6.   -2.  362.  487.  576.  834. 1130. 1968.]\n",
       "Sum Abs Errors: 10714.0\n",
       "STD: 687.4678901592423"
      ]
     },
     "execution_count": 7,
     "metadata": {},
     "output_type": "execute_result"
    }
   ],
   "source": [
    "kk_l = KarmarkarKarp().solve(data_l.get_data(), m=m_l)\n",
    "kk_l\n"
   ]
  },
  {
   "cell_type": "markdown",
   "metadata": {},
   "source": [
    "## Moves"
   ]
  },
  {
   "cell_type": "code",
   "execution_count": 8,
   "metadata": {},
   "outputs": [],
   "source": [
    "random_greedy = RandomMover([greedy_transp_many, greedy_transp_one, max_to_min])\n",
    "\n",
    "consequent_greedy = ConsequentMover(\n",
    "    [\n",
    "        partial(greedy_transp_many, max_to_transp=50),\n",
    "        tabu_swap_min_max,\n",
    "        partial(greedy_transp_many, max_to_transp=20),\n",
    "        max_to_min,\n",
    "        tabu_swap_min_max,\n",
    "        partial(greedy_transp_many, max_to_transp=10),\n",
    "        tabu_swap_min_max,\n",
    "    ]\n",
    ")\n",
    "\n",
    "consequent_tabu = ConsequentMover(\n",
    "    [\n",
    "        tabu_swap_min_max,\n",
    "        tabu_transp_one,\n",
    "        tabu_transp_one,\n",
    "        tabu_transp_one,\n",
    "        tabu_transp_one,\n",
    "        tabu_swap_min_max,\n",
    "        tabu_transp_one,\n",
    "        tabu_transp_one,\n",
    "        tabu_transp_one,\n",
    "        tabu_transp_one,\n",
    "        tabu_swap_min_max,\n",
    "    ]\n",
    ")\n"
   ]
  },
  {
   "cell_type": "markdown",
   "metadata": {},
   "source": [
    "## Simulated Annealing"
   ]
  },
  {
   "cell_type": "code",
   "execution_count": 26,
   "metadata": {},
   "outputs": [
    {
     "name": "stderr",
     "output_type": "stream",
     "text": [
      "INFO:algorithm.simulated_annealing:Starting 100 SA iteration.\n",
      "INFO:algorithm.simulated_annealing:Starting 200 SA iteration.\n",
      "INFO:algorithm.simulated_annealing:Starting 300 SA iteration.\n",
      "INFO:algorithm.simulated_annealing:Starting 400 SA iteration.\n",
      "INFO:algorithm.simulated_annealing:Starting 500 SA iteration.\n",
      "INFO:algorithm.simulated_annealing:Starting 600 SA iteration.\n",
      "INFO:algorithm.simulated_annealing:Starting 700 SA iteration.\n",
      "INFO:algorithm.simulated_annealing:Starting 800 SA iteration.\n",
      "INFO:algorithm.simulated_annealing:Starting 900 SA iteration.\n",
      "INFO:algorithm.simulated_annealing:Starting 1000 SA iteration.\n",
      "INFO:algorithm.simulated_annealing:Starting 1100 SA iteration.\n",
      "INFO:algorithm.simulated_annealing:Starting 1200 SA iteration.\n",
      "INFO:algorithm.simulated_annealing:Starting 1300 SA iteration.\n",
      "INFO:algorithm.simulated_annealing:Starting 1400 SA iteration.\n",
      "INFO:algorithm.simulated_annealing:Starting 1500 SA iteration.\n",
      "INFO:algorithm.simulated_annealing:Starting 1600 SA iteration.\n",
      "INFO:algorithm.simulated_annealing:Starting 1700 SA iteration.\n",
      "INFO:algorithm.simulated_annealing:Starting 1800 SA iteration.\n",
      "INFO:algorithm.simulated_annealing:Starting 1900 SA iteration.\n",
      "INFO:algorithm.simulated_annealing:Starting 2000 SA iteration.\n",
      "INFO:algorithm.simulated_annealing:Starting 2100 SA iteration.\n",
      "INFO:algorithm.simulated_annealing:Starting 2200 SA iteration.\n",
      "INFO:algorithm.simulated_annealing:Starting 2300 SA iteration.\n",
      "INFO:algorithm.simulated_annealing:Starting 2400 SA iteration.\n",
      "INFO:algorithm.simulated_annealing:Starting 2500 SA iteration.\n",
      "INFO:algorithm.simulated_annealing:Starting 2600 SA iteration.\n",
      "INFO:algorithm.simulated_annealing:Starting 2700 SA iteration.\n",
      "INFO:algorithm.simulated_annealing:Starting 2800 SA iteration.\n",
      "INFO:algorithm.simulated_annealing:Starting 2900 SA iteration.\n",
      "INFO:algorithm.simulated_annealing:Starting 3000 SA iteration.\n",
      "INFO:algorithm.simulated_annealing:Starting 3100 SA iteration.\n",
      "INFO:algorithm.simulated_annealing:Starting 3200 SA iteration.\n",
      "INFO:algorithm.simulated_annealing:Starting 3300 SA iteration.\n",
      "INFO:algorithm.simulated_annealing:Starting 3400 SA iteration.\n",
      "INFO:algorithm.simulated_annealing:Starting 3500 SA iteration.\n",
      "INFO:algorithm.simulated_annealing:Starting 3600 SA iteration.\n",
      "INFO:algorithm.simulated_annealing:Starting 3700 SA iteration.\n",
      "INFO:algorithm.simulated_annealing:Starting 3800 SA iteration.\n",
      "INFO:algorithm.simulated_annealing:Starting 3900 SA iteration.\n",
      "INFO:algorithm.simulated_annealing:Starting 4000 SA iteration.\n",
      "INFO:algorithm.simulated_annealing:Starting 4100 SA iteration.\n",
      "INFO:algorithm.simulated_annealing:Starting 4200 SA iteration.\n",
      "INFO:algorithm.simulated_annealing:Starting 4300 SA iteration.\n",
      "INFO:algorithm.simulated_annealing:Starting 4400 SA iteration.\n",
      "INFO:algorithm.simulated_annealing:Starting 4500 SA iteration.\n",
      "INFO:algorithm.simulated_annealing:Starting 4600 SA iteration.\n",
      "INFO:algorithm.simulated_annealing:Starting 4700 SA iteration.\n",
      "INFO:algorithm.simulated_annealing:Starting 4800 SA iteration.\n",
      "INFO:algorithm.simulated_annealing:Starting 4900 SA iteration.\n",
      "INFO:algorithm.simulated_annealing:Starting 5000 SA iteration.\n",
      "INFO:algorithm.simulated_annealing:Starting 5100 SA iteration.\n",
      "INFO:algorithm.simulated_annealing:Starting 5200 SA iteration.\n",
      "INFO:algorithm.simulated_annealing:Starting 5300 SA iteration.\n",
      "INFO:algorithm.simulated_annealing:Starting 5400 SA iteration.\n",
      "INFO:algorithm.simulated_annealing:Starting 5500 SA iteration.\n",
      "INFO:algorithm.simulated_annealing:Starting 5600 SA iteration.\n",
      "INFO:algorithm.simulated_annealing:Starting 5700 SA iteration.\n",
      "INFO:algorithm.simulated_annealing:Starting 5800 SA iteration.\n",
      "INFO:algorithm.simulated_annealing:Starting 5900 SA iteration.\n",
      "INFO:algorithm.simulated_annealing:Starting 6000 SA iteration.\n",
      "INFO:algorithm.simulated_annealing:Starting 6100 SA iteration.\n",
      "INFO:algorithm.simulated_annealing:Starting 6200 SA iteration.\n",
      "INFO:algorithm.simulated_annealing:Starting 6300 SA iteration.\n",
      "INFO:algorithm.simulated_annealing:Starting 6400 SA iteration.\n",
      "INFO:algorithm.simulated_annealing:Starting 6500 SA iteration.\n",
      "INFO:algorithm.simulated_annealing:Starting 6600 SA iteration.\n",
      "INFO:algorithm.simulated_annealing:Starting 6700 SA iteration.\n",
      "INFO:algorithm.simulated_annealing:Starting 6800 SA iteration.\n",
      "INFO:algorithm.simulated_annealing:Starting 6900 SA iteration.\n",
      "INFO:algorithm.simulated_annealing:Starting 7000 SA iteration.\n",
      "INFO:algorithm.simulated_annealing:Starting 7100 SA iteration.\n",
      "INFO:algorithm.simulated_annealing:Starting 7200 SA iteration.\n",
      "INFO:algorithm.simulated_annealing:Starting 7300 SA iteration.\n",
      "INFO:algorithm.simulated_annealing:Starting 7400 SA iteration.\n",
      "INFO:algorithm.simulated_annealing:Starting 7500 SA iteration.\n",
      "INFO:algorithm.simulated_annealing:Starting 7600 SA iteration.\n",
      "INFO:algorithm.simulated_annealing:Starting 7700 SA iteration.\n",
      "INFO:algorithm.simulated_annealing:Starting 7800 SA iteration.\n",
      "INFO:algorithm.simulated_annealing:Starting 7900 SA iteration.\n",
      "INFO:algorithm.simulated_annealing:Starting 8000 SA iteration.\n",
      "INFO:algorithm.simulated_annealing:Starting 8100 SA iteration.\n",
      "INFO:algorithm.simulated_annealing:Starting 8200 SA iteration.\n",
      "INFO:algorithm.simulated_annealing:Starting 8300 SA iteration.\n",
      "INFO:algorithm.simulated_annealing:Starting 8400 SA iteration.\n",
      "INFO:algorithm.simulated_annealing:Starting 8500 SA iteration.\n",
      "INFO:algorithm.simulated_annealing:Starting 8600 SA iteration.\n",
      "INFO:algorithm.simulated_annealing:Starting 8700 SA iteration.\n",
      "INFO:algorithm.simulated_annealing:Starting 8800 SA iteration.\n",
      "INFO:algorithm.simulated_annealing:Starting 8900 SA iteration.\n",
      "INFO:algorithm.simulated_annealing:Starting 9000 SA iteration.\n",
      "INFO:algorithm.simulated_annealing:Starting 9100 SA iteration.\n",
      "INFO:algorithm.simulated_annealing:Starting 9200 SA iteration.\n",
      "INFO:algorithm.simulated_annealing:Starting 9300 SA iteration.\n",
      "INFO:algorithm.simulated_annealing:Starting 9400 SA iteration.\n",
      "INFO:algorithm.simulated_annealing:Starting 9500 SA iteration.\n",
      "INFO:algorithm.simulated_annealing:Starting 9600 SA iteration.\n",
      "INFO:algorithm.simulated_annealing:Starting 9700 SA iteration.\n",
      "INFO:algorithm.simulated_annealing:Starting 9800 SA iteration.\n",
      "INFO:algorithm.simulated_annealing:Starting 9900 SA iteration.\n",
      "INFO:algorithm.simulated_annealing:Starting 10000 SA iteration.\n",
      "INFO:algorithm.simulated_annealing:Starting 10100 SA iteration.\n",
      "INFO:algorithm.simulated_annealing:Starting 10200 SA iteration.\n",
      "INFO:algorithm.simulated_annealing:Starting 10300 SA iteration.\n",
      "INFO:algorithm.simulated_annealing:Starting 10400 SA iteration.\n",
      "INFO:algorithm.simulated_annealing:Starting 10500 SA iteration.\n",
      "INFO:algorithm.simulated_annealing:Starting 10600 SA iteration.\n",
      "INFO:algorithm.simulated_annealing:Starting 10700 SA iteration.\n",
      "INFO:algorithm.simulated_annealing:Starting 10800 SA iteration.\n",
      "INFO:algorithm.simulated_annealing:Starting 10900 SA iteration.\n",
      "INFO:algorithm.simulated_annealing:Starting 11000 SA iteration.\n",
      "INFO:algorithm.simulated_annealing:Starting 11100 SA iteration.\n",
      "INFO:algorithm.simulated_annealing:Starting 11200 SA iteration.\n",
      "INFO:algorithm.simulated_annealing:Starting 11300 SA iteration.\n",
      "INFO:algorithm.simulated_annealing:Starting 11400 SA iteration.\n",
      "INFO:algorithm.simulated_annealing:Starting 11500 SA iteration.\n",
      "INFO:algorithm.simulated_annealing:Starting 11600 SA iteration.\n",
      "INFO:algorithm.simulated_annealing:Starting 11700 SA iteration.\n",
      "INFO:algorithm.simulated_annealing:Starting 11800 SA iteration.\n",
      "INFO:algorithm.simulated_annealing:Starting 11900 SA iteration.\n",
      "INFO:algorithm.simulated_annealing:Starting 12000 SA iteration.\n",
      "INFO:algorithm.simulated_annealing:Starting 12100 SA iteration.\n",
      "INFO:algorithm.simulated_annealing:Starting 12200 SA iteration.\n",
      "INFO:algorithm.simulated_annealing:Starting 12300 SA iteration.\n",
      "INFO:algorithm.simulated_annealing:Starting 12400 SA iteration.\n",
      "INFO:algorithm.simulated_annealing:Starting 12500 SA iteration.\n",
      "INFO:algorithm.simulated_annealing:Starting 12600 SA iteration.\n",
      "INFO:algorithm.simulated_annealing:Starting 12700 SA iteration.\n",
      "INFO:algorithm.simulated_annealing:Starting 12800 SA iteration.\n",
      "INFO:algorithm.simulated_annealing:Starting 12900 SA iteration.\n",
      "INFO:algorithm.simulated_annealing:Starting 13000 SA iteration.\n"
     ]
    },
    {
     "name": "stderr",
     "output_type": "stream",
     "text": [
      "INFO:algorithm.simulated_annealing:Starting 13100 SA iteration.\n",
      "INFO:algorithm.simulated_annealing:Starting 13200 SA iteration.\n",
      "INFO:algorithm.simulated_annealing:Starting 13300 SA iteration.\n",
      "INFO:algorithm.simulated_annealing:Starting 13400 SA iteration.\n",
      "INFO:algorithm.simulated_annealing:Starting 13500 SA iteration.\n",
      "INFO:algorithm.simulated_annealing:Starting 13600 SA iteration.\n",
      "INFO:algorithm.simulated_annealing:Starting 13700 SA iteration.\n",
      "INFO:algorithm.simulated_annealing:Starting 13800 SA iteration.\n",
      "INFO:algorithm.simulated_annealing:Starting 13900 SA iteration.\n",
      "INFO:algorithm.simulated_annealing:Starting 14000 SA iteration.\n",
      "INFO:algorithm.simulated_annealing:Starting 14100 SA iteration.\n",
      "INFO:algorithm.simulated_annealing:Starting 14200 SA iteration.\n",
      "INFO:algorithm.simulated_annealing:Starting 14300 SA iteration.\n",
      "INFO:algorithm.simulated_annealing:Starting 14400 SA iteration.\n",
      "INFO:algorithm.simulated_annealing:Starting 14500 SA iteration.\n",
      "INFO:algorithm.simulated_annealing:Starting 14600 SA iteration.\n",
      "INFO:algorithm.simulated_annealing:Starting 14700 SA iteration.\n",
      "INFO:algorithm.simulated_annealing:Starting 14800 SA iteration.\n",
      "INFO:algorithm.simulated_annealing:Starting 14900 SA iteration.\n",
      "INFO:algorithm.simulated_annealing:Starting 15000 SA iteration.\n",
      "INFO:algorithm.simulated_annealing:Starting 15100 SA iteration.\n",
      "INFO:algorithm.simulated_annealing:Starting 15200 SA iteration.\n",
      "INFO:algorithm.simulated_annealing:Starting 15300 SA iteration.\n",
      "INFO:algorithm.simulated_annealing:Starting 15400 SA iteration.\n",
      "INFO:algorithm.simulated_annealing:Starting 15500 SA iteration.\n",
      "INFO:algorithm.simulated_annealing:Starting 15600 SA iteration.\n",
      "INFO:algorithm.simulated_annealing:Starting 15700 SA iteration.\n",
      "INFO:algorithm.simulated_annealing:Starting 15800 SA iteration.\n",
      "INFO:algorithm.simulated_annealing:Starting 15900 SA iteration.\n",
      "INFO:algorithm.simulated_annealing:Starting 16000 SA iteration.\n",
      "INFO:algorithm.simulated_annealing:Starting 16100 SA iteration.\n",
      "INFO:algorithm.simulated_annealing:Starting 16200 SA iteration.\n",
      "INFO:algorithm.simulated_annealing:Starting 16300 SA iteration.\n",
      "INFO:algorithm.simulated_annealing:Starting 16400 SA iteration.\n",
      "INFO:algorithm.simulated_annealing:Starting 16500 SA iteration.\n",
      "INFO:algorithm.simulated_annealing:Starting 16600 SA iteration.\n",
      "INFO:algorithm.simulated_annealing:Starting 16700 SA iteration.\n",
      "INFO:algorithm.simulated_annealing:Starting 16800 SA iteration.\n",
      "INFO:algorithm.simulated_annealing:Starting 16900 SA iteration.\n",
      "INFO:algorithm.simulated_annealing:Starting 17000 SA iteration.\n",
      "INFO:algorithm.simulated_annealing:Starting 17100 SA iteration.\n",
      "INFO:algorithm.simulated_annealing:Starting 17200 SA iteration.\n",
      "INFO:algorithm.simulated_annealing:Starting 17300 SA iteration.\n",
      "INFO:algorithm.simulated_annealing:Starting 17400 SA iteration.\n",
      "INFO:algorithm.simulated_annealing:Starting 17500 SA iteration.\n",
      "INFO:algorithm.simulated_annealing:Starting 17600 SA iteration.\n",
      "INFO:algorithm.simulated_annealing:Starting 17700 SA iteration.\n",
      "INFO:algorithm.simulated_annealing:Starting 17800 SA iteration.\n",
      "INFO:algorithm.simulated_annealing:Starting 17900 SA iteration.\n",
      "INFO:algorithm.simulated_annealing:Starting 18000 SA iteration.\n",
      "INFO:algorithm.simulated_annealing:Starting 18100 SA iteration.\n",
      "INFO:algorithm.simulated_annealing:Starting 18200 SA iteration.\n",
      "INFO:algorithm.simulated_annealing:Starting 18300 SA iteration.\n",
      "INFO:algorithm.simulated_annealing:Starting 18400 SA iteration.\n",
      "INFO:algorithm.simulated_annealing:Starting 18500 SA iteration.\n",
      "INFO:algorithm.simulated_annealing:Starting 18600 SA iteration.\n",
      "INFO:algorithm.simulated_annealing:Starting 18700 SA iteration.\n",
      "INFO:algorithm.simulated_annealing:Starting 18800 SA iteration.\n",
      "INFO:algorithm.simulated_annealing:Starting 18900 SA iteration.\n",
      "INFO:algorithm.simulated_annealing:Starting 19000 SA iteration.\n",
      "INFO:algorithm.simulated_annealing:Starting 19100 SA iteration.\n",
      "INFO:algorithm.simulated_annealing:Starting 19200 SA iteration.\n",
      "INFO:algorithm.simulated_annealing:Starting 19300 SA iteration.\n",
      "INFO:algorithm.simulated_annealing:Starting 19400 SA iteration.\n",
      "INFO:algorithm.simulated_annealing:Starting 19500 SA iteration.\n",
      "INFO:algorithm.simulated_annealing:Starting 19600 SA iteration.\n",
      "INFO:algorithm.simulated_annealing:Starting 19700 SA iteration.\n",
      "INFO:algorithm.simulated_annealing:Starting 19800 SA iteration.\n",
      "INFO:algorithm.simulated_annealing:Starting 19900 SA iteration.\n",
      "INFO:algorithm.simulated_annealing:Starting 20000 SA iteration.\n"
     ]
    },
    {
     "name": "stdout",
     "output_type": "stream",
     "text": [
      "CPU times: user 3min 43s, sys: 281 ms, total: 3min 43s\n",
      "Wall time: 3min 43s\n"
     ]
    },
    {
     "data": {
      "text/plain": [
       "Statistics for partial solution 140276438351104.\n",
       "IS_FULL:True\n",
       "SETS:\n",
       "0: 45444 387162 86760 81049 60230 46232 70270 30733 47239 201347\n",
       "1: 88151 375698 80539 92018 206707 6415 89243 87578 30137\n",
       "2: 15822 23256 372906 90727 50579 67749 69547 38206 327670\n",
       "3: 60486 25811 72297 90314 357826 13030 63483 53582 99148 210543 9948\n",
       "4: 67680 6276 65893 53662 211791 46912 55712 16959 76620 20981 84438 349541\n",
       "5: 50322 23181 15515 53692 23080 49158 41794 18793 27698 11501 11812 254474 37140 82469 49526 219218 87100\n",
       "6: 19311 63333 79350 95292 228372 71789 25408 16676 7314 40391 342797 66449\n",
       "7: 75469 89859 56716 34940 27707 30807 1502 14485 240554 234039 44446 75173 86551 44229\n",
       "8: 66543 49903 69933 339195 26308 83809 240534 91393 88870\n",
       "9: 57954 92414 78406 21753 339311 38230 330057 49418 28756 20176\n",
       "10: 74335 35133 5979 73494 63754 45268 293515 24611 5999 34194 264621 55124 80457\n",
       "11: 49046 4830 92616 52350 25623 51893 260107 314306 95204 50472 45839 14191\n",
       "12: 40868 32633 252972 4519 92820 28470 52164 30247 78372 22385 39093 70866 311060\n",
       "13: 303036 50601 45821 7059 98472 87539 43489 31435 38229 3606 84625 262574\n",
       "14: 346671 94830 10588 10373 78134 52539 51914 86717 301803 22893\n",
       "15: 86687 96607 87268 47520 20440 10360 208596 298160 25873 9152 26581 76385 62852\n",
       "16: 8993 297393 1471 97998 83002 59258 27196 271928 98418 39175 71640\n",
       "17: 92359 22890 50152 34999 279671 284536 35129 33906 51051 24948 23523 57889 65415\n",
       "18: 282977 21309 17355 83946 46999 56643 289260 81724 1302 4967 40264 94676 5968 29092\n",
       "19: 28215 1933 11015 97302 270015 85270 87745 44558 68027 78777 283620\n",
       "Diffs: [ -9.  11. -13.  -7. -10.  -2.   7.   2.  13.   0.   9.   2.  -6.  11.\n",
       " -13.   6.  -3.  -7.   7.   2.]\n",
       "Sum Abs Errors: 140.0\n",
       "STD: 8.07465169527454"
      ]
     },
     "execution_count": 26,
     "metadata": {},
     "output_type": "execute_result"
    }
   ],
   "source": [
    "%%time\n",
    "sa_l_g = SimulatedAnnealing(\n",
    "    greedy_l,\n",
    "    move=consequent_greedy,\n",
    "    temperature_func=temperature_div,\n",
    "    t_max=10**7 * 2,\n",
    "    t_min=10**-9,\n",
    "    max_iter=10**4 * 2,\n",
    ").solve(\n",
    "    data_l,\n",
    "    m_l,\n",
    ")\n",
    "sa_l_g\n"
   ]
  },
  {
   "cell_type": "code",
   "execution_count": 27,
   "metadata": {
    "scrolled": true
   },
   "outputs": [
    {
     "name": "stderr",
     "output_type": "stream",
     "text": [
      "INFO:algorithm.simulated_annealing:Starting 100 SA iteration.\n",
      "INFO:algorithm.simulated_annealing:Starting 200 SA iteration.\n",
      "INFO:algorithm.simulated_annealing:Starting 300 SA iteration.\n",
      "INFO:algorithm.simulated_annealing:Starting 400 SA iteration.\n",
      "INFO:algorithm.simulated_annealing:Starting 500 SA iteration.\n",
      "INFO:algorithm.simulated_annealing:Starting 600 SA iteration.\n",
      "INFO:algorithm.simulated_annealing:Starting 700 SA iteration.\n",
      "INFO:algorithm.simulated_annealing:Starting 800 SA iteration.\n",
      "INFO:algorithm.simulated_annealing:Starting 900 SA iteration.\n",
      "INFO:algorithm.simulated_annealing:Starting 1000 SA iteration.\n",
      "INFO:algorithm.simulated_annealing:Starting 1100 SA iteration.\n",
      "INFO:algorithm.simulated_annealing:Starting 1200 SA iteration.\n",
      "INFO:algorithm.simulated_annealing:Starting 1300 SA iteration.\n",
      "INFO:algorithm.simulated_annealing:Starting 1400 SA iteration.\n",
      "INFO:algorithm.simulated_annealing:Starting 1500 SA iteration.\n",
      "INFO:algorithm.simulated_annealing:Starting 1600 SA iteration.\n",
      "INFO:algorithm.simulated_annealing:Starting 1700 SA iteration.\n",
      "INFO:algorithm.simulated_annealing:Starting 1800 SA iteration.\n",
      "INFO:algorithm.simulated_annealing:Starting 1900 SA iteration.\n",
      "INFO:algorithm.simulated_annealing:Starting 2000 SA iteration.\n",
      "INFO:algorithm.simulated_annealing:Starting 2100 SA iteration.\n",
      "INFO:algorithm.simulated_annealing:Starting 2200 SA iteration.\n",
      "INFO:algorithm.simulated_annealing:Starting 2300 SA iteration.\n",
      "INFO:algorithm.simulated_annealing:Starting 2400 SA iteration.\n",
      "INFO:algorithm.simulated_annealing:Starting 2500 SA iteration.\n",
      "INFO:algorithm.simulated_annealing:Starting 2600 SA iteration.\n",
      "INFO:algorithm.simulated_annealing:Starting 2700 SA iteration.\n",
      "INFO:algorithm.simulated_annealing:Starting 2800 SA iteration.\n",
      "INFO:algorithm.simulated_annealing:Starting 2900 SA iteration.\n",
      "INFO:algorithm.simulated_annealing:Starting 3000 SA iteration.\n",
      "INFO:algorithm.simulated_annealing:Starting 3100 SA iteration.\n",
      "INFO:algorithm.simulated_annealing:Starting 3200 SA iteration.\n",
      "INFO:algorithm.simulated_annealing:Starting 3300 SA iteration.\n",
      "INFO:algorithm.simulated_annealing:Starting 3400 SA iteration.\n",
      "INFO:algorithm.simulated_annealing:Starting 3500 SA iteration.\n",
      "INFO:algorithm.simulated_annealing:Starting 3600 SA iteration.\n",
      "INFO:algorithm.simulated_annealing:Starting 3700 SA iteration.\n",
      "INFO:algorithm.simulated_annealing:Starting 3800 SA iteration.\n",
      "INFO:algorithm.simulated_annealing:Starting 3900 SA iteration.\n",
      "INFO:algorithm.simulated_annealing:Starting 4000 SA iteration.\n",
      "INFO:algorithm.simulated_annealing:Starting 4100 SA iteration.\n",
      "INFO:algorithm.simulated_annealing:Starting 4200 SA iteration.\n",
      "INFO:algorithm.simulated_annealing:Starting 4300 SA iteration.\n",
      "INFO:algorithm.simulated_annealing:Starting 4400 SA iteration.\n",
      "INFO:algorithm.simulated_annealing:Starting 4500 SA iteration.\n",
      "INFO:algorithm.simulated_annealing:Starting 4600 SA iteration.\n",
      "INFO:algorithm.simulated_annealing:Starting 4700 SA iteration.\n",
      "INFO:algorithm.simulated_annealing:Starting 4800 SA iteration.\n",
      "INFO:algorithm.simulated_annealing:Starting 4900 SA iteration.\n",
      "INFO:algorithm.simulated_annealing:Starting 5000 SA iteration.\n",
      "INFO:algorithm.simulated_annealing:Starting 5100 SA iteration.\n",
      "INFO:algorithm.simulated_annealing:Starting 5200 SA iteration.\n",
      "INFO:algorithm.simulated_annealing:Starting 5300 SA iteration.\n",
      "INFO:algorithm.simulated_annealing:Starting 5400 SA iteration.\n",
      "INFO:algorithm.simulated_annealing:Starting 5500 SA iteration.\n",
      "INFO:algorithm.simulated_annealing:Starting 5600 SA iteration.\n",
      "INFO:algorithm.simulated_annealing:Starting 5700 SA iteration.\n",
      "INFO:algorithm.simulated_annealing:Starting 5800 SA iteration.\n",
      "INFO:algorithm.simulated_annealing:Starting 5900 SA iteration.\n",
      "INFO:algorithm.simulated_annealing:Starting 6000 SA iteration.\n",
      "INFO:algorithm.simulated_annealing:Starting 6100 SA iteration.\n",
      "INFO:algorithm.simulated_annealing:Starting 6200 SA iteration.\n",
      "INFO:algorithm.simulated_annealing:Starting 6300 SA iteration.\n",
      "INFO:algorithm.simulated_annealing:Starting 6400 SA iteration.\n",
      "INFO:algorithm.simulated_annealing:Starting 6500 SA iteration.\n",
      "INFO:algorithm.simulated_annealing:Starting 6600 SA iteration.\n",
      "INFO:algorithm.simulated_annealing:Starting 6700 SA iteration.\n",
      "INFO:algorithm.simulated_annealing:Starting 6800 SA iteration.\n",
      "INFO:algorithm.simulated_annealing:Starting 6900 SA iteration.\n",
      "INFO:algorithm.simulated_annealing:Starting 7000 SA iteration.\n",
      "INFO:algorithm.simulated_annealing:Starting 7100 SA iteration.\n",
      "INFO:algorithm.simulated_annealing:Starting 7200 SA iteration.\n",
      "INFO:algorithm.simulated_annealing:Starting 7300 SA iteration.\n",
      "INFO:algorithm.simulated_annealing:Starting 7400 SA iteration.\n",
      "INFO:algorithm.simulated_annealing:Starting 7500 SA iteration.\n",
      "INFO:algorithm.simulated_annealing:Starting 7600 SA iteration.\n",
      "INFO:algorithm.simulated_annealing:Starting 7700 SA iteration.\n",
      "INFO:algorithm.simulated_annealing:Starting 7800 SA iteration.\n",
      "INFO:algorithm.simulated_annealing:Starting 7900 SA iteration.\n",
      "INFO:algorithm.simulated_annealing:Starting 8000 SA iteration.\n",
      "INFO:algorithm.simulated_annealing:Starting 8100 SA iteration.\n",
      "INFO:algorithm.simulated_annealing:Starting 8200 SA iteration.\n",
      "INFO:algorithm.simulated_annealing:Starting 8300 SA iteration.\n",
      "INFO:algorithm.simulated_annealing:Starting 8400 SA iteration.\n",
      "INFO:algorithm.simulated_annealing:Starting 8500 SA iteration.\n",
      "INFO:algorithm.simulated_annealing:Starting 8600 SA iteration.\n",
      "INFO:algorithm.simulated_annealing:Starting 8700 SA iteration.\n",
      "INFO:algorithm.simulated_annealing:Starting 8800 SA iteration.\n",
      "INFO:algorithm.simulated_annealing:Starting 8900 SA iteration.\n",
      "INFO:algorithm.simulated_annealing:Starting 9000 SA iteration.\n",
      "INFO:algorithm.simulated_annealing:Starting 9100 SA iteration.\n",
      "INFO:algorithm.simulated_annealing:Starting 9200 SA iteration.\n",
      "INFO:algorithm.simulated_annealing:Starting 9300 SA iteration.\n",
      "INFO:algorithm.simulated_annealing:Starting 9400 SA iteration.\n",
      "INFO:algorithm.simulated_annealing:Starting 9500 SA iteration.\n",
      "INFO:algorithm.simulated_annealing:Starting 9600 SA iteration.\n",
      "INFO:algorithm.simulated_annealing:Starting 9700 SA iteration.\n",
      "INFO:algorithm.simulated_annealing:Starting 9800 SA iteration.\n",
      "INFO:algorithm.simulated_annealing:Starting 9900 SA iteration.\n",
      "INFO:algorithm.simulated_annealing:Starting 10000 SA iteration.\n",
      "INFO:algorithm.simulated_annealing:Starting 10100 SA iteration.\n",
      "INFO:algorithm.simulated_annealing:Starting 10200 SA iteration.\n",
      "INFO:algorithm.simulated_annealing:Starting 10300 SA iteration.\n",
      "INFO:algorithm.simulated_annealing:Starting 10400 SA iteration.\n",
      "INFO:algorithm.simulated_annealing:Starting 10500 SA iteration.\n",
      "INFO:algorithm.simulated_annealing:Starting 10600 SA iteration.\n",
      "INFO:algorithm.simulated_annealing:Starting 10700 SA iteration.\n",
      "INFO:algorithm.simulated_annealing:Starting 10800 SA iteration.\n",
      "INFO:algorithm.simulated_annealing:Starting 10900 SA iteration.\n",
      "INFO:algorithm.simulated_annealing:Starting 11000 SA iteration.\n",
      "INFO:algorithm.simulated_annealing:Starting 11100 SA iteration.\n",
      "INFO:algorithm.simulated_annealing:Starting 11200 SA iteration.\n",
      "INFO:algorithm.simulated_annealing:Starting 11300 SA iteration.\n",
      "INFO:algorithm.simulated_annealing:Starting 11400 SA iteration.\n",
      "INFO:algorithm.simulated_annealing:Starting 11500 SA iteration.\n",
      "INFO:algorithm.simulated_annealing:Starting 11600 SA iteration.\n",
      "INFO:algorithm.simulated_annealing:Starting 11700 SA iteration.\n",
      "INFO:algorithm.simulated_annealing:Starting 11800 SA iteration.\n",
      "INFO:algorithm.simulated_annealing:Starting 11900 SA iteration.\n",
      "INFO:algorithm.simulated_annealing:Starting 12000 SA iteration.\n",
      "INFO:algorithm.simulated_annealing:Starting 12100 SA iteration.\n",
      "INFO:algorithm.simulated_annealing:Starting 12200 SA iteration.\n",
      "INFO:algorithm.simulated_annealing:Starting 12300 SA iteration.\n",
      "INFO:algorithm.simulated_annealing:Starting 12400 SA iteration.\n",
      "INFO:algorithm.simulated_annealing:Starting 12500 SA iteration.\n",
      "INFO:algorithm.simulated_annealing:Starting 12600 SA iteration.\n",
      "INFO:algorithm.simulated_annealing:Starting 12700 SA iteration.\n",
      "INFO:algorithm.simulated_annealing:Starting 12800 SA iteration.\n",
      "INFO:algorithm.simulated_annealing:Starting 12900 SA iteration.\n",
      "INFO:algorithm.simulated_annealing:Starting 13000 SA iteration.\n"
     ]
    },
    {
     "name": "stderr",
     "output_type": "stream",
     "text": [
      "INFO:algorithm.simulated_annealing:Starting 13100 SA iteration.\n",
      "INFO:algorithm.simulated_annealing:Starting 13200 SA iteration.\n",
      "INFO:algorithm.simulated_annealing:Starting 13300 SA iteration.\n",
      "INFO:algorithm.simulated_annealing:Starting 13400 SA iteration.\n",
      "INFO:algorithm.simulated_annealing:Starting 13500 SA iteration.\n",
      "INFO:algorithm.simulated_annealing:Starting 13600 SA iteration.\n",
      "INFO:algorithm.simulated_annealing:Starting 13700 SA iteration.\n",
      "INFO:algorithm.simulated_annealing:Starting 13800 SA iteration.\n",
      "INFO:algorithm.simulated_annealing:Starting 13900 SA iteration.\n",
      "INFO:algorithm.simulated_annealing:Starting 14000 SA iteration.\n",
      "INFO:algorithm.simulated_annealing:Starting 14100 SA iteration.\n",
      "INFO:algorithm.simulated_annealing:Starting 14200 SA iteration.\n",
      "INFO:algorithm.simulated_annealing:Starting 14300 SA iteration.\n",
      "INFO:algorithm.simulated_annealing:Starting 14400 SA iteration.\n",
      "INFO:algorithm.simulated_annealing:Starting 14500 SA iteration.\n",
      "INFO:algorithm.simulated_annealing:Starting 14600 SA iteration.\n",
      "INFO:algorithm.simulated_annealing:Starting 14700 SA iteration.\n",
      "INFO:algorithm.simulated_annealing:Starting 14800 SA iteration.\n",
      "INFO:algorithm.simulated_annealing:Starting 14900 SA iteration.\n",
      "INFO:algorithm.simulated_annealing:Starting 15000 SA iteration.\n",
      "INFO:algorithm.simulated_annealing:Starting 15100 SA iteration.\n",
      "INFO:algorithm.simulated_annealing:Starting 15200 SA iteration.\n",
      "INFO:algorithm.simulated_annealing:Starting 15300 SA iteration.\n",
      "INFO:algorithm.simulated_annealing:Starting 15400 SA iteration.\n",
      "INFO:algorithm.simulated_annealing:Starting 15500 SA iteration.\n",
      "INFO:algorithm.simulated_annealing:Starting 15600 SA iteration.\n",
      "INFO:algorithm.simulated_annealing:Starting 15700 SA iteration.\n",
      "INFO:algorithm.simulated_annealing:Starting 15800 SA iteration.\n",
      "INFO:algorithm.simulated_annealing:Starting 15900 SA iteration.\n",
      "INFO:algorithm.simulated_annealing:Starting 16000 SA iteration.\n",
      "INFO:algorithm.simulated_annealing:Starting 16100 SA iteration.\n",
      "INFO:algorithm.simulated_annealing:Starting 16200 SA iteration.\n",
      "INFO:algorithm.simulated_annealing:Starting 16300 SA iteration.\n",
      "INFO:algorithm.simulated_annealing:Starting 16400 SA iteration.\n",
      "INFO:algorithm.simulated_annealing:Starting 16500 SA iteration.\n",
      "INFO:algorithm.simulated_annealing:Starting 16600 SA iteration.\n",
      "INFO:algorithm.simulated_annealing:Starting 16700 SA iteration.\n",
      "INFO:algorithm.simulated_annealing:Starting 16800 SA iteration.\n",
      "INFO:algorithm.simulated_annealing:Starting 16900 SA iteration.\n",
      "INFO:algorithm.simulated_annealing:Starting 17000 SA iteration.\n",
      "INFO:algorithm.simulated_annealing:Starting 17100 SA iteration.\n",
      "INFO:algorithm.simulated_annealing:Starting 17200 SA iteration.\n",
      "INFO:algorithm.simulated_annealing:Starting 17300 SA iteration.\n",
      "INFO:algorithm.simulated_annealing:Starting 17400 SA iteration.\n",
      "INFO:algorithm.simulated_annealing:Starting 17500 SA iteration.\n",
      "INFO:algorithm.simulated_annealing:Starting 17600 SA iteration.\n",
      "INFO:algorithm.simulated_annealing:Starting 17700 SA iteration.\n",
      "INFO:algorithm.simulated_annealing:Starting 17800 SA iteration.\n",
      "INFO:algorithm.simulated_annealing:Starting 17900 SA iteration.\n",
      "INFO:algorithm.simulated_annealing:Starting 18000 SA iteration.\n",
      "INFO:algorithm.simulated_annealing:Starting 18100 SA iteration.\n",
      "INFO:algorithm.simulated_annealing:Starting 18200 SA iteration.\n",
      "INFO:algorithm.simulated_annealing:Starting 18300 SA iteration.\n",
      "INFO:algorithm.simulated_annealing:Starting 18400 SA iteration.\n",
      "INFO:algorithm.simulated_annealing:Starting 18500 SA iteration.\n",
      "INFO:algorithm.simulated_annealing:Starting 18600 SA iteration.\n",
      "INFO:algorithm.simulated_annealing:Starting 18700 SA iteration.\n",
      "INFO:algorithm.simulated_annealing:Starting 18800 SA iteration.\n",
      "INFO:algorithm.simulated_annealing:Starting 18900 SA iteration.\n",
      "INFO:algorithm.simulated_annealing:Starting 19000 SA iteration.\n",
      "INFO:algorithm.simulated_annealing:Starting 19100 SA iteration.\n",
      "INFO:algorithm.simulated_annealing:Starting 19200 SA iteration.\n",
      "INFO:algorithm.simulated_annealing:Starting 19300 SA iteration.\n",
      "INFO:algorithm.simulated_annealing:Starting 19400 SA iteration.\n",
      "INFO:algorithm.simulated_annealing:Starting 19500 SA iteration.\n",
      "INFO:algorithm.simulated_annealing:Starting 19600 SA iteration.\n",
      "INFO:algorithm.simulated_annealing:Starting 19700 SA iteration.\n",
      "INFO:algorithm.simulated_annealing:Starting 19800 SA iteration.\n",
      "INFO:algorithm.simulated_annealing:Starting 19900 SA iteration.\n",
      "INFO:algorithm.simulated_annealing:Starting 20000 SA iteration.\n"
     ]
    },
    {
     "name": "stdout",
     "output_type": "stream",
     "text": [
      "CPU times: user 3min 49s, sys: 249 ms, total: 3min 49s\n",
      "Wall time: 3min 49s\n"
     ]
    },
    {
     "data": {
      "text/plain": [
       "Statistics for partial solution 140276439027184.\n",
       "IS_FULL:True\n",
       "SETS:\n",
       "0: 260107 94830 22385 70866 38206 56716 95292 97998 51914 4519 23080 240554\n",
       "1: 80457 65415 279671 69547 23523 56643 270015 9152 71789 43489 86760\n",
       "2: 45268 297393 271928 206707 4830 76620 49903 59258 44558\n",
       "3: 46232 372906 208596 10360 5999 66543 52539 1502 92414 90727 73494 14191 20981\n",
       "4: 16676 38230 342797 92616 87745 81724 5979 60230 6276 25408 39093 29092 18793 211791\n",
       "5: 37140 375698 49526 78777 88151 76385 86717 94676 70270 99148\n",
       "6: 16959 28470 38229 234039 10588 40264 5968 67749 87578 66449 45821 67680 346671\n",
       "7: 40391 34940 87539 11812 92018 357826 210543 50579 20440 35133 30807 84438\n",
       "8: 55712 46912 84625 303036 262574 98472 87268 32633 85270\n",
       "9: 50472 10373 80539 46999 78134 201347 89243 17355 78406 27698 91393 284536\n",
       "10: 30137 79350 89859 41794 47520 11015 1471 45839 13030 240534 283620 97302 53692 21309\n",
       "11: 53662 92359 26308 26581 25873 15515 25811 289260 282977 15822 3606 63333 52350 20176 62852\n",
       "12: 25623 45444 4967 6415 35129 33906 34999 57954 69933 327670 252972 49158 24611 27196 60486\n",
       "13: 83946 87100 51893 28756 7059 314306 254474 95204 50152 31435 52164\n",
       "14: 72297 55124 96607 50601 7314 44446 71640 264621 63754 330057\n",
       "15: 92820 24948 298160 22893 47239 339195 83809 49046 23181 75173\n",
       "16: 293515 63483 49418 50322 387162 86551 51051 44229 30733\n",
       "17: 22890 11501 30247 68027 90314 228372 28215 23256 39175 27707 34194 83002 8993 301803 14485 1933 1302 19311 21753\n",
       "18: 311060 74335 82469 9948 86687 53582 349541 88870\n",
       "19: 339311 81049 57889 40868 78372 65893 75469 219218 98418\n",
       "Diffs: [ -8. -14. -10.   9. -25.  13. -10.  -9.  27.  20.  -3.  10. -12.  14.\n",
       " -14. -11. -11.   5.  17.  12.]\n",
       "Sum Abs Errors: 254.0\n",
       "STD: 13.946325680981353"
      ]
     },
     "execution_count": 27,
     "metadata": {},
     "output_type": "execute_result"
    }
   ],
   "source": [
    "%%time\n",
    "sa_l_kk = SimulatedAnnealing(\n",
    "    kk_l,\n",
    "    move=consequent_greedy,\n",
    "    temperature_func=temperature_div,\n",
    "    t_max=10**7 * 2,\n",
    "    t_min=10**-9,\n",
    "    max_iter=10**4 * 2,\n",
    ").solve(\n",
    "    data_l,\n",
    "    m_l,\n",
    ")\n",
    "sa_l_kk\n"
   ]
  },
  {
   "cell_type": "markdown",
   "metadata": {},
   "source": [
    "## Tabu Search"
   ]
  },
  {
   "cell_type": "code",
   "execution_count": 31,
   "metadata": {
    "scrolled": true
   },
   "outputs": [
    {
     "name": "stderr",
     "output_type": "stream",
     "text": [
      "INFO:core.data_source:Parsing file 'instances/data.wm'.\n",
      "INFO:algorithm.tabu_search:Starting 100 TS iteration.\n",
      "INFO:algorithm.tabu_search:Starting 200 TS iteration.\n",
      "INFO:algorithm.tabu_search:Starting 300 TS iteration.\n",
      "INFO:algorithm.tabu_search:Starting 400 TS iteration.\n",
      "INFO:algorithm.tabu_search:Starting 500 TS iteration.\n",
      "INFO:algorithm.tabu_search:Starting 600 TS iteration.\n",
      "INFO:algorithm.tabu_search:Starting 700 TS iteration.\n",
      "INFO:algorithm.tabu_search:Starting 800 TS iteration.\n",
      "INFO:algorithm.tabu_search:Starting 900 TS iteration.\n",
      "INFO:algorithm.tabu_search:Starting 1000 TS iteration.\n",
      "INFO:algorithm.tabu_search:Starting 1100 TS iteration.\n",
      "INFO:algorithm.tabu_search:Starting 1200 TS iteration.\n",
      "INFO:algorithm.tabu_search:Starting 1300 TS iteration.\n",
      "INFO:algorithm.tabu_search:Starting 1400 TS iteration.\n",
      "INFO:algorithm.tabu_search:Starting 1500 TS iteration.\n",
      "INFO:algorithm.tabu_search:Starting 1600 TS iteration.\n",
      "INFO:algorithm.tabu_search:Starting 1700 TS iteration.\n",
      "INFO:algorithm.tabu_search:Starting 1800 TS iteration.\n",
      "INFO:algorithm.tabu_search:Starting 1900 TS iteration.\n",
      "INFO:algorithm.tabu_search:Starting 2000 TS iteration.\n",
      "INFO:algorithm.tabu_search:Starting 2100 TS iteration.\n",
      "INFO:algorithm.tabu_search:Starting 2200 TS iteration.\n",
      "INFO:algorithm.tabu_search:Starting 2300 TS iteration.\n",
      "INFO:algorithm.tabu_search:Starting 2400 TS iteration.\n",
      "INFO:algorithm.tabu_search:Starting 2500 TS iteration.\n",
      "INFO:algorithm.tabu_search:Starting 2600 TS iteration.\n",
      "INFO:algorithm.tabu_search:Starting 2700 TS iteration.\n",
      "INFO:algorithm.tabu_search:Starting 2800 TS iteration.\n",
      "INFO:algorithm.tabu_search:Starting 2900 TS iteration.\n",
      "INFO:algorithm.tabu_search:Starting 3000 TS iteration.\n",
      "INFO:algorithm.tabu_search:Starting 3100 TS iteration.\n",
      "INFO:algorithm.tabu_search:Starting 3200 TS iteration.\n",
      "INFO:algorithm.tabu_search:Starting 3300 TS iteration.\n",
      "INFO:algorithm.tabu_search:Starting 3400 TS iteration.\n",
      "INFO:algorithm.tabu_search:Starting 3500 TS iteration.\n",
      "INFO:algorithm.tabu_search:Starting 3600 TS iteration.\n",
      "INFO:algorithm.tabu_search:Starting 3700 TS iteration.\n",
      "INFO:algorithm.tabu_search:Starting 3800 TS iteration.\n",
      "INFO:algorithm.tabu_search:Starting 3900 TS iteration.\n",
      "INFO:algorithm.tabu_search:Starting 4000 TS iteration.\n",
      "INFO:algorithm.tabu_search:Starting 4100 TS iteration.\n",
      "INFO:algorithm.tabu_search:Starting 4200 TS iteration.\n",
      "INFO:algorithm.tabu_search:Starting 4300 TS iteration.\n",
      "INFO:algorithm.tabu_search:Starting 4400 TS iteration.\n",
      "INFO:algorithm.tabu_search:Starting 4500 TS iteration.\n",
      "INFO:algorithm.tabu_search:Starting 4600 TS iteration.\n",
      "INFO:algorithm.tabu_search:Starting 4700 TS iteration.\n",
      "INFO:algorithm.tabu_search:Starting 4800 TS iteration.\n",
      "INFO:algorithm.tabu_search:Starting 4900 TS iteration.\n",
      "INFO:algorithm.tabu_search:Starting 5000 TS iteration.\n",
      "INFO:algorithm.tabu_search:Starting 5100 TS iteration.\n",
      "INFO:algorithm.tabu_search:Starting 5200 TS iteration.\n",
      "INFO:algorithm.tabu_search:Starting 5300 TS iteration.\n",
      "INFO:algorithm.tabu_search:Starting 5400 TS iteration.\n",
      "INFO:algorithm.tabu_search:Starting 5500 TS iteration.\n",
      "INFO:algorithm.tabu_search:Starting 5600 TS iteration.\n",
      "INFO:algorithm.tabu_search:Starting 5700 TS iteration.\n",
      "INFO:algorithm.tabu_search:Starting 5800 TS iteration.\n",
      "INFO:algorithm.tabu_search:Starting 5900 TS iteration.\n",
      "INFO:algorithm.tabu_search:Starting 6000 TS iteration.\n",
      "INFO:algorithm.tabu_search:Starting 6100 TS iteration.\n",
      "INFO:algorithm.tabu_search:Starting 6200 TS iteration.\n",
      "INFO:algorithm.tabu_search:Starting 6300 TS iteration.\n",
      "INFO:algorithm.tabu_search:Starting 6400 TS iteration.\n",
      "INFO:algorithm.tabu_search:Starting 6500 TS iteration.\n",
      "INFO:algorithm.tabu_search:Starting 6600 TS iteration.\n",
      "INFO:algorithm.tabu_search:Starting 6700 TS iteration.\n",
      "INFO:algorithm.tabu_search:Starting 6800 TS iteration.\n",
      "INFO:algorithm.tabu_search:Starting 6900 TS iteration.\n",
      "INFO:algorithm.tabu_search:Starting 7000 TS iteration.\n",
      "INFO:algorithm.tabu_search:Starting 7100 TS iteration.\n",
      "INFO:algorithm.tabu_search:Starting 7200 TS iteration.\n",
      "INFO:algorithm.tabu_search:Starting 7300 TS iteration.\n",
      "INFO:algorithm.tabu_search:Starting 7400 TS iteration.\n",
      "INFO:algorithm.tabu_search:Starting 7500 TS iteration.\n",
      "INFO:algorithm.tabu_search:Starting 7600 TS iteration.\n",
      "INFO:algorithm.tabu_search:Starting 7700 TS iteration.\n",
      "INFO:algorithm.tabu_search:Starting 7800 TS iteration.\n",
      "INFO:algorithm.tabu_search:Starting 7900 TS iteration.\n",
      "INFO:algorithm.tabu_search:Starting 8000 TS iteration.\n",
      "INFO:algorithm.tabu_search:Starting 8100 TS iteration.\n",
      "INFO:algorithm.tabu_search:Starting 8200 TS iteration.\n",
      "INFO:algorithm.tabu_search:Starting 8300 TS iteration.\n",
      "INFO:algorithm.tabu_search:Starting 8400 TS iteration.\n",
      "INFO:algorithm.tabu_search:Starting 8500 TS iteration.\n",
      "INFO:algorithm.tabu_search:Starting 8600 TS iteration.\n",
      "INFO:algorithm.tabu_search:Starting 8700 TS iteration.\n",
      "INFO:algorithm.tabu_search:Starting 8800 TS iteration.\n",
      "INFO:algorithm.tabu_search:Starting 8900 TS iteration.\n",
      "INFO:algorithm.tabu_search:Starting 9000 TS iteration.\n",
      "INFO:algorithm.tabu_search:Starting 9100 TS iteration.\n",
      "INFO:algorithm.tabu_search:Starting 9200 TS iteration.\n",
      "INFO:algorithm.tabu_search:Starting 9300 TS iteration.\n",
      "INFO:algorithm.tabu_search:Starting 9400 TS iteration.\n",
      "INFO:algorithm.tabu_search:Starting 9500 TS iteration.\n",
      "INFO:algorithm.tabu_search:Starting 9600 TS iteration.\n",
      "INFO:algorithm.tabu_search:Starting 9700 TS iteration.\n",
      "INFO:algorithm.tabu_search:Starting 9800 TS iteration.\n",
      "INFO:algorithm.tabu_search:Starting 9900 TS iteration.\n",
      "INFO:algorithm.tabu_search:Starting 10000 TS iteration.\n",
      "INFO:algorithm.tabu_search:Starting 10100 TS iteration.\n",
      "INFO:algorithm.tabu_search:Starting 10200 TS iteration.\n",
      "INFO:algorithm.tabu_search:Starting 10300 TS iteration.\n",
      "INFO:algorithm.tabu_search:Starting 10400 TS iteration.\n",
      "INFO:algorithm.tabu_search:Starting 10500 TS iteration.\n",
      "INFO:algorithm.tabu_search:Starting 10600 TS iteration.\n",
      "INFO:algorithm.tabu_search:Starting 10700 TS iteration.\n",
      "INFO:algorithm.tabu_search:Starting 10800 TS iteration.\n",
      "INFO:algorithm.tabu_search:Starting 10900 TS iteration.\n",
      "INFO:algorithm.tabu_search:Starting 11000 TS iteration.\n",
      "INFO:algorithm.tabu_search:Starting 11100 TS iteration.\n",
      "INFO:algorithm.tabu_search:Starting 11200 TS iteration.\n",
      "INFO:algorithm.tabu_search:Starting 11300 TS iteration.\n",
      "INFO:algorithm.tabu_search:Starting 11400 TS iteration.\n",
      "INFO:algorithm.tabu_search:Starting 11500 TS iteration.\n",
      "INFO:algorithm.tabu_search:Starting 11600 TS iteration.\n",
      "INFO:algorithm.tabu_search:Starting 11700 TS iteration.\n",
      "INFO:algorithm.tabu_search:Starting 11800 TS iteration.\n",
      "INFO:algorithm.tabu_search:Starting 11900 TS iteration.\n",
      "INFO:algorithm.tabu_search:Starting 12000 TS iteration.\n",
      "INFO:algorithm.tabu_search:Starting 12100 TS iteration.\n",
      "INFO:algorithm.tabu_search:Starting 12200 TS iteration.\n",
      "INFO:algorithm.tabu_search:Starting 12300 TS iteration.\n",
      "INFO:algorithm.tabu_search:Starting 12400 TS iteration.\n",
      "INFO:algorithm.tabu_search:Starting 12500 TS iteration.\n",
      "INFO:algorithm.tabu_search:Starting 12600 TS iteration.\n",
      "INFO:algorithm.tabu_search:Starting 12700 TS iteration.\n",
      "INFO:algorithm.tabu_search:Starting 12800 TS iteration.\n",
      "INFO:algorithm.tabu_search:Starting 12900 TS iteration.\n",
      "INFO:algorithm.tabu_search:Starting 13000 TS iteration.\n",
      "INFO:algorithm.tabu_search:Starting 13100 TS iteration.\n",
      "INFO:algorithm.tabu_search:Starting 13200 TS iteration.\n",
      "INFO:algorithm.tabu_search:Starting 13300 TS iteration.\n",
      "INFO:algorithm.tabu_search:Starting 13400 TS iteration.\n",
      "INFO:algorithm.tabu_search:Starting 13500 TS iteration.\n",
      "INFO:algorithm.tabu_search:Starting 13600 TS iteration.\n",
      "INFO:algorithm.tabu_search:Starting 13700 TS iteration.\n",
      "INFO:algorithm.tabu_search:Starting 13800 TS iteration.\n",
      "INFO:algorithm.tabu_search:Starting 13900 TS iteration.\n",
      "INFO:algorithm.tabu_search:Starting 14000 TS iteration.\n",
      "INFO:algorithm.tabu_search:Starting 14100 TS iteration.\n",
      "INFO:algorithm.tabu_search:Starting 14200 TS iteration.\n",
      "INFO:algorithm.tabu_search:Starting 14300 TS iteration.\n",
      "INFO:algorithm.tabu_search:Starting 14400 TS iteration.\n",
      "INFO:algorithm.tabu_search:Starting 14500 TS iteration.\n",
      "INFO:algorithm.tabu_search:Starting 14600 TS iteration.\n",
      "INFO:algorithm.tabu_search:Starting 14700 TS iteration.\n",
      "INFO:algorithm.tabu_search:Starting 14800 TS iteration.\n"
     ]
    },
    {
     "name": "stderr",
     "output_type": "stream",
     "text": [
      "INFO:algorithm.tabu_search:Starting 14900 TS iteration.\n",
      "INFO:algorithm.tabu_search:Starting 15000 TS iteration.\n",
      "INFO:algorithm.tabu_search:Starting 15100 TS iteration.\n",
      "INFO:algorithm.tabu_search:Starting 15200 TS iteration.\n",
      "INFO:algorithm.tabu_search:Starting 15300 TS iteration.\n",
      "INFO:algorithm.tabu_search:Starting 15400 TS iteration.\n",
      "INFO:algorithm.tabu_search:Starting 15500 TS iteration.\n",
      "INFO:algorithm.tabu_search:Starting 15600 TS iteration.\n",
      "INFO:algorithm.tabu_search:Starting 15700 TS iteration.\n",
      "INFO:algorithm.tabu_search:Starting 15800 TS iteration.\n",
      "INFO:algorithm.tabu_search:Starting 15900 TS iteration.\n",
      "INFO:algorithm.tabu_search:Starting 16000 TS iteration.\n",
      "INFO:algorithm.tabu_search:Starting 16100 TS iteration.\n",
      "INFO:algorithm.tabu_search:Starting 16200 TS iteration.\n",
      "INFO:algorithm.tabu_search:Starting 16300 TS iteration.\n",
      "INFO:algorithm.tabu_search:Starting 16400 TS iteration.\n",
      "INFO:algorithm.tabu_search:Starting 16500 TS iteration.\n",
      "INFO:algorithm.tabu_search:Starting 16600 TS iteration.\n",
      "INFO:algorithm.tabu_search:Starting 16700 TS iteration.\n",
      "INFO:algorithm.tabu_search:Starting 16800 TS iteration.\n",
      "INFO:algorithm.tabu_search:Starting 16900 TS iteration.\n",
      "INFO:algorithm.tabu_search:Starting 17000 TS iteration.\n",
      "INFO:algorithm.tabu_search:Starting 17100 TS iteration.\n",
      "INFO:algorithm.tabu_search:Starting 17200 TS iteration.\n",
      "INFO:algorithm.tabu_search:Starting 17300 TS iteration.\n",
      "INFO:algorithm.tabu_search:Starting 17400 TS iteration.\n",
      "INFO:algorithm.tabu_search:Starting 17500 TS iteration.\n",
      "INFO:algorithm.tabu_search:Starting 17600 TS iteration.\n",
      "INFO:algorithm.tabu_search:Starting 17700 TS iteration.\n",
      "INFO:algorithm.tabu_search:Starting 17800 TS iteration.\n",
      "INFO:algorithm.tabu_search:Starting 17900 TS iteration.\n",
      "INFO:algorithm.tabu_search:Starting 18000 TS iteration.\n",
      "INFO:algorithm.tabu_search:Starting 18100 TS iteration.\n",
      "INFO:algorithm.tabu_search:Starting 18200 TS iteration.\n",
      "INFO:algorithm.tabu_search:Starting 18300 TS iteration.\n",
      "INFO:algorithm.tabu_search:Starting 18400 TS iteration.\n",
      "INFO:algorithm.tabu_search:Starting 18500 TS iteration.\n",
      "INFO:algorithm.tabu_search:Starting 18600 TS iteration.\n",
      "INFO:algorithm.tabu_search:Starting 18700 TS iteration.\n",
      "INFO:algorithm.tabu_search:Starting 18800 TS iteration.\n",
      "INFO:algorithm.tabu_search:Starting 18900 TS iteration.\n",
      "INFO:algorithm.tabu_search:Starting 19000 TS iteration.\n",
      "INFO:algorithm.tabu_search:Starting 19100 TS iteration.\n",
      "INFO:algorithm.tabu_search:Starting 19200 TS iteration.\n",
      "INFO:algorithm.tabu_search:Starting 19300 TS iteration.\n",
      "INFO:algorithm.tabu_search:Starting 19400 TS iteration.\n",
      "INFO:algorithm.tabu_search:Starting 19500 TS iteration.\n",
      "INFO:algorithm.tabu_search:Starting 19600 TS iteration.\n",
      "INFO:algorithm.tabu_search:Starting 19700 TS iteration.\n",
      "INFO:algorithm.tabu_search:Starting 19800 TS iteration.\n",
      "INFO:algorithm.tabu_search:Starting 19900 TS iteration.\n",
      "INFO:algorithm.tabu_search:Starting 20000 TS iteration.\n"
     ]
    },
    {
     "name": "stdout",
     "output_type": "stream",
     "text": [
      "CPU times: user 1min 9s, sys: 159 ms, total: 1min 9s\n",
      "Wall time: 1min 9s\n"
     ]
    },
    {
     "data": {
      "text/plain": [
       "Statistics for partial solution 140276438214256.\n",
       "IS_FULL:True\n",
       "SETS:\n",
       "0: 25623 40391 34940 80457 55712 311060 260107 92820 16676 87100 52164\n",
       "1: 45444 72297 65415 53662 293515 279671 92359 83946 22890 11501 4967 31435\n",
       "2: 87539 45268 74335 63483 30247 297393 271928 94830 51893 22385 16959\n",
       "3: 46232 69547 68027 28470 372906 208596 90314 82469 49418 23523 10360 5999\n",
       "4: 26308 38230 37140 79350 56643 342797 228372 92616 87745 50322 9948 6415\n",
       "5: 46912 70866 66543 28215 375698 206707 89859 81724 49526 23256 11812 4830\n",
       "6: 38229 38206 78777 56716 24948 339311 234039 92018 84625 52539 10588 5979\n",
       "7: 26581 39175 35129 76620 60230 357826 210543 95292 88151 49903 10373 6276\n",
       "8: 25873 41794 33906 80539 55124 303036 262574 98472 87268 50579 15515 1502\n",
       "9: 46999 78134 59258 27707 387162 201347 89243 81049 47520 20440 17355\n",
       "10: 25408 40264 34999 78406 57889 298160 270015 96607 86551 51051 11015 5968\n",
       "11: 25811 40868 34194 78372 57954 289260 282977 92414 86687 50601 15822 1471\n",
       "12: 45839 69933 67749 28756 327670 252972 90727 83002 49158 24611 8993 7059\n",
       "13: 27196 39093 35133 76385 60486 314306 254474 95204 87578 50152 9152 7314\n",
       "14: 44446 71640 66449 30807 301803 264621 97998 86717 51914 22893 13030 4519\n",
       "15: 47239 73494 63754 27698 339195 240534 91393 83809 49046 23080 14485 1933 1302\n",
       "16: 45821 71789 65893 29092 53582 284536 283620 97302 84438 23181 14191 3606\n",
       "17: 43489 75173 63333 32633 330057 240554 94676 85270 52350 20981 18793\n",
       "18: 30137 19311 44558 70270 67680 53692 349541 211791 99148 88870 21309\n",
       "19: 50472 20176 44229 75469 62852 30733 346671 219218 98418 86760 21753\n",
       "Diffs: [ 575.  627. -215. -614. -589. -527. -500. -376. -293. -261. -142.  -44.\n",
       "   -6.   -2.  362.  487.  576.  834. -168.  276.]\n",
       "Sum Abs Errors: 7474.0\n",
       "STD: 438.1241833087966"
      ]
     },
     "execution_count": 31,
     "metadata": {},
     "output_type": "execute_result"
    }
   ],
   "source": [
    "%%time\n",
    "# KK\n",
    "tabu_l_kk = TabuSearch(\n",
    "    kk_l,\n",
    "    move=RandomMover([tabu_swap_min_max]),\n",
    "    ttl=3000,\n",
    "    max_iter=10**4 * 2,\n",
    ").solve(\n",
    "    data_l.get_data(),\n",
    "    m_l,\n",
    ")\n",
    "tabu_l_kk"
   ]
  },
  {
   "cell_type": "code",
   "execution_count": 32,
   "metadata": {},
   "outputs": [
    {
     "name": "stderr",
     "output_type": "stream",
     "text": [
      "INFO:core.data_source:Parsing file 'instances/data.wm'.\n",
      "INFO:algorithm.tabu_search:Starting 100 TS iteration.\n",
      "INFO:algorithm.tabu_search:Starting 200 TS iteration.\n",
      "INFO:algorithm.tabu_search:Starting 300 TS iteration.\n",
      "INFO:algorithm.tabu_search:Starting 400 TS iteration.\n",
      "INFO:algorithm.tabu_search:Starting 500 TS iteration.\n",
      "INFO:algorithm.tabu_search:Starting 600 TS iteration.\n",
      "INFO:algorithm.tabu_search:Starting 700 TS iteration.\n",
      "INFO:algorithm.tabu_search:Starting 800 TS iteration.\n",
      "INFO:algorithm.tabu_search:Starting 900 TS iteration.\n",
      "INFO:algorithm.tabu_search:Starting 1000 TS iteration.\n",
      "INFO:algorithm.tabu_search:Starting 1100 TS iteration.\n",
      "INFO:algorithm.tabu_search:Starting 1200 TS iteration.\n",
      "INFO:algorithm.tabu_search:Starting 1300 TS iteration.\n",
      "INFO:algorithm.tabu_search:Starting 1400 TS iteration.\n",
      "INFO:algorithm.tabu_search:Starting 1500 TS iteration.\n",
      "INFO:algorithm.tabu_search:Starting 1600 TS iteration.\n",
      "INFO:algorithm.tabu_search:Starting 1700 TS iteration.\n",
      "INFO:algorithm.tabu_search:Starting 1800 TS iteration.\n",
      "INFO:algorithm.tabu_search:Starting 1900 TS iteration.\n",
      "INFO:algorithm.tabu_search:Starting 2000 TS iteration.\n",
      "INFO:algorithm.tabu_search:Starting 2100 TS iteration.\n",
      "INFO:algorithm.tabu_search:Starting 2200 TS iteration.\n",
      "INFO:algorithm.tabu_search:Starting 2300 TS iteration.\n",
      "INFO:algorithm.tabu_search:Starting 2400 TS iteration.\n",
      "INFO:algorithm.tabu_search:Starting 2500 TS iteration.\n",
      "INFO:algorithm.tabu_search:Starting 2600 TS iteration.\n",
      "INFO:algorithm.tabu_search:Starting 2700 TS iteration.\n",
      "INFO:algorithm.tabu_search:Starting 2800 TS iteration.\n",
      "INFO:algorithm.tabu_search:Starting 2900 TS iteration.\n",
      "INFO:algorithm.tabu_search:Starting 3000 TS iteration.\n",
      "INFO:algorithm.tabu_search:Starting 3100 TS iteration.\n",
      "INFO:algorithm.tabu_search:Starting 3200 TS iteration.\n",
      "INFO:algorithm.tabu_search:Starting 3300 TS iteration.\n",
      "INFO:algorithm.tabu_search:Starting 3400 TS iteration.\n",
      "INFO:algorithm.tabu_search:Starting 3500 TS iteration.\n",
      "INFO:algorithm.tabu_search:Starting 3600 TS iteration.\n",
      "INFO:algorithm.tabu_search:Starting 3700 TS iteration.\n",
      "INFO:algorithm.tabu_search:Starting 3800 TS iteration.\n",
      "INFO:algorithm.tabu_search:Starting 3900 TS iteration.\n",
      "INFO:algorithm.tabu_search:Starting 4000 TS iteration.\n",
      "INFO:algorithm.tabu_search:Starting 4100 TS iteration.\n",
      "INFO:algorithm.tabu_search:Starting 4200 TS iteration.\n",
      "INFO:algorithm.tabu_search:Starting 4300 TS iteration.\n",
      "INFO:algorithm.tabu_search:Starting 4400 TS iteration.\n",
      "INFO:algorithm.tabu_search:Starting 4500 TS iteration.\n",
      "INFO:algorithm.tabu_search:Starting 4600 TS iteration.\n",
      "INFO:algorithm.tabu_search:Starting 4700 TS iteration.\n",
      "INFO:algorithm.tabu_search:Starting 4800 TS iteration.\n",
      "INFO:algorithm.tabu_search:Starting 4900 TS iteration.\n",
      "INFO:algorithm.tabu_search:Starting 5000 TS iteration.\n",
      "INFO:algorithm.tabu_search:Starting 5100 TS iteration.\n",
      "INFO:algorithm.tabu_search:Starting 5200 TS iteration.\n",
      "INFO:algorithm.tabu_search:Starting 5300 TS iteration.\n",
      "INFO:algorithm.tabu_search:Starting 5400 TS iteration.\n",
      "INFO:algorithm.tabu_search:Starting 5500 TS iteration.\n",
      "INFO:algorithm.tabu_search:Starting 5600 TS iteration.\n",
      "INFO:algorithm.tabu_search:Starting 5700 TS iteration.\n",
      "INFO:algorithm.tabu_search:Starting 5800 TS iteration.\n",
      "INFO:algorithm.tabu_search:Starting 5900 TS iteration.\n",
      "INFO:algorithm.tabu_search:Starting 6000 TS iteration.\n",
      "INFO:algorithm.tabu_search:Starting 6100 TS iteration.\n",
      "INFO:algorithm.tabu_search:Starting 6200 TS iteration.\n",
      "INFO:algorithm.tabu_search:Starting 6300 TS iteration.\n",
      "INFO:algorithm.tabu_search:Starting 6400 TS iteration.\n",
      "INFO:algorithm.tabu_search:Starting 6500 TS iteration.\n",
      "INFO:algorithm.tabu_search:Starting 6600 TS iteration.\n",
      "INFO:algorithm.tabu_search:Starting 6700 TS iteration.\n",
      "INFO:algorithm.tabu_search:Starting 6800 TS iteration.\n",
      "INFO:algorithm.tabu_search:Starting 6900 TS iteration.\n",
      "INFO:algorithm.tabu_search:Starting 7000 TS iteration.\n",
      "INFO:algorithm.tabu_search:Starting 7100 TS iteration.\n",
      "INFO:algorithm.tabu_search:Starting 7200 TS iteration.\n",
      "INFO:algorithm.tabu_search:Starting 7300 TS iteration.\n",
      "INFO:algorithm.tabu_search:Starting 7400 TS iteration.\n",
      "INFO:algorithm.tabu_search:Starting 7500 TS iteration.\n",
      "INFO:algorithm.tabu_search:Starting 7600 TS iteration.\n",
      "INFO:algorithm.tabu_search:Starting 7700 TS iteration.\n",
      "INFO:algorithm.tabu_search:Starting 7800 TS iteration.\n",
      "INFO:algorithm.tabu_search:Starting 7900 TS iteration.\n",
      "INFO:algorithm.tabu_search:Starting 8000 TS iteration.\n",
      "INFO:algorithm.tabu_search:Starting 8100 TS iteration.\n",
      "INFO:algorithm.tabu_search:Starting 8200 TS iteration.\n",
      "INFO:algorithm.tabu_search:Starting 8300 TS iteration.\n",
      "INFO:algorithm.tabu_search:Starting 8400 TS iteration.\n",
      "INFO:algorithm.tabu_search:Starting 8500 TS iteration.\n",
      "INFO:algorithm.tabu_search:Starting 8600 TS iteration.\n",
      "INFO:algorithm.tabu_search:Starting 8700 TS iteration.\n",
      "INFO:algorithm.tabu_search:Starting 8800 TS iteration.\n",
      "INFO:algorithm.tabu_search:Starting 8900 TS iteration.\n",
      "INFO:algorithm.tabu_search:Starting 9000 TS iteration.\n",
      "INFO:algorithm.tabu_search:Starting 9100 TS iteration.\n",
      "INFO:algorithm.tabu_search:Starting 9200 TS iteration.\n",
      "INFO:algorithm.tabu_search:Starting 9300 TS iteration.\n",
      "INFO:algorithm.tabu_search:Starting 9400 TS iteration.\n",
      "INFO:algorithm.tabu_search:Starting 9500 TS iteration.\n",
      "INFO:algorithm.tabu_search:Starting 9600 TS iteration.\n",
      "INFO:algorithm.tabu_search:Starting 9700 TS iteration.\n",
      "INFO:algorithm.tabu_search:Starting 9800 TS iteration.\n",
      "INFO:algorithm.tabu_search:Starting 9900 TS iteration.\n",
      "INFO:algorithm.tabu_search:Starting 10000 TS iteration.\n",
      "INFO:algorithm.tabu_search:Starting 10100 TS iteration.\n",
      "INFO:algorithm.tabu_search:Starting 10200 TS iteration.\n",
      "INFO:algorithm.tabu_search:Starting 10300 TS iteration.\n",
      "INFO:algorithm.tabu_search:Starting 10400 TS iteration.\n",
      "INFO:algorithm.tabu_search:Starting 10500 TS iteration.\n",
      "INFO:algorithm.tabu_search:Starting 10600 TS iteration.\n",
      "INFO:algorithm.tabu_search:Starting 10700 TS iteration.\n",
      "INFO:algorithm.tabu_search:Starting 10800 TS iteration.\n",
      "INFO:algorithm.tabu_search:Starting 10900 TS iteration.\n",
      "INFO:algorithm.tabu_search:Starting 11000 TS iteration.\n",
      "INFO:algorithm.tabu_search:Starting 11100 TS iteration.\n",
      "INFO:algorithm.tabu_search:Starting 11200 TS iteration.\n",
      "INFO:algorithm.tabu_search:Starting 11300 TS iteration.\n",
      "INFO:algorithm.tabu_search:Starting 11400 TS iteration.\n",
      "INFO:algorithm.tabu_search:Starting 11500 TS iteration.\n",
      "INFO:algorithm.tabu_search:Starting 11600 TS iteration.\n",
      "INFO:algorithm.tabu_search:Starting 11700 TS iteration.\n",
      "INFO:algorithm.tabu_search:Starting 11800 TS iteration.\n",
      "INFO:algorithm.tabu_search:Starting 11900 TS iteration.\n",
      "INFO:algorithm.tabu_search:Starting 12000 TS iteration.\n",
      "INFO:algorithm.tabu_search:Starting 12100 TS iteration.\n",
      "INFO:algorithm.tabu_search:Starting 12200 TS iteration.\n",
      "INFO:algorithm.tabu_search:Starting 12300 TS iteration.\n",
      "INFO:algorithm.tabu_search:Starting 12400 TS iteration.\n",
      "INFO:algorithm.tabu_search:Starting 12500 TS iteration.\n",
      "INFO:algorithm.tabu_search:Starting 12600 TS iteration.\n",
      "INFO:algorithm.tabu_search:Starting 12700 TS iteration.\n",
      "INFO:algorithm.tabu_search:Starting 12800 TS iteration.\n",
      "INFO:algorithm.tabu_search:Starting 12900 TS iteration.\n",
      "INFO:algorithm.tabu_search:Starting 13000 TS iteration.\n",
      "INFO:algorithm.tabu_search:Starting 13100 TS iteration.\n",
      "INFO:algorithm.tabu_search:Starting 13200 TS iteration.\n",
      "INFO:algorithm.tabu_search:Starting 13300 TS iteration.\n",
      "INFO:algorithm.tabu_search:Starting 13400 TS iteration.\n",
      "INFO:algorithm.tabu_search:Starting 13500 TS iteration.\n",
      "INFO:algorithm.tabu_search:Starting 13600 TS iteration.\n",
      "INFO:algorithm.tabu_search:Starting 13700 TS iteration.\n",
      "INFO:algorithm.tabu_search:Starting 13800 TS iteration.\n",
      "INFO:algorithm.tabu_search:Starting 13900 TS iteration.\n",
      "INFO:algorithm.tabu_search:Starting 14000 TS iteration.\n",
      "INFO:algorithm.tabu_search:Starting 14100 TS iteration.\n",
      "INFO:algorithm.tabu_search:Starting 14200 TS iteration.\n",
      "INFO:algorithm.tabu_search:Starting 14300 TS iteration.\n",
      "INFO:algorithm.tabu_search:Starting 14400 TS iteration.\n",
      "INFO:algorithm.tabu_search:Starting 14500 TS iteration.\n",
      "INFO:algorithm.tabu_search:Starting 14600 TS iteration.\n",
      "INFO:algorithm.tabu_search:Starting 14700 TS iteration.\n",
      "INFO:algorithm.tabu_search:Starting 14800 TS iteration.\n"
     ]
    },
    {
     "name": "stderr",
     "output_type": "stream",
     "text": [
      "INFO:algorithm.tabu_search:Starting 14900 TS iteration.\n",
      "INFO:algorithm.tabu_search:Starting 15000 TS iteration.\n",
      "INFO:algorithm.tabu_search:Starting 15100 TS iteration.\n",
      "INFO:algorithm.tabu_search:Starting 15200 TS iteration.\n",
      "INFO:algorithm.tabu_search:Starting 15300 TS iteration.\n",
      "INFO:algorithm.tabu_search:Starting 15400 TS iteration.\n",
      "INFO:algorithm.tabu_search:Starting 15500 TS iteration.\n",
      "INFO:algorithm.tabu_search:Starting 15600 TS iteration.\n",
      "INFO:algorithm.tabu_search:Starting 15700 TS iteration.\n",
      "INFO:algorithm.tabu_search:Starting 15800 TS iteration.\n",
      "INFO:algorithm.tabu_search:Starting 15900 TS iteration.\n",
      "INFO:algorithm.tabu_search:Starting 16000 TS iteration.\n",
      "INFO:algorithm.tabu_search:Starting 16100 TS iteration.\n",
      "INFO:algorithm.tabu_search:Starting 16200 TS iteration.\n",
      "INFO:algorithm.tabu_search:Starting 16300 TS iteration.\n",
      "INFO:algorithm.tabu_search:Starting 16400 TS iteration.\n",
      "INFO:algorithm.tabu_search:Starting 16500 TS iteration.\n",
      "INFO:algorithm.tabu_search:Starting 16600 TS iteration.\n",
      "INFO:algorithm.tabu_search:Starting 16700 TS iteration.\n",
      "INFO:algorithm.tabu_search:Starting 16800 TS iteration.\n",
      "INFO:algorithm.tabu_search:Starting 16900 TS iteration.\n",
      "INFO:algorithm.tabu_search:Starting 17000 TS iteration.\n",
      "INFO:algorithm.tabu_search:Starting 17100 TS iteration.\n",
      "INFO:algorithm.tabu_search:Starting 17200 TS iteration.\n",
      "INFO:algorithm.tabu_search:Starting 17300 TS iteration.\n",
      "INFO:algorithm.tabu_search:Starting 17400 TS iteration.\n",
      "INFO:algorithm.tabu_search:Starting 17500 TS iteration.\n",
      "INFO:algorithm.tabu_search:Starting 17600 TS iteration.\n",
      "INFO:algorithm.tabu_search:Starting 17700 TS iteration.\n",
      "INFO:algorithm.tabu_search:Starting 17800 TS iteration.\n",
      "INFO:algorithm.tabu_search:Starting 17900 TS iteration.\n",
      "INFO:algorithm.tabu_search:Starting 18000 TS iteration.\n",
      "INFO:algorithm.tabu_search:Starting 18100 TS iteration.\n",
      "INFO:algorithm.tabu_search:Starting 18200 TS iteration.\n",
      "INFO:algorithm.tabu_search:Starting 18300 TS iteration.\n",
      "INFO:algorithm.tabu_search:Starting 18400 TS iteration.\n",
      "INFO:algorithm.tabu_search:Starting 18500 TS iteration.\n",
      "INFO:algorithm.tabu_search:Starting 18600 TS iteration.\n",
      "INFO:algorithm.tabu_search:Starting 18700 TS iteration.\n",
      "INFO:algorithm.tabu_search:Starting 18800 TS iteration.\n",
      "INFO:algorithm.tabu_search:Starting 18900 TS iteration.\n",
      "INFO:algorithm.tabu_search:Starting 19000 TS iteration.\n",
      "INFO:algorithm.tabu_search:Starting 19100 TS iteration.\n",
      "INFO:algorithm.tabu_search:Starting 19200 TS iteration.\n",
      "INFO:algorithm.tabu_search:Starting 19300 TS iteration.\n",
      "INFO:algorithm.tabu_search:Starting 19400 TS iteration.\n",
      "INFO:algorithm.tabu_search:Starting 19500 TS iteration.\n",
      "INFO:algorithm.tabu_search:Starting 19600 TS iteration.\n",
      "INFO:algorithm.tabu_search:Starting 19700 TS iteration.\n",
      "INFO:algorithm.tabu_search:Starting 19800 TS iteration.\n",
      "INFO:algorithm.tabu_search:Starting 19900 TS iteration.\n",
      "INFO:algorithm.tabu_search:Starting 20000 TS iteration.\n"
     ]
    },
    {
     "name": "stdout",
     "output_type": "stream",
     "text": [
      "CPU times: user 1min 9s, sys: 219 ms, total: 1min 10s\n",
      "Wall time: 1min 9s\n"
     ]
    },
    {
     "data": {
      "text/plain": [
       "Statistics for partial solution 140276438351248.\n",
       "IS_FULL:True\n",
       "SETS:\n",
       "0: 32633 69547 21753 45444 51051 387162 89243 81049 60230 16676 201347\n",
       "1: 375698 21309 89859 50152 206707 81724 18793 38229 37140 71640 65415\n",
       "2: 19311 372906 49903 65893 38206 90314 38230 208596 20176 70866 82469\n",
       "3: 88151 40868 1933 49046 23080 95292 1302 357826 14485 71789 34194 68027 210543\n",
       "4: 80539 53662 211791 46912 55712 27698 6415 26581 99148 9948 88870 349541\n",
       "5: 8993 346671 7059 56643 27707 52539 78372 27196 86760 98418 47239 219218\n",
       "6: 23256 35133 92616 73494 16959 228372 87745 40264 49418 342797 66449\n",
       "7: 92018 339311 30807 3606 59258 84625 234039 23523 51914 44558 78777 14191\n",
       "8: 66543 34999 69933 339195 25408 9152 83809 39093 7314 49526 240534 91393\n",
       "9: 57954 5979 52350 78406 28470 85270 26308 330057 10360 240554 94676 46232\n",
       "10: 67680 252972 47520 11015 90727 45268 24611 327670 83002 5968 70270 30137\n",
       "11: 22890 4519 67749 72297 34940 49158 13030 314306 254474 95204 87578 40391\n",
       "12: 15822 50601 74335 23181 1471 63754 92820 87539 260107 44446 30733 311060\n",
       "13: 303036 87268 98472 50579 43489 30247 20440 63483 75173 20981 262574\n",
       "14: 45821 56716 25811 10588 78134 5999 97998 53582 28756 264621 86717 301803\n",
       "15: 96607 6276 50322 10373 270015 35129 24948 298160 86551 76385 62852 39175\n",
       "16: 60486 94830 297393 15515 31435 51893 1502 76620 271928 44229 22893 87100\n",
       "17: 28215 92359 4830 83946 46999 53692 293515 279671 11812 25873 55124 80457\n",
       "18: 86687 75469 282977 92414 63333 17355 289260 41794 33906 22385 50472\n",
       "19: 97302 79350 25623 52164 284536 4967 11501 29092 45839 57889 84438 283620\n",
       "Diffs: [-340.  191.  395.   61.  342.  340.   28.  152.  424.  141.  365.   61.\n",
       " -606. -733.   71.  318. -651.   18. -423. -154.]\n",
       "Sum Abs Errors: 5814.0\n",
       "STD: 356.5348510314244"
      ]
     },
     "execution_count": 32,
     "metadata": {},
     "output_type": "execute_result"
    }
   ],
   "source": [
    "%%time\n",
    "# GREEDY\n",
    "tabu_l_g = TabuSearch(\n",
    "    greedy_l,\n",
    "    move=RandomMover([tabu_swap_min_max]),\n",
    "    ttl=3000,\n",
    "    max_iter=10**4 * 2,\n",
    ").solve(\n",
    "    data_l.get_data(),\n",
    "    m_l,\n",
    ")\n",
    "tabu_l_g"
   ]
  },
  {
   "cell_type": "markdown",
   "metadata": {},
   "source": [
    "## Ant Colony Optimization\n"
   ]
  },
  {
   "cell_type": "code",
   "execution_count": 6,
   "metadata": {},
   "outputs": [
    {
     "name": "stdout",
     "output_type": "stream",
     "text": [
      "CPU times: user 21min 59s, sys: 16.7 s, total: 22min 16s\n",
      "Wall time: 22min 16s\n"
     ]
    },
    {
     "data": {
      "text/plain": [
       "Statistics for partial solution 140547131961840.\n",
       "IS_FULL:True\n",
       "SETS:\n",
       "0: 60486 22890 4519 50152 90314 339195 25408 14191 342797 44229 87100\n",
       "1: 75469 7059 53692 78134 86760 254474 20176 20981 201347 311060 7314\n",
       "2: 303036 1933 74335 50322 46999 206707 49158 35129 52539 59258 49418 87578 70866 22893\n",
       "3: 28215 69547 28470 330057 208596 53582 271928 22385 45839 39175\n",
       "4: 252972 49903 23181 5979 97302 10373 21753 52164 51893 45444 27196 76620 262574\n",
       "5: 17355 27707 87539 38229 30247 27698 3606 51051 81049 1502 84625 298160 28756 29092 240534\n",
       "6: 88151 92359 1471 24611 6415 10360 89243 11501 314306 14485 60230 95204 98418 219218 66449\n",
       "7: 86687 57954 96607 94830 80539 87268 65893 47520 35133 15515 50579 211791 25811 79350 55712 41794 78372 13030 75173 70270 50472 301803\n",
       "8: 21309 50601 45821 92820 69933 40264 387162 240554 37140 86717 88870\n",
       "9: 67680 19311 49046 372906 11015 327670 16959 30807 228372 68027\n",
       "10: 375698 92018 4830 45268 78406 81724 63483 264621 91393 9948\n",
       "11: 89859 83946 38206 5999 284536 26308 234039 55124 283620\n",
       "12: 32633 92616 18793 357826 83002 83809 349541\n",
       "13: 15822 282977 90727 31435 279671 20440 71789 25873 30733 47239 44558 57889 84438\n",
       "14: 8993 40868 56716 34940 43489 87745 33906 34194 9152 23523 16676 30137\n",
       "15: 10588 34999 270015 85270 38230 94676 51914 39093 49526 62852 71640\n",
       "16: 23256 46912 289260 52350 25623 1302 4967 11812 260107 44446 46232 5968 26581 86551\n",
       "17: 346671 297393 53662 73494 63754 97998 80457 210543\n",
       "18: 98472 56643 72297 293515 23080 95292 24948 99148 40391\n",
       "19: 92414 66543 63333 6276 67749 339311 78777 82469 76385 65415\n",
       "Diffs: [  24806.   59991.   53696.   41319.  -79121.   -9325.  135946.  665628.\n",
       "  104716.  135318.   50914.   45162.  -38255.   27116. -636136. -247672.\n",
       " -131108.  167497. -252689. -117803.]\n",
       "Sum Abs Errors: 3024218.0\n",
       "STD: 234710.99693495402"
      ]
     },
     "execution_count": 6,
     "metadata": {},
     "output_type": "execute_result"
    }
   ],
   "source": [
    "# %%time\n",
    "# aco_l = ACO(\n",
    "#     ants_n=30,\n",
    "#     max_iter=1_000,\n",
    "# ).solve(\n",
    "#     data_l.get_data(),\n",
    "#     m_l,\n",
    "# )\n",
    "# aco_l\n",
    "\n",
    "# Sum Abs Errors: 3024218.0\n",
    "# STD: 234710.99693495402"
   ]
  },
  {
   "cell_type": "code",
   "execution_count": 13,
   "metadata": {},
   "outputs": [
    {
     "name": "stderr",
     "output_type": "stream",
     "text": [
      "INFO:core.data_source:Parsing file 'instances/data.wm'.\n",
      "INFO:algorithm.ant_colony_optimization:Starting 10 ACO iteration.\n",
      "INFO:algorithm.ant_colony_optimization:Starting 20 ACO iteration.\n",
      "INFO:algorithm.ant_colony_optimization:Starting 30 ACO iteration.\n",
      "INFO:algorithm.ant_colony_optimization:Starting 40 ACO iteration.\n",
      "INFO:algorithm.ant_colony_optimization:Starting 50 ACO iteration.\n",
      "INFO:algorithm.ant_colony_optimization:Starting 60 ACO iteration.\n",
      "INFO:algorithm.ant_colony_optimization:Starting 70 ACO iteration.\n",
      "INFO:algorithm.ant_colony_optimization:Starting 80 ACO iteration.\n",
      "INFO:algorithm.ant_colony_optimization:Starting 90 ACO iteration.\n",
      "INFO:algorithm.ant_colony_optimization:Starting 100 ACO iteration.\n"
     ]
    },
    {
     "name": "stdout",
     "output_type": "stream",
     "text": [
      "CPU times: user 1min 13s, sys: 240 ms, total: 1min 13s\n",
      "Wall time: 1min 13s\n"
     ]
    },
    {
     "data": {
      "text/plain": [
       "Statistics for partial solution 140276538535072.\n",
       "IS_FULL:True\n",
       "SETS:\n",
       "0: 23181 289260 87539 81724 53582 262574 14191 44229 219218\n",
       "1: 23256 66543 63333 252972 89859 35133 5979 23080 327670 25623 28470 52164 18793 30247 34194\n",
       "2: 86687 49046 73494 53692 45268 69933 30807 228372 38230 26308 52539 98418 30137 88870\n",
       "3: 92359 98472 49158 85270 3606 59258 210543\n",
       "4: 75469 1933 69547 339311 13030 260107 20981 45839 66449\n",
       "5: 282977 83946 15515 46999 50579 211791 31435 33906 10360 27196 24948 240554 51914 22385 86717 9948\n",
       "6: 4519 50322 47520 10588 293515 270015 43489 1302 38229 20440 27698 44558 311060\n",
       "7: 94830 50601 56716 56643 63754 51893 45444 49418 234039 298160 5968 65415\n",
       "8: 88151 303036 19311 4830 1471 38206 52350 34999 79350 21753 284536 60230 46232 57889 71640\n",
       "9: 60486 40868 96607 87268 65893 67749 27707 4967 86760 208596 14485 76620 28756 20176 55124 7314 76385\n",
       "10: 387162 314306 349541\n",
       "11: 28215 32633 6276 372906 297393 7059 25811 78406 35129 1502 87578\n",
       "12: 11015 72297 16959 78134 5999 357826 83002 6415 9152 83809 50472 39093 82469 49526 99148 40391 39175 84438\n",
       "13: 15822 346671 206707 63483 94676 254474 37140 44446\n",
       "14: 90727 97302 95292 26581 47239 201347 78777 91393 22893\n",
       "15: 8993 92414 92018 74335 50152 81049 71789 95204 75173 16676 70866 87100\n",
       "16: 22890 80539 45821 24611 34940 90314 339195 11501 84625 23523 29092 70270 68027 240534\n",
       "17: 375698 92616 92820 55712 97998 87745 330057 78372 51051 25408 264621 80457\n",
       "18: 57954 49903 17355 10373 279671 40264 271928 25873 30733 86551 342797\n",
       "19: 67680 21309 53662 46912 41794 89243 11812 62852 301803 283620\n",
       "Diffs: [  19023.   20841.  -84674. -457809. -163809.  174695.  106780.   16406.\n",
       "  107509.  -30714.   -5466.  -83567.  152845.    6944. -304924. -240706.\n",
       "  109407.  576080.  156927.  -75788.]\n",
       "Sum Abs Errors: 2894914.0\n",
       "STD: 206715.8073933873"
      ]
     },
     "execution_count": 13,
     "metadata": {},
     "output_type": "execute_result"
    }
   ],
   "source": [
    "%%time\n",
    "aco_l = ACO(\n",
    "    ants_n=20,\n",
    "    max_iter=1_00,\n",
    ").solve(\n",
    "    data_l.get_data(),\n",
    "    m_l,\n",
    ")\n",
    "aco_l"
   ]
  },
  {
   "cell_type": "markdown",
   "metadata": {},
   "source": [
    "## Genetic Algorithms"
   ]
  },
  {
   "cell_type": "code",
   "execution_count": 33,
   "metadata": {},
   "outputs": [
    {
     "name": "stderr",
     "output_type": "stream",
     "text": [
      "INFO:core.data_source:Parsing file 'instances/data.wm'.\n",
      "INFO:algorithm.genetic:Starting 10 GA iteration.\n",
      "INFO:algorithm.genetic:Starting 20 GA iteration.\n",
      "INFO:algorithm.genetic:Starting 30 GA iteration.\n",
      "INFO:algorithm.genetic:Starting 40 GA iteration.\n",
      "INFO:algorithm.genetic:Starting 50 GA iteration.\n",
      "INFO:algorithm.genetic:Starting 60 GA iteration.\n",
      "INFO:algorithm.genetic:Starting 70 GA iteration.\n",
      "INFO:algorithm.genetic:Starting 80 GA iteration.\n",
      "INFO:algorithm.genetic:Starting 90 GA iteration.\n",
      "INFO:algorithm.genetic:Starting 100 GA iteration.\n",
      "INFO:algorithm.genetic:Starting 110 GA iteration.\n",
      "INFO:algorithm.genetic:Starting 120 GA iteration.\n",
      "INFO:algorithm.genetic:Starting 130 GA iteration.\n",
      "INFO:algorithm.genetic:Starting 140 GA iteration.\n",
      "INFO:algorithm.genetic:Starting 150 GA iteration.\n",
      "INFO:algorithm.genetic:Starting 160 GA iteration.\n",
      "INFO:algorithm.genetic:Starting 170 GA iteration.\n",
      "INFO:algorithm.genetic:Starting 180 GA iteration.\n",
      "INFO:algorithm.genetic:Starting 190 GA iteration.\n",
      "INFO:algorithm.genetic:Starting 200 GA iteration.\n",
      "INFO:algorithm.genetic:Starting 210 GA iteration.\n",
      "INFO:algorithm.genetic:Starting 220 GA iteration.\n",
      "INFO:algorithm.genetic:Starting 230 GA iteration.\n",
      "INFO:algorithm.genetic:Starting 240 GA iteration.\n",
      "INFO:algorithm.genetic:Starting 250 GA iteration.\n",
      "INFO:algorithm.genetic:Starting 260 GA iteration.\n",
      "INFO:algorithm.genetic:Starting 270 GA iteration.\n",
      "INFO:algorithm.genetic:Starting 280 GA iteration.\n",
      "INFO:algorithm.genetic:Starting 290 GA iteration.\n",
      "INFO:algorithm.genetic:Starting 300 GA iteration.\n",
      "INFO:algorithm.genetic:Starting 310 GA iteration.\n",
      "INFO:algorithm.genetic:Starting 320 GA iteration.\n",
      "INFO:algorithm.genetic:Starting 330 GA iteration.\n",
      "INFO:algorithm.genetic:Starting 340 GA iteration.\n",
      "INFO:algorithm.genetic:Starting 350 GA iteration.\n",
      "INFO:algorithm.genetic:Starting 360 GA iteration.\n",
      "INFO:algorithm.genetic:Starting 370 GA iteration.\n",
      "INFO:algorithm.genetic:Starting 380 GA iteration.\n",
      "INFO:algorithm.genetic:Starting 390 GA iteration.\n",
      "INFO:algorithm.genetic:Starting 400 GA iteration.\n",
      "INFO:algorithm.genetic:Starting 410 GA iteration.\n",
      "INFO:algorithm.genetic:Starting 420 GA iteration.\n",
      "INFO:algorithm.genetic:Starting 430 GA iteration.\n",
      "INFO:algorithm.genetic:Starting 440 GA iteration.\n",
      "INFO:algorithm.genetic:Starting 450 GA iteration.\n",
      "INFO:algorithm.genetic:Starting 460 GA iteration.\n",
      "INFO:algorithm.genetic:Starting 470 GA iteration.\n",
      "INFO:algorithm.genetic:Starting 480 GA iteration.\n",
      "INFO:algorithm.genetic:Starting 490 GA iteration.\n",
      "INFO:algorithm.genetic:Starting 500 GA iteration.\n"
     ]
    },
    {
     "name": "stdout",
     "output_type": "stream",
     "text": [
      "CPU times: user 8min 40s, sys: 210 ms, total: 8min 41s\n",
      "Wall time: 8min 40s\n"
     ]
    },
    {
     "data": {
      "text/plain": [
       "Statistics for partial solution 140276441584592.\n",
       "IS_FULL:True\n",
       "SETS:\n",
       "0: 65893 17355 289260 16959 339311 33906 3606 208596 37140 44446\n",
       "1: 53662 92616 10588 270015 38230 45444 52539 40264 59258 84625 44558 240534 14191 9948\n",
       "2: 86687 15822 40868 4830 56716 73494 56643 38206 55712 52164 30247 234039 311060\n",
       "3: 252972 297393 25623 51051 25408 9152 83809 20981 40391 210543 39175\n",
       "4: 32633 375698 74335 50152 69547 34999 27707 206707 21753 86551 76385\n",
       "5: 22890 372906 92018 23181 75173 5968 22385 99148 342797\n",
       "6: 50601 50322 50579 45268 72297 23080 87539 30807 18793 35129 49418 240554 264621 30137 7314\n",
       "7: 303036 63333 21309 11015 92820 69933 78134 20440 94676 301803\n",
       "8: 63754 81724 387162 298160 50472 39093 47239 88870\n",
       "9: 67680 94830 1471 25811 46912 52350 327670 38229 78372 86760 53582 71789 26581 84438\n",
       "10: 8993 1933 34940 41794 87745 357826 83002 27196 63483 349541\n",
       "11: 282977 96607 89859 35133 90727 46999 67749 31435 28470 95292 13030 14485 76620 87100\n",
       "12: 75469 23256 92359 346671 83946 5979 98472 60230 45839 201347 22893\n",
       "13: 88151 4519 211791 1302 284536 11501 70270 30733 68027 219218 66449\n",
       "14: 28215 49903 5999 81049 11812 260107 254474 28756 46232 82469 62852 86717 57889\n",
       "15: 60486 92414 6276 80539 78406 279671 26308 27698 24948 314306 65415\n",
       "16: 66543 45821 15515 10373 85270 339195 97998 6415 89243 87578 23523 51914 16676 70866 49526\n",
       "17: 57954 47520 90314 4967 330057 10360 271928 98418 29092 44229 71640\n",
       "18: 49046 293515 79350 228372 1502 95204 25873 283620\n",
       "19: 19311 87268 7059 97302 53692 24611 49158 43489 51893 34194 20176 55124 262574 80457 78777 91393\n",
       "Diffs: [ -3.  -3.  13.  23.  -8.  -9. -16.  24.  -1.   0. -22.   8. -14.  22.\n",
       "  -1.  -8. -19.   4.   7.   3.]\n",
       "Sum Abs Errors: 208.0\n",
       "STD: 13.080519867344723"
      ]
     },
     "execution_count": 33,
     "metadata": {},
     "output_type": "execute_result"
    }
   ],
   "source": [
    "%%time\n",
    "gen_l = GeneticAlgorithm(\n",
    "    crossover=HalfCrossover,\n",
    "    mutation=consequent_greedy,\n",
    "    population_size=500,\n",
    "    max_iter=500,\n",
    "    mutations_n=100,\n",
    "    crossover_n=200,\n",
    "    old_livers_n=25,\n",
    "    elite_n=50,\n",
    "    selection_n=250,\n",
    ").solve(\n",
    "    data_l.get_data(),\n",
    "    m_l,\n",
    ")\n",
    "gen_l"
   ]
  },
  {
   "cell_type": "code",
   "execution_count": 34,
   "metadata": {},
   "outputs": [
    {
     "name": "stderr",
     "output_type": "stream",
     "text": [
      "INFO:core.data_source:Parsing file 'instances/data.wm'.\n",
      "INFO:algorithm.genetic:Starting 5 Parallel GA iteration.\n",
      "INFO:algorithm.genetic:Starting 10 Parallel GA iteration.\n",
      "INFO:algorithm.genetic:Starting 15 Parallel GA iteration.\n",
      "INFO:algorithm.genetic:Starting 20 Parallel GA iteration.\n",
      "INFO:algorithm.genetic:Starting 25 Parallel GA iteration.\n",
      "INFO:algorithm.genetic:Starting 30 Parallel GA iteration.\n",
      "INFO:algorithm.genetic:Starting 35 Parallel GA iteration.\n",
      "INFO:algorithm.genetic:Starting 40 Parallel GA iteration.\n",
      "INFO:algorithm.genetic:Starting 45 Parallel GA iteration.\n",
      "INFO:algorithm.genetic:Starting 50 Parallel GA iteration.\n",
      "INFO:algorithm.genetic:Starting 55 Parallel GA iteration.\n",
      "INFO:algorithm.genetic:Starting 60 Parallel GA iteration.\n",
      "INFO:algorithm.genetic:Starting 65 Parallel GA iteration.\n",
      "INFO:algorithm.genetic:Starting 70 Parallel GA iteration.\n",
      "INFO:algorithm.genetic:Starting 75 Parallel GA iteration.\n",
      "INFO:algorithm.genetic:Starting 80 Parallel GA iteration.\n"
     ]
    },
    {
     "name": "stdout",
     "output_type": "stream",
     "text": [
      "CPU times: user 6min 41s, sys: 66.7 ms, total: 6min 41s\n",
      "Wall time: 6min 41s\n"
     ]
    },
    {
     "data": {
      "text/plain": [
       "Statistics for partial solution 140276444701408.\n",
       "IS_FULL:True\n",
       "SETS:\n",
       "0: 375698 65893 92616 5979 211791 27707 201347 68027 7314\n",
       "1: 75469 8993 303036 22890 21309 35133 87539 81724 45444 60230 234039 28756 51914\n",
       "2: 63333 4519 17355 46999 35129 357826 63483 95204 5968 78777 40391 91393 84438 71640\n",
       "3: 346671 66543 297393 7059 4830 10588 45268 92820 33906 51051 11812 1502 87100\n",
       "4: 53662 50579 21753 97998 30247 81049 271928 22385 50472 311060 65415\n",
       "5: 50152 67749 206707 26308 87745 52539 301803 44229 219218\n",
       "6: 67680 89859 45821 50322 83946 46912 72297 34940 339195 38230 27698 14485 23523 55124 66449\n",
       "7: 96607 69547 97302 85270 38229 78372 387162 94676 70270 39093\n",
       "8: 88151 47520 90314 10373 52164 95292 20440 314306 26581 70866 240534\n",
       "9: 40868 24611 25623 78406 284536 84625 298160 20176 83809 29092 86551\n",
       "10: 80539 50601 74335 56716 15515 289260 339311 30807 49418 16676 14191 39175\n",
       "11: 23256 78134 28470 5999 18793 4967 330057 83002 6415 53582 254474 80457 88870\n",
       "12: 60486 57954 92414 6276 73494 43489 228372 25873 45839 76385 49526 62852 210543 22893\n",
       "13: 92359 49046 94830 16959 270015 41794 3606 40264 34194 47239 82469 283620\n",
       "14: 32633 87268 1471 51893 24948 260107 87578 37140 98418 25408 349541\n",
       "15: 86687 1933 372906 92018 98472 25811 38206 34999 23080 31435 10360 240554\n",
       "16: 28215 282977 49903 56643 53692 69933 13030 208596 20981 262574 9948\n",
       "17: 11015 23181 63754 293515 327670 11501 71789 46232 75173 30137 44558 57889\n",
       "18: 15822 252972 52350 49158 279671 1302 89243 76620 44446 9152 99148 86717\n",
       "19: 19311 90727 79350 55712 59258 27196 86760 264621 30733 342797\n",
       "Diffs: [-103.    1.  -20.   68.   73.  -25.    6.   53.   66.  -18.   69.    1.\n",
       "  -79.  -80.  -70.  -14.   17.  -61.  126.  -10.]\n",
       "Sum Abs Errors: 960.0\n",
       "STD: 59.8322655429326"
      ]
     },
     "execution_count": 34,
     "metadata": {},
     "output_type": "execute_result"
    }
   ],
   "source": [
    "%%time\n",
    "gen_par_l = ParallelGenetic(\n",
    "    crossover=HalfCrossover,\n",
    "    mutation=consequent_greedy,\n",
    "    population_size=500,\n",
    "    max_iter=80,\n",
    "    mutations_n=100,\n",
    "    crossover_n=100,\n",
    "    old_livers_n=25,\n",
    "    elite_n=50,\n",
    "    selection_n=250,\n",
    "    part_to_share=0.1,\n",
    "    experiments_n=5,\n",
    ").solve(\n",
    "    data_l.get_data(),\n",
    "    m_l,\n",
    ")\n",
    "gen_par_l"
   ]
  },
  {
   "cell_type": "markdown",
   "metadata": {},
   "source": [
    "# Benchmarking"
   ]
  },
  {
   "cell_type": "code",
   "execution_count": 16,
   "metadata": {},
   "outputs": [],
   "source": [
    "import pandas as pd\n",
    "\n",
    "import matplotlib as mpl\n",
    "import matplotlib.pyplot as plt"
   ]
  },
  {
   "cell_type": "code",
   "execution_count": 37,
   "metadata": {},
   "outputs": [
    {
     "data": {
      "text/html": [
       "<div>\n",
       "<style scoped>\n",
       "    .dataframe tbody tr th:only-of-type {\n",
       "        vertical-align: middle;\n",
       "    }\n",
       "\n",
       "    .dataframe tbody tr th {\n",
       "        vertical-align: top;\n",
       "    }\n",
       "\n",
       "    .dataframe thead th {\n",
       "        text-align: right;\n",
       "    }\n",
       "</style>\n",
       "<table border=\"1\" class=\"dataframe\">\n",
       "  <thead>\n",
       "    <tr style=\"text-align: right;\">\n",
       "      <th></th>\n",
       "      <th>Algorithm</th>\n",
       "      <th>Sum Abs Errors</th>\n",
       "    </tr>\n",
       "  </thead>\n",
       "  <tbody>\n",
       "    <tr>\n",
       "      <th>0</th>\n",
       "      <td>Greedy tl=300</td>\n",
       "      <td>9332.0</td>\n",
       "    </tr>\n",
       "    <tr>\n",
       "      <th>1</th>\n",
       "      <td>Karmarkar-Karp</td>\n",
       "      <td>10714.0</td>\n",
       "    </tr>\n",
       "    <tr>\n",
       "      <th>2</th>\n",
       "      <td>Simulated Annealing. Greedy</td>\n",
       "      <td>140.0</td>\n",
       "    </tr>\n",
       "    <tr>\n",
       "      <th>3</th>\n",
       "      <td>Simulated Annealing. KK</td>\n",
       "      <td>254.0</td>\n",
       "    </tr>\n",
       "    <tr>\n",
       "      <th>4</th>\n",
       "      <td>Tabu Search. Greedy</td>\n",
       "      <td>5814.0</td>\n",
       "    </tr>\n",
       "    <tr>\n",
       "      <th>5</th>\n",
       "      <td>Tabu Search. KK</td>\n",
       "      <td>7474.0</td>\n",
       "    </tr>\n",
       "    <tr>\n",
       "      <th>6</th>\n",
       "      <td>Genetic</td>\n",
       "      <td>208.0</td>\n",
       "    </tr>\n",
       "    <tr>\n",
       "      <th>7</th>\n",
       "      <td>Genetic Parallel</td>\n",
       "      <td>960.0</td>\n",
       "    </tr>\n",
       "  </tbody>\n",
       "</table>\n",
       "</div>"
      ],
      "text/plain": [
       "                     Algorithm  Sum Abs Errors\n",
       "0                Greedy tl=300          9332.0\n",
       "1               Karmarkar-Karp         10714.0\n",
       "2  Simulated Annealing. Greedy           140.0\n",
       "3      Simulated Annealing. KK           254.0\n",
       "4          Tabu Search. Greedy          5814.0\n",
       "5              Tabu Search. KK          7474.0\n",
       "6                      Genetic           208.0\n",
       "7             Genetic Parallel           960.0"
      ]
     },
     "execution_count": 37,
     "metadata": {},
     "output_type": "execute_result"
    }
   ],
   "source": [
    "df = pd.DataFrame(\n",
    "    [\n",
    "        [f\"Greedy tl={exact_tl}\", greedy_l.abs_error],\n",
    "        [\"Karmarkar-Karp\", kk_l.abs_error],\n",
    "        [\"Simulated Annealing. Greedy\", sa_l_g.abs_error],\n",
    "        [\"Simulated Annealing. KK\", sa_l_kk.abs_error],\n",
    "        [\"Tabu Search. Greedy\", tabu_l_g.abs_error],\n",
    "        [\"Tabu Search. KK\", tabu_l_kk.abs_error],\n",
    "        [\"Genetic\", gen_l.abs_error],\n",
    "        [\"Genetic Parallel\", gen_par_l.abs_error],\n",
    "#         [\"ACO\", aco_l.abs_error],\n",
    "    ],\n",
    "    columns=['Algorithm', \"Sum Abs Errors\"]\n",
    ")\n",
    "df"
   ]
  },
  {
   "cell_type": "code",
   "execution_count": 38,
   "metadata": {},
   "outputs": [
    {
     "data": {
      "image/png": "[encoded data removed]",
      "text/plain": [
       "<Figure size 432x288 with 1 Axes>"
      ]
     },
     "metadata": {
      "needs_background": "light"
     },
     "output_type": "display_data"
    }
   ],
   "source": [
    "df[[\"Algorithm\", \"Sum Abs Errors\"]].set_index(\"Algorithm\").plot.bar(title='Sum of Absolute Errors / Algorithm');"
   ]
  },
  {
   "cell_type": "code",
   "execution_count": null,
   "metadata": {
    "pycharm": {
     "name": "#%%\n"
    }
   },
   "outputs": [],
   "source": []
  }
 ],
 "metadata": {
  "interpreter": {
   "hash": "64cdf6a9d8450618308b74148338172be787ceddd58ac68f39110dafa8fb1e37"
  },
  "kernelspec": {
   "display_name": "Python 3 (ipykernel)",
   "language": "python",
   "name": "python3"
  },
  "language_info": {
   "codemirror_mode": {
    "name": "ipython",
    "version": 3
   },
   "file_extension": ".py",
   "mimetype": "text/x-python",
   "name": "python",
   "nbconvert_exporter": "python",
   "pygments_lexer": "ipython3",
   "version": "3.8.10"
  }
 },
 "nbformat": 4,
 "nbformat_minor": 2
}
